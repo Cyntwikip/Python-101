{
 "cells": [
  {
   "attachments": {},
   "cell_type": "markdown",
   "metadata": {},
   "source": [
    "## Machine Learning Workshop\n",
    "\n",
    "*Prepared by:*\n",
    "**Jude Michael Teves**   \n",
    "Faculty, Software Technology Department  \n",
    "College of Computer Studies - De La Salle University"
   ]
  },
  {
   "cell_type": "markdown",
   "metadata": {},
   "source": [
    "## Import libraries"
   ]
  },
  {
   "cell_type": "code",
   "execution_count": 1,
   "metadata": {
    "execution": {
     "iopub.execute_input": "2022-01-29T03:20:35.142379Z",
     "iopub.status.busy": "2022-01-29T03:20:35.141378Z",
     "iopub.status.idle": "2022-01-29T03:20:38.040093Z",
     "shell.execute_reply": "2022-01-29T03:20:38.039094Z",
     "shell.execute_reply.started": "2022-01-29T03:20:35.142379Z"
    },
    "tags": []
   },
   "outputs": [
    {
     "name": "stderr",
     "output_type": "stream",
     "text": [
      "C:\\Anaconda\\lib\\site-packages\\statsmodels\\tools\\_testing.py:19: FutureWarning: pandas.util.testing is deprecated. Use the functions in the public API at pandas.testing instead.\n",
      "  import pandas.util.testing as tm\n"
     ]
    }
   ],
   "source": [
    "import numpy as np\n",
    "import pandas as pd\n",
    "import matplotlib.pyplot as plt\n",
    "import seaborn as sns\n",
    "\n",
    "from sklearn import datasets\n",
    "from sklearn.model_selection import train_test_split\n",
    "from sklearn.neighbors import KNeighborsClassifier\n",
    "\n",
    "sns.set_style('darkgrid')"
   ]
  },
  {
   "cell_type": "markdown",
   "metadata": {},
   "source": [
    "## Loading Data\n",
    "\n",
    "In the cell below, we will be loading the Titanic dataset, a popular toy dataset."
   ]
  },
  {
   "cell_type": "code",
   "execution_count": 2,
   "metadata": {},
   "outputs": [
    {
     "data": {
      "text/html": [
       "<div>\n",
       "<style scoped>\n",
       "    .dataframe tbody tr th:only-of-type {\n",
       "        vertical-align: middle;\n",
       "    }\n",
       "\n",
       "    .dataframe tbody tr th {\n",
       "        vertical-align: top;\n",
       "    }\n",
       "\n",
       "    .dataframe thead th {\n",
       "        text-align: right;\n",
       "    }\n",
       "</style>\n",
       "<table border=\"1\" class=\"dataframe\">\n",
       "  <thead>\n",
       "    <tr style=\"text-align: right;\">\n",
       "      <th></th>\n",
       "      <th>PassengerId</th>\n",
       "      <th>Survived</th>\n",
       "      <th>Pclass</th>\n",
       "      <th>Name</th>\n",
       "      <th>Sex</th>\n",
       "      <th>Age</th>\n",
       "      <th>SibSp</th>\n",
       "      <th>Parch</th>\n",
       "      <th>Ticket</th>\n",
       "      <th>Fare</th>\n",
       "      <th>Cabin</th>\n",
       "      <th>Embarked</th>\n",
       "    </tr>\n",
       "  </thead>\n",
       "  <tbody>\n",
       "    <tr>\n",
       "      <th>0</th>\n",
       "      <td>1</td>\n",
       "      <td>0</td>\n",
       "      <td>3</td>\n",
       "      <td>Braund, Mr. Owen Harris</td>\n",
       "      <td>male</td>\n",
       "      <td>22.0</td>\n",
       "      <td>1</td>\n",
       "      <td>0</td>\n",
       "      <td>A/5 21171</td>\n",
       "      <td>7.2500</td>\n",
       "      <td>NaN</td>\n",
       "      <td>S</td>\n",
       "    </tr>\n",
       "    <tr>\n",
       "      <th>1</th>\n",
       "      <td>2</td>\n",
       "      <td>1</td>\n",
       "      <td>1</td>\n",
       "      <td>Cumings, Mrs. John Bradley (Florence Briggs Th...</td>\n",
       "      <td>female</td>\n",
       "      <td>38.0</td>\n",
       "      <td>1</td>\n",
       "      <td>0</td>\n",
       "      <td>PC 17599</td>\n",
       "      <td>71.2833</td>\n",
       "      <td>C85</td>\n",
       "      <td>C</td>\n",
       "    </tr>\n",
       "    <tr>\n",
       "      <th>2</th>\n",
       "      <td>3</td>\n",
       "      <td>1</td>\n",
       "      <td>3</td>\n",
       "      <td>Heikkinen, Miss. Laina</td>\n",
       "      <td>female</td>\n",
       "      <td>26.0</td>\n",
       "      <td>0</td>\n",
       "      <td>0</td>\n",
       "      <td>STON/O2. 3101282</td>\n",
       "      <td>7.9250</td>\n",
       "      <td>NaN</td>\n",
       "      <td>S</td>\n",
       "    </tr>\n",
       "    <tr>\n",
       "      <th>3</th>\n",
       "      <td>4</td>\n",
       "      <td>1</td>\n",
       "      <td>1</td>\n",
       "      <td>Futrelle, Mrs. Jacques Heath (Lily May Peel)</td>\n",
       "      <td>female</td>\n",
       "      <td>35.0</td>\n",
       "      <td>1</td>\n",
       "      <td>0</td>\n",
       "      <td>113803</td>\n",
       "      <td>53.1000</td>\n",
       "      <td>C123</td>\n",
       "      <td>S</td>\n",
       "    </tr>\n",
       "    <tr>\n",
       "      <th>4</th>\n",
       "      <td>5</td>\n",
       "      <td>0</td>\n",
       "      <td>3</td>\n",
       "      <td>Allen, Mr. William Henry</td>\n",
       "      <td>male</td>\n",
       "      <td>35.0</td>\n",
       "      <td>0</td>\n",
       "      <td>0</td>\n",
       "      <td>373450</td>\n",
       "      <td>8.0500</td>\n",
       "      <td>NaN</td>\n",
       "      <td>S</td>\n",
       "    </tr>\n",
       "  </tbody>\n",
       "</table>\n",
       "</div>"
      ],
      "text/plain": [
       "   PassengerId  Survived  Pclass  \\\n",
       "0            1         0       3   \n",
       "1            2         1       1   \n",
       "2            3         1       3   \n",
       "3            4         1       1   \n",
       "4            5         0       3   \n",
       "\n",
       "                                                Name     Sex   Age  SibSp  \\\n",
       "0                            Braund, Mr. Owen Harris    male  22.0      1   \n",
       "1  Cumings, Mrs. John Bradley (Florence Briggs Th...  female  38.0      1   \n",
       "2                             Heikkinen, Miss. Laina  female  26.0      0   \n",
       "3       Futrelle, Mrs. Jacques Heath (Lily May Peel)  female  35.0      1   \n",
       "4                           Allen, Mr. William Henry    male  35.0      0   \n",
       "\n",
       "   Parch            Ticket     Fare Cabin Embarked  \n",
       "0      0         A/5 21171   7.2500   NaN        S  \n",
       "1      0          PC 17599  71.2833   C85        C  \n",
       "2      0  STON/O2. 3101282   7.9250   NaN        S  \n",
       "3      0            113803  53.1000  C123        S  \n",
       "4      0            373450   8.0500   NaN        S  "
      ]
     },
     "execution_count": 2,
     "metadata": {},
     "output_type": "execute_result"
    }
   ],
   "source": [
    "df = pd.read_csv('https://raw.githubusercontent.com/Cyntwikip/data-repository/main/titanic.csv')\n",
    "df.head()"
   ]
  },
  {
   "cell_type": "markdown",
   "metadata": {},
   "source": [
    "## Data Dictionary\n",
    "\n",
    "|Variable|Definition|Key|\n",
    "|---|---|---|\n",
    "|Survived|Survival|0 = No, 1 = Yes|\n",
    "|Pclass|Ticket class. Can be used as proxy for socio-economic status|1 = Upper, 2 = Middle, 3 = Lower|\n",
    "|Sex|Sex||\t\n",
    "|Age|Age in years||\t\n",
    "|Sibsp|# of siblings / spouses aboard the Titanic||\n",
    "|Parch|\t# of parents / children aboard the Titanic||\t\n",
    "|Ticket|Ticket number||\n",
    "|Fare|Passenger fare||\t\n",
    "|Cabin|Cabin number||\t\n",
    "|Embarked|Port of Embarkation|C = Cherbourg, Q = Queenstown, S = Southampton|\n",
    "\n",
    "\n",
    "\n",
    "Notes:\n",
    "\n",
    "- Age: Age is fractional if less than 1. If the age is estimated, is it in the form of xx.5\n",
    "\n",
    "- Sibsp: The dataset defines family relations in this way...  \n",
    "Sibling = brother, sister, stepbrother, stepsister  \n",
    "Spouse = husband, wife (mistresses and fiancés were ignored)  \n",
    "\n",
    "- Parch: The dataset defines family relations in this way...  \n",
    "Parent = mother, father  \n",
    "Child = daughter, son, stepdaughter, stepson  \n",
    "Some children travelled only with a nanny, therefore parch=0 for them."
   ]
  },
  {
   "cell_type": "markdown",
   "metadata": {},
   "source": [
    "## Exploratory Data Analysis\n",
    "\n",
    "Like most data science projects, we perform EDA so that we better understand the data we are dealing with."
   ]
  },
  {
   "cell_type": "markdown",
   "metadata": {},
   "source": [
    "### Class Distribution\n",
    "\n",
    "We visualize the class distribution in the cell below. The dominant passenger class is the lower class."
   ]
  },
  {
   "cell_type": "code",
   "execution_count": 3,
   "metadata": {
    "execution": {
     "iopub.execute_input": "2022-01-29T03:20:38.990164Z",
     "iopub.status.busy": "2022-01-29T03:20:38.990164Z",
     "iopub.status.idle": "2022-01-29T03:20:39.364162Z",
     "shell.execute_reply": "2022-01-29T03:20:39.363164Z",
     "shell.execute_reply.started": "2022-01-29T03:20:38.990164Z"
    },
    "tags": []
   },
   "outputs": [
    {
     "data": {
      "image/png": "[encoded data removed]",
      "text/plain": [
       "<Figure size 500x300 with 1 Axes>"
      ]
     },
     "metadata": {},
     "output_type": "display_data"
    }
   ],
   "source": [
    "fig, ax = plt.subplots(1,1, figsize=(5,3), dpi=100)\n",
    "df['Pclass'].value_counts().plot(kind='bar')\n",
    "plt.title('Class distribution')\n",
    "plt.xticks(rotation=0)\n",
    "plt.xlabel('Class')\n",
    "plt.ylabel('Count')\n",
    "plt.show()"
   ]
  },
  {
   "cell_type": "markdown",
   "metadata": {},
   "source": [
    "### Sex Distribution\n",
    "\n",
    "There are more male passengers."
   ]
  },
  {
   "cell_type": "code",
   "execution_count": 4,
   "metadata": {
    "execution": {
     "iopub.execute_input": "2022-01-29T03:20:39.366163Z",
     "iopub.status.busy": "2022-01-29T03:20:39.366163Z",
     "iopub.status.idle": "2022-01-29T03:20:39.569495Z",
     "shell.execute_reply": "2022-01-29T03:20:39.568495Z",
     "shell.execute_reply.started": "2022-01-29T03:20:39.366163Z"
    },
    "tags": []
   },
   "outputs": [
    {
     "data": {
      "image/png": "[encoded data removed]",
      "text/plain": [
       "<Figure size 500x300 with 1 Axes>"
      ]
     },
     "metadata": {},
     "output_type": "display_data"
    }
   ],
   "source": [
    "fig, ax = plt.subplots(1,1, figsize=(5,3), dpi=100)\n",
    "df['Sex'].value_counts().plot(kind='bar')\n",
    "plt.title('Sex distribution')\n",
    "plt.xticks(rotation=0)\n",
    "plt.xlabel('Sex')\n",
    "plt.ylabel('Count')\n",
    "plt.show()"
   ]
  },
  {
   "cell_type": "markdown",
   "metadata": {},
   "source": [
    "but more female passengers survived..."
   ]
  },
  {
   "cell_type": "code",
   "execution_count": 5,
   "metadata": {},
   "outputs": [
    {
     "data": {
      "image/png": "[encoded data removed]",
      "text/plain": [
       "<Figure size 600x300 with 1 Axes>"
      ]
     },
     "metadata": {},
     "output_type": "display_data"
    }
   ],
   "source": [
    "fig, ax = plt.subplots(1,1, figsize=(6,3), dpi=100)\n",
    "\n",
    "sns.barplot(\n",
    "    data=df[['Survived','Sex','Pclass']].rename({'Pclass':'Passenger Count'}, axis=1).groupby(['Survived','Sex']).count().reset_index(), \n",
    "    x=\"Sex\", y=\"Passenger Count\", hue=\"Survived\", ax=ax\n",
    ")\n",
    "plt.title('Sex distribution')\n",
    "plt.show()"
   ]
  },
  {
   "cell_type": "markdown",
   "metadata": {},
   "source": [
    "### Fare Distribution\n",
    "\n",
    "The fare distribution is skewed to the right--most passenger have low fares."
   ]
  },
  {
   "cell_type": "code",
   "execution_count": 6,
   "metadata": {
    "execution": {
     "iopub.execute_input": "2022-01-29T03:20:39.572660Z",
     "iopub.status.busy": "2022-01-29T03:20:39.572660Z",
     "iopub.status.idle": "2022-01-29T03:20:39.836497Z",
     "shell.execute_reply": "2022-01-29T03:20:39.835497Z",
     "shell.execute_reply.started": "2022-01-29T03:20:39.572660Z"
    },
    "tags": []
   },
   "outputs": [
    {
     "name": "stdout",
     "output_type": "stream",
     "text": [
      "Max Fare: 512.3292 | Min Fare: 0.0\n"
     ]
    },
    {
     "data": {
      "image/png": "[encoded data removed]",
      "text/plain": [
       "<Figure size 700x300 with 1 Axes>"
      ]
     },
     "metadata": {},
     "output_type": "display_data"
    }
   ],
   "source": [
    "print(f\"Max Fare: {df.Fare.max()} | Min Fare: {df.Fare.min()}\")\n",
    "fig, ax = plt.subplots(1,1, figsize=(7,3), dpi=100)\n",
    "df['Fare'].hist()\n",
    "plt.title('Fare distribution')\n",
    "plt.xlabel('Fare')\n",
    "plt.ylabel('Count')\n",
    "plt.show()"
   ]
  },
  {
   "cell_type": "markdown",
   "metadata": {},
   "source": [
    "### Exercise 1: Title Distribution\n",
    "\n",
    "We will be extracting the titles of the passengers and visualize them. Time to practice your Python skills! Implement a function that extracts the title given a name."
   ]
  },
  {
   "cell_type": "code",
   "execution_count": 7,
   "metadata": {},
   "outputs": [],
   "source": [
    "def get_title(name:str) -> str:\n",
    "    '''\n",
    "    Extracts the title given a name.\n",
    "    \n",
    "    Parameters\n",
    "    ----------\n",
    "    name : str\n",
    "        The passenger's name.\n",
    "        \n",
    "    Returns\n",
    "    ----------\n",
    "    str\n",
    "        The title of the passenger extracted from the name.\n",
    "    '''\n",
    "    \n",
    "    # YOUR CODE HERE\n",
    "    return title"
   ]
  },
  {
   "cell_type": "code",
   "execution_count": 8,
   "metadata": {},
   "outputs": [
    {
     "data": {
      "text/plain": [
       "'Mr.'"
      ]
     },
     "execution_count": 8,
     "metadata": {},
     "output_type": "execute_result"
    }
   ],
   "source": [
    "sample_name = \"Braund, Mr. Owen Harris\" \n",
    "get_title(sample_name) # this should return Mr."
   ]
  },
  {
   "cell_type": "code",
   "execution_count": 9,
   "metadata": {},
   "outputs": [
    {
     "data": {
      "text/plain": [
       "'Mrs.'"
      ]
     },
     "execution_count": 9,
     "metadata": {},
     "output_type": "execute_result"
    }
   ],
   "source": [
    "sample_name = \"Cumings, Mrs. John Bradley (Florence Briggs Thayer)\"\n",
    "get_title(sample_name) # this should return Mrs."
   ]
  },
  {
   "cell_type": "code",
   "execution_count": 10,
   "metadata": {},
   "outputs": [
    {
     "data": {
      "text/plain": [
       "'Miss.'"
      ]
     },
     "execution_count": 10,
     "metadata": {},
     "output_type": "execute_result"
    }
   ],
   "source": [
    "sample_name = \"Heikkinen, Miss. Laina\"\n",
    "get_title(sample_name) # this should return Miss."
   ]
  },
  {
   "cell_type": "code",
   "execution_count": 11,
   "metadata": {},
   "outputs": [
    {
     "data": {
      "text/plain": [
       "Mr.          517\n",
       "Miss.        182\n",
       "Mrs.         125\n",
       "Master.       40\n",
       "Dr.            7\n",
       "Rev.           6\n",
       "Major.         2\n",
       "Mlle.          2\n",
       "Col.           2\n",
       "Mme.           1\n",
       "Don.           1\n",
       "Ms.            1\n",
       "Jonkheer.      1\n",
       "Sir.           1\n",
       "the            1\n",
       "Capt.          1\n",
       "Lady.          1\n",
       "Name: Name, dtype: int64"
      ]
     },
     "execution_count": 11,
     "metadata": {},
     "output_type": "execute_result"
    }
   ],
   "source": [
    "# run the code below once you have implemented the `get_title` function\n",
    "title_counts = df['Name'].apply(get_title).value_counts()\n",
    "title_counts"
   ]
  },
  {
   "cell_type": "code",
   "execution_count": 12,
   "metadata": {},
   "outputs": [
    {
     "data": {
      "image/png": "[encoded data removed]",
      "text/plain": [
       "<Figure size 500x600 with 1 Axes>"
      ]
     },
     "metadata": {},
     "output_type": "display_data"
    }
   ],
   "source": [
    "fig, ax = plt.subplots(1,1, figsize=(5,6), dpi=100)\n",
    "title_counts.sort_values(ascending=True).plot(kind='barh')\n",
    "plt.title('Title distribution')\n",
    "plt.xticks(rotation=0)\n",
    "plt.xlabel('Count')\n",
    "plt.ylabel('Title')\n",
    "plt.show()"
   ]
  },
  {
   "cell_type": "markdown",
   "metadata": {},
   "source": [
    "## Machine Learning\n",
    "\n",
    "Let's make this more fun! Let's use Machine Learning to predict if a passenger will survive. For now, we will only be using the `Pclass`, `Sex`, and `Fare` features to make things simple."
   ]
  },
  {
   "cell_type": "markdown",
   "metadata": {},
   "source": [
    "## Data Preparation\n",
    "\n",
    "In Machine Learning, `X` and `y` are usually the variable names for the input and output data respectively."
   ]
  },
  {
   "cell_type": "code",
   "execution_count": 13,
   "metadata": {
    "execution": {
     "iopub.execute_input": "2022-01-29T03:20:39.838498Z",
     "iopub.status.busy": "2022-01-29T03:20:39.838498Z",
     "iopub.status.idle": "2022-01-29T03:20:39.867495Z",
     "shell.execute_reply": "2022-01-29T03:20:39.866496Z",
     "shell.execute_reply.started": "2022-01-29T03:20:39.838498Z"
    },
    "tags": []
   },
   "outputs": [],
   "source": [
    "X = df[['Pclass', 'Sex', 'Fare']]\n",
    "X = pd.get_dummies(X)\n",
    "y = df['Survived']"
   ]
  },
  {
   "cell_type": "code",
   "execution_count": 14,
   "metadata": {
    "execution": {
     "iopub.execute_input": "2022-01-29T03:20:39.869496Z",
     "iopub.status.busy": "2022-01-29T03:20:39.869496Z",
     "iopub.status.idle": "2022-01-29T03:20:39.899496Z",
     "shell.execute_reply": "2022-01-29T03:20:39.898499Z",
     "shell.execute_reply.started": "2022-01-29T03:20:39.869496Z"
    },
    "tags": []
   },
   "outputs": [
    {
     "data": {
      "text/html": [
       "<div>\n",
       "<style scoped>\n",
       "    .dataframe tbody tr th:only-of-type {\n",
       "        vertical-align: middle;\n",
       "    }\n",
       "\n",
       "    .dataframe tbody tr th {\n",
       "        vertical-align: top;\n",
       "    }\n",
       "\n",
       "    .dataframe thead th {\n",
       "        text-align: right;\n",
       "    }\n",
       "</style>\n",
       "<table border=\"1\" class=\"dataframe\">\n",
       "  <thead>\n",
       "    <tr style=\"text-align: right;\">\n",
       "      <th></th>\n",
       "      <th>Pclass</th>\n",
       "      <th>Fare</th>\n",
       "      <th>Sex_female</th>\n",
       "      <th>Sex_male</th>\n",
       "      <th>Survived</th>\n",
       "    </tr>\n",
       "  </thead>\n",
       "  <tbody>\n",
       "    <tr>\n",
       "      <th>0</th>\n",
       "      <td>3</td>\n",
       "      <td>7.2500</td>\n",
       "      <td>0</td>\n",
       "      <td>1</td>\n",
       "      <td>0</td>\n",
       "    </tr>\n",
       "    <tr>\n",
       "      <th>1</th>\n",
       "      <td>1</td>\n",
       "      <td>71.2833</td>\n",
       "      <td>1</td>\n",
       "      <td>0</td>\n",
       "      <td>1</td>\n",
       "    </tr>\n",
       "    <tr>\n",
       "      <th>2</th>\n",
       "      <td>3</td>\n",
       "      <td>7.9250</td>\n",
       "      <td>1</td>\n",
       "      <td>0</td>\n",
       "      <td>1</td>\n",
       "    </tr>\n",
       "    <tr>\n",
       "      <th>3</th>\n",
       "      <td>1</td>\n",
       "      <td>53.1000</td>\n",
       "      <td>1</td>\n",
       "      <td>0</td>\n",
       "      <td>1</td>\n",
       "    </tr>\n",
       "    <tr>\n",
       "      <th>4</th>\n",
       "      <td>3</td>\n",
       "      <td>8.0500</td>\n",
       "      <td>0</td>\n",
       "      <td>1</td>\n",
       "      <td>0</td>\n",
       "    </tr>\n",
       "    <tr>\n",
       "      <th>...</th>\n",
       "      <td>...</td>\n",
       "      <td>...</td>\n",
       "      <td>...</td>\n",
       "      <td>...</td>\n",
       "      <td>...</td>\n",
       "    </tr>\n",
       "    <tr>\n",
       "      <th>886</th>\n",
       "      <td>2</td>\n",
       "      <td>13.0000</td>\n",
       "      <td>0</td>\n",
       "      <td>1</td>\n",
       "      <td>0</td>\n",
       "    </tr>\n",
       "    <tr>\n",
       "      <th>887</th>\n",
       "      <td>1</td>\n",
       "      <td>30.0000</td>\n",
       "      <td>1</td>\n",
       "      <td>0</td>\n",
       "      <td>1</td>\n",
       "    </tr>\n",
       "    <tr>\n",
       "      <th>888</th>\n",
       "      <td>3</td>\n",
       "      <td>23.4500</td>\n",
       "      <td>1</td>\n",
       "      <td>0</td>\n",
       "      <td>0</td>\n",
       "    </tr>\n",
       "    <tr>\n",
       "      <th>889</th>\n",
       "      <td>1</td>\n",
       "      <td>30.0000</td>\n",
       "      <td>0</td>\n",
       "      <td>1</td>\n",
       "      <td>1</td>\n",
       "    </tr>\n",
       "    <tr>\n",
       "      <th>890</th>\n",
       "      <td>3</td>\n",
       "      <td>7.7500</td>\n",
       "      <td>0</td>\n",
       "      <td>1</td>\n",
       "      <td>0</td>\n",
       "    </tr>\n",
       "  </tbody>\n",
       "</table>\n",
       "<p>891 rows × 5 columns</p>\n",
       "</div>"
      ],
      "text/plain": [
       "     Pclass     Fare  Sex_female  Sex_male  Survived\n",
       "0         3   7.2500           0         1         0\n",
       "1         1  71.2833           1         0         1\n",
       "2         3   7.9250           1         0         1\n",
       "3         1  53.1000           1         0         1\n",
       "4         3   8.0500           0         1         0\n",
       "..      ...      ...         ...       ...       ...\n",
       "886       2  13.0000           0         1         0\n",
       "887       1  30.0000           1         0         1\n",
       "888       3  23.4500           1         0         0\n",
       "889       1  30.0000           0         1         1\n",
       "890       3   7.7500           0         1         0\n",
       "\n",
       "[891 rows x 5 columns]"
      ]
     },
     "execution_count": 14,
     "metadata": {},
     "output_type": "execute_result"
    }
   ],
   "source": [
    "pd.concat([X, y.to_frame()], axis=1)"
   ]
  },
  {
   "cell_type": "markdown",
   "metadata": {},
   "source": [
    "## Modeling\n",
    "\n",
    "We will now be training our own Machine Learning model. I have already provided the function for training a Machine Learning model below."
   ]
  },
  {
   "cell_type": "code",
   "execution_count": 15,
   "metadata": {
    "execution": {
     "iopub.execute_input": "2022-01-29T03:20:39.901499Z",
     "iopub.status.busy": "2022-01-29T03:20:39.901499Z",
     "iopub.status.idle": "2022-01-29T03:20:39.915496Z",
     "shell.execute_reply": "2022-01-29T03:20:39.914498Z",
     "shell.execute_reply.started": "2022-01-29T03:20:39.901499Z"
    },
    "tags": []
   },
   "outputs": [],
   "source": [
    "def train_model(X:pd.DataFrame, y:pd.DataFrame):\n",
    "    X_train, X_test, y_train, y_test = train_test_split(X, y, test_size=0.2, random_state=42)\n",
    "    \n",
    "    model = KNeighborsClassifier(n_neighbors=3, p=2, n_jobs=-1) # instantiate model\n",
    "    model.fit(X_train, y_train) # train the model\n",
    "    print(f\"Train Set Score: {model.score(X_train, y_train)}\")\n",
    "    print(f\"Test Set Score: {model.score(X_test, y_test)}\")\n",
    "    \n",
    "    return model"
   ]
  },
  {
   "cell_type": "markdown",
   "metadata": {},
   "source": [
    "### Exercise 2: Implement ML model's predict function "
   ]
  },
  {
   "cell_type": "code",
   "execution_count": 16,
   "metadata": {
    "execution": {
     "iopub.execute_input": "2022-01-29T03:20:40.428190Z",
     "iopub.status.busy": "2022-01-29T03:20:40.427189Z",
     "iopub.status.idle": "2022-01-29T03:20:40.446188Z",
     "shell.execute_reply": "2022-01-29T03:20:40.445188Z",
     "shell.execute_reply.started": "2022-01-29T03:20:40.428190Z"
    },
    "tags": []
   },
   "outputs": [],
   "source": [
    "def predict(model, pclass, fare, sex) -> str:\n",
    "    # if sex is male, sex_male = 1 and sex_female = 0\n",
    "    # if sex is female, sex_male = 0 and sex_female = 1\n",
    "    # if not male or female, return an error message\n",
    "    # your code here...\n",
    "    survived = model.predict([[pclass, fare, sex_female, sex_male]])[0]\n",
    "    \n",
    "    # return \"person will survive\" if survived is 1, else return \"person will not survive\"\n",
    "    # your code here..."
   ]
  },
  {
   "cell_type": "code",
   "execution_count": 17,
   "metadata": {},
   "outputs": [
    {
     "name": "stdout",
     "output_type": "stream",
     "text": [
      "Train Set Score: 0.8623595505617978\n",
      "Test Set Score: 0.7821229050279329\n"
     ]
    },
    {
     "data": {
      "text/plain": [
       "'person will survive'"
      ]
     },
     "execution_count": 17,
     "metadata": {},
     "output_type": "execute_result"
    }
   ],
   "source": [
    "model = train_model(X, y)\n",
    "predict(model, 3, 50, 'female') # this should return 'person will survive'"
   ]
  },
  {
   "cell_type": "code",
   "execution_count": 18,
   "metadata": {},
   "outputs": [
    {
     "data": {
      "text/plain": [
       "'person will not survive'"
      ]
     },
     "execution_count": 18,
     "metadata": {},
     "output_type": "execute_result"
    }
   ],
   "source": [
    "predict(model, 3, 50, 'male') # this should return 'person will not survive'"
   ]
  },
  {
   "cell_type": "code",
   "execution_count": 19,
   "metadata": {},
   "outputs": [
    {
     "data": {
      "text/plain": [
       "'Invalid input'"
      ]
     },
     "execution_count": 19,
     "metadata": {},
     "output_type": "execute_result"
    }
   ],
   "source": [
    "predict(model, 3, 50, 'none') # this should return an error message"
   ]
  },
  {
   "cell_type": "markdown",
   "metadata": {},
   "source": [
    "### Exercise 3: Ask for user's input and integrate with the ML predict function"
   ]
  },
  {
   "cell_type": "code",
   "execution_count": null,
   "metadata": {},
   "outputs": [],
   "source": [
    "# your code here...\n",
    "# call train_model function and provide the necessary arguments and store the model in a variable named `model`\n",
    "\n",
    "iterations = int(input('Iterations'))\n",
    "# ask for the user's input `x` times where `x` is the number assigned in iterations variable.\n",
    "# Python's built-in `range` function might come in handy\n",
    "# each time you ask ask for user's input, get the pclass, fare, and sex\n",
    "# you might have to type-cast some of the values\n",
    "# call the predict function pass the necessary arguments\n",
    "# print the value return by predict function"
   ]
  },
  {
   "attachments": {},
   "cell_type": "markdown",
   "metadata": {
    "id": "tp9vhl21y7gK"
   },
   "source": [
    "## End\n",
    "<sup>made by **Jude Michael Teves**</sup> <br>\n",
    "<sup>for comments, corrections, suggestions, please email:</sup> <sup>judemichaelteves@gmail.com or jude.teves@dlsu.edu.ph</sup><br>\n"
   ]
  }
 ],
 "metadata": {
  "kernelspec": {
   "display_name": "Python 3",
   "language": "python",
   "name": "python3"
  },
  "language_info": {
   "codemirror_mode": {
    "name": "ipython",
    "version": 3
   },
   "file_extension": ".py",
   "mimetype": "text/x-python",
   "name": "python",
   "nbconvert_exporter": "python",
   "pygments_lexer": "ipython3",
   "version": "3.7.3"
  }
 },
 "nbformat": 4,
 "nbformat_minor": 4
}
