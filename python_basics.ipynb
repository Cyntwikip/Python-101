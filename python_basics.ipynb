{
 "cells": [
  {
   "cell_type": "markdown",
   "id": "e57ee615-ebba-456e-b1f6-15c290cb3d0d",
   "metadata": {},
   "source": [
    "# Python Basics"
   ]
  },
  {
   "cell_type": "markdown",
   "id": "e68ddbde-af59-412f-9598-9ce84dcbce2c",
   "metadata": {},
   "source": [
    "## Introduction to Python"
   ]
  },
  {
   "cell_type": "markdown",
   "id": "40dd0736-3365-4209-98a6-3902f1a65868",
   "metadata": {},
   "source": [
    "Python is a general-purpose and high-level object-oriented, interpreted, and interactive programming language. It is consistenly ranked among the top programming languages in the world. In Stackoverflow's 2020 survey, out of **57,378** respondents, Python ranked 4th in the most popular programming languages category.\n",
    "\n",
    "<img width=700 src=\"images/python ranking.png\" />\n",
    "\n",
    "Python was created and released in 1991 by Guido Van Rossum. The language was designed with readability and simplicity in mind--the syntax heavily uses English words. And I think those two aspects are beautifully encapsulated in the following line in the Zen of Python. \n",
    "> There should be one-- and preferably only one --obvious way to do it  \n",
    "\n",
    "The Zen of Python is a collection of guiding principles when coding in Python.\n",
    "\n",
    "**The Zen of Python by Tim Peters**\n",
    "```\n",
    "Beautiful is better than ugly.\n",
    "Explicit is better than implicit.\n",
    "Simple is better than complex.\n",
    "Complex is better than complicated.\n",
    "Flat is better than nested.\n",
    "Sparse is better than dense.\n",
    "Readability counts.\n",
    "Special cases aren't special enough to break the rules.\n",
    "Although practicality beats purity.\n",
    "Errors should never pass silently.\n",
    "Unless explicitly silenced.\n",
    "In the face of ambiguity, refuse the temptation to guess.\n",
    "There should be one-- and preferably only one --obvious way to do it.\n",
    "Although that way may not be obvious at first unless you're Dutch.\n",
    "Now is better than never.\n",
    "Although never is often better than *right* now.\n",
    "If the implementation is hard to explain, it's a bad idea.\n",
    "If the implementation is easy to explain, it may be a good idea.\n",
    "Namespaces are one honking great idea -- let's do more of those!\n",
    "```\n",
    "\n",
    "You could also display this by running the following line of code:\n",
    "```python\n",
    "import this\n",
    "```\n",
    "\n",
    "The principles above might be quite a mouthful for the unitiated, so let's take it apart and just focus on few important lines. I find Myk Ogbinar's summary of this in <a href=\"https://github.com/ogbinar/python101/blob/master/notebooks/00_index.ipynb\">his introduction to Python notebook</a> to be a good one.\n",
    "\n",
    "<div style=\"margin-left: 50px\">\n",
    "    \n",
    "<!-- hack to make the first item bold -->\n",
    "<b>Beautiful is better than ugly.</b> \n",
    "\n",
    "Python programmers recognize that good code can actually be beautiful. If you come up with a particularly elegant or efficient way to solve a problem, especially a difficult problem, other Python programmers will respect your work and may even call it beautiful. There is beauty in high-level technical work.\n",
    "\n",
    "**Explicit is better than implicit.**\n",
    "\n",
    "It is better to be clear about what you are doing, than come up with some shorter way to do something that is difficult to understand.\n",
    "\n",
    "**Simple is better than complex. Complex is better than complicated.**\n",
    "\n",
    "Keep your code simple whenever possible, but recognize that we sometimes take on really difficult problems for which there are no easy solutions. In those cases, accept the complexity but avoid complication.\n",
    "\n",
    "**Readability counts.**\n",
    "\n",
    "There are very few interesting and useful programs these days that are written and maintained entirely by one person. Write your code in a way that others can read it as easily as possible, and in a way that you will be able to read and understand it 6 months from now. This includes writing good comments in your code.\n",
    "\n",
    "**There should be one-- and preferably only one --obvious way to do it.**\n",
    "\n",
    "There are many ways to solve most problems that come up in programming. However, most problems have a standard, well-established approach. Save complexity for when it is needed, and solve problems in the most straightforward way possible.\n",
    "\n",
    "**Now is better than never.**\n",
    "\n",
    "No one ever writes perfect code. If you have an idea you want to implement it, write some code that works. Release it, let it be used by others, and then steadily improve it.\n",
    "</div>\n",
    "\n",
    "Python was made for ease of use and has since become an essential tool for different kinds of people: programmers, engineers, researchers, and data scientists across academia and industry. The reason why it's widely used is because of its large ecosystem and the availability of domain-specific libraries that have been built using it. It can do so much that you can practically do almost any computer-related tasks such as creating web applications, desktop applications, video games, robots, and also doing data analysis. "
   ]
  },
  {
   "cell_type": "markdown",
   "id": "0605a7b6-8a18-4517-b5b7-367ed8641b6f",
   "metadata": {},
   "source": [
    "## \"Hello World\" in Python"
   ]
  },
  {
   "cell_type": "markdown",
   "id": "8e9af627-6595-4adc-901c-b0b14d8c09a1",
   "metadata": {},
   "source": [
    "When programmers are learning a new language, we tend to write a one-line program that prints some version of the message \"Hello world!\" this is a simple program that shows whether your computer is properly set up to run Python programs."
   ]
  },
  {
   "cell_type": "code",
   "execution_count": 1,
   "id": "48205725-0ea8-4fad-817e-137aa8d30d9d",
   "metadata": {
    "execution": {
     "iopub.execute_input": "2021-06-16T15:24:17.927718Z",
     "iopub.status.busy": "2021-06-16T15:24:17.927718Z",
     "iopub.status.idle": "2021-06-16T15:24:17.958724Z",
     "shell.execute_reply": "2021-06-16T15:24:17.957723Z",
     "shell.execute_reply.started": "2021-06-16T15:24:17.927718Z"
    },
    "tags": []
   },
   "outputs": [
    {
     "name": "stdout",
     "output_type": "stream",
     "text": [
      "Hello Python world!\n"
     ]
    }
   ],
   "source": [
    "print('Hello Python world!')"
   ]
  },
  {
   "cell_type": "code",
   "execution_count": 5,
   "id": "442eaf87-3441-4556-89c0-daa50da3978e",
   "metadata": {
    "execution": {
     "iopub.execute_input": "2021-06-16T15:24:25.307382Z",
     "iopub.status.busy": "2021-06-16T15:24:25.307382Z",
     "iopub.status.idle": "2021-06-16T15:24:27.118694Z",
     "shell.execute_reply": "2021-06-16T15:24:27.117694Z",
     "shell.execute_reply.started": "2021-06-16T15:24:25.307382Z"
    },
    "tags": []
   },
   "outputs": [
    {
     "name": "stdin",
     "output_type": "stream",
     "text": [
      "What is your name?  Jude\n"
     ]
    },
    {
     "name": "stdout",
     "output_type": "stream",
     "text": [
      "Hello,  Jude! - Python\n"
     ]
    }
   ],
   "source": [
    "name = input(\"What is your name? \") # input is one of the many things you will learn today (can you guess what it does?)\n",
    "print(\"Hello, \",name+\"! - Python\") # here, we allow Python to say hi back"
   ]
  },
  {
   "cell_type": "markdown",
   "id": "737df3da-93b5-4ed2-a2e6-c60f7cd134ca",
   "metadata": {},
   "source": [
    "## Reserved Keywords\n",
    "\n",
    "You cannot use the following as variable names in Python as they reserved already:\n",
    "\n",
    "| | | | | |\n",
    "|--------|---------|----------|---------|-----|\n",
    "|and     |del      |from      |not      |while|\n",
    "|as      | elif    |global    |or       |with |\n",
    "|assert  | else    | if       |pass     |yield|\n",
    "|break   | except  | import   |print|\n",
    "|class   | exec    | in       |raise|\n",
    "|continue| finally | is       |return|\n",
    "|def     | for     | lambda   |try|"
   ]
  },
  {
   "cell_type": "markdown",
   "id": "d93f3650-9e26-4b3b-8970-112d52a53f0c",
   "metadata": {},
   "source": [
    "## Variables\n",
    "\n",
    "A variables holds a value and we can change its content whenever we want. The data type can also change. The name of the variable should start with an alphabetical character or `_`, but the latter, by convention, is used for hidden or dummy variables."
   ]
  },
  {
   "cell_type": "code",
   "execution_count": 6,
   "id": "42c33360-377c-4b52-9de6-789bb9841e13",
   "metadata": {
    "execution": {
     "iopub.execute_input": "2021-06-16T17:20:48.621513Z",
     "iopub.status.busy": "2021-06-16T17:20:48.619513Z",
     "iopub.status.idle": "2021-06-16T17:20:48.650342Z",
     "shell.execute_reply": "2021-06-16T17:20:48.648342Z",
     "shell.execute_reply.started": "2021-06-16T17:20:48.621513Z"
    }
   },
   "outputs": [
    {
     "name": "stdout",
     "output_type": "stream",
     "text": [
      "jude\n"
     ]
    }
   ],
   "source": [
    "var = 'jude'\n",
    "print(var)"
   ]
  },
  {
   "cell_type": "code",
   "execution_count": 7,
   "id": "b4da6263-946f-42ad-a106-4d324e008c74",
   "metadata": {
    "execution": {
     "iopub.execute_input": "2021-06-16T17:21:16.189871Z",
     "iopub.status.busy": "2021-06-16T17:21:16.189871Z",
     "iopub.status.idle": "2021-06-16T17:21:16.206546Z",
     "shell.execute_reply": "2021-06-16T17:21:16.205548Z",
     "shell.execute_reply.started": "2021-06-16T17:21:16.189871Z"
    }
   },
   "outputs": [
    {
     "name": "stdout",
     "output_type": "stream",
     "text": [
      "100\n"
     ]
    }
   ],
   "source": [
    "var = 100\n",
    "print(var)"
   ]
  },
  {
   "cell_type": "markdown",
   "id": "03a88400-5bdf-40ad-8a39-c63475629f49",
   "metadata": {},
   "source": [
    "## Strings\n",
    "\n",
    "A string is simply a sequence of characters. Sentences, paragraphs, or phrases that are encapsulated by `\"` (double quotes) or `'` (single quote) are strings."
   ]
  },
  {
   "cell_type": "code",
   "execution_count": 8,
   "id": "4e28d348-2abb-4aa0-ad71-205951219abc",
   "metadata": {
    "execution": {
     "iopub.execute_input": "2021-06-16T17:26:14.592174Z",
     "iopub.status.busy": "2021-06-16T17:26:14.592174Z",
     "iopub.status.idle": "2021-06-16T17:26:14.611177Z",
     "shell.execute_reply": "2021-06-16T17:26:14.610177Z",
     "shell.execute_reply.started": "2021-06-16T17:26:14.592174Z"
    }
   },
   "outputs": [],
   "source": [
    "text = \"hello there\" # double quotes\n",
    "text = 'i am hungry' # single quote"
   ]
  },
  {
   "cell_type": "markdown",
   "id": "2814a04b-1198-421d-8c4a-be53e7a0079a",
   "metadata": {},
   "source": [
    "### String methods\n",
    "\n",
    "Here are some neat methods we can use for any string object to make our lives easier:"
   ]
  },
  {
   "cell_type": "code",
   "execution_count": 9,
   "id": "fb27de3e-6673-492c-84f9-f0ddcf1da43b",
   "metadata": {
    "execution": {
     "iopub.execute_input": "2021-06-16T17:27:07.104925Z",
     "iopub.status.busy": "2021-06-16T17:27:07.104925Z",
     "iopub.status.idle": "2021-06-16T17:27:07.124009Z",
     "shell.execute_reply": "2021-06-16T17:27:07.123099Z",
     "shell.execute_reply.started": "2021-06-16T17:27:07.104925Z"
    }
   },
   "outputs": [
    {
     "data": {
      "text/plain": [
       "'I am hungry'"
      ]
     },
     "execution_count": 9,
     "metadata": {},
     "output_type": "execute_result"
    }
   ],
   "source": [
    "text.capitalize()"
   ]
  },
  {
   "cell_type": "code",
   "execution_count": 10,
   "id": "0e4baa87-110a-4bac-81f0-05309a3fdbed",
   "metadata": {
    "execution": {
     "iopub.execute_input": "2021-06-16T17:27:17.865930Z",
     "iopub.status.busy": "2021-06-16T17:27:17.865930Z",
     "iopub.status.idle": "2021-06-16T17:27:17.876933Z",
     "shell.execute_reply": "2021-06-16T17:27:17.875934Z",
     "shell.execute_reply.started": "2021-06-16T17:27:17.865930Z"
    }
   },
   "outputs": [
    {
     "data": {
      "text/plain": [
       "'I AM HUNGRY'"
      ]
     },
     "execution_count": 10,
     "metadata": {},
     "output_type": "execute_result"
    }
   ],
   "source": [
    "text.upper()"
   ]
  },
  {
   "cell_type": "code",
   "execution_count": 11,
   "id": "b5fa6e6b-09ee-4686-8266-dd51b5df7a66",
   "metadata": {
    "execution": {
     "iopub.execute_input": "2021-06-16T17:27:30.457193Z",
     "iopub.status.busy": "2021-06-16T17:27:30.456192Z",
     "iopub.status.idle": "2021-06-16T17:27:30.478576Z",
     "shell.execute_reply": "2021-06-16T17:27:30.477575Z",
     "shell.execute_reply.started": "2021-06-16T17:27:30.457193Z"
    }
   },
   "outputs": [
    {
     "data": {
      "text/plain": [
       "'i am angry?'"
      ]
     },
     "execution_count": 11,
     "metadata": {},
     "output_type": "execute_result"
    }
   ],
   "source": [
    "'I AM ANGRY?'.lower()"
   ]
  },
  {
   "cell_type": "code",
   "execution_count": 12,
   "id": "0b782794-3ba2-4b24-8389-a4eeb973edd7",
   "metadata": {
    "execution": {
     "iopub.execute_input": "2021-06-16T17:27:44.615899Z",
     "iopub.status.busy": "2021-06-16T17:27:44.615899Z",
     "iopub.status.idle": "2021-06-16T17:27:44.627901Z",
     "shell.execute_reply": "2021-06-16T17:27:44.626900Z",
     "shell.execute_reply.started": "2021-06-16T17:27:44.615899Z"
    }
   },
   "outputs": [
    {
     "data": {
      "text/plain": [
       "'heyy'"
      ]
     },
     "execution_count": 12,
     "metadata": {},
     "output_type": "execute_result"
    }
   ],
   "source": [
    "'  heyy   '.strip()"
   ]
  },
  {
   "cell_type": "code",
   "execution_count": 13,
   "id": "ac1324ad-936e-4368-bdc4-0dec3a5a451d",
   "metadata": {
    "execution": {
     "iopub.execute_input": "2021-06-16T17:28:06.254140Z",
     "iopub.status.busy": "2021-06-16T17:28:06.254140Z",
     "iopub.status.idle": "2021-06-16T17:28:06.272143Z",
     "shell.execute_reply": "2021-06-16T17:28:06.271143Z",
     "shell.execute_reply.started": "2021-06-16T17:28:06.254140Z"
    }
   },
   "outputs": [
    {
     "data": {
      "text/plain": [
       "'Jude Michael'"
      ]
     },
     "execution_count": 13,
     "metadata": {},
     "output_type": "execute_result"
    }
   ],
   "source": [
    "'jude michael'.title()"
   ]
  },
  {
   "cell_type": "code",
   "execution_count": 16,
   "id": "23f8c572-b995-441a-91c7-64cde1b88c89",
   "metadata": {
    "execution": {
     "iopub.execute_input": "2021-06-16T17:29:08.070155Z",
     "iopub.status.busy": "2021-06-16T17:29:08.070155Z",
     "iopub.status.idle": "2021-06-16T17:29:08.091104Z",
     "shell.execute_reply": "2021-06-16T17:29:08.090103Z",
     "shell.execute_reply.started": "2021-06-16T17:29:08.070155Z"
    },
    "tags": []
   },
   "outputs": [
    {
     "data": {
      "text/plain": [
       "5"
      ]
     },
     "execution_count": 16,
     "metadata": {},
     "output_type": "execute_result"
    }
   ],
   "source": [
    "'jude michael'.index('m') # returns the index of the first instance of m"
   ]
  },
  {
   "cell_type": "markdown",
   "id": "43b363cd-19b0-4d8c-ab51-3fc9cb752dc5",
   "metadata": {},
   "source": [
    "## Data Structures\n",
    "\n",
    "Python has the following data structures:\n",
    "\n",
    "|Type|Description|Example|\n",
    "|---|---|---|\n",
    "|list|Ordered collection of values|[1, 'abc', 3, 1]|\n",
    "|set|Unordered collection of unique values|{1, 'abc', 3}|\n",
    "|tuple|Immutable Ordered collection|(1, 'abc', 3)|\n",
    "|dict|Unordered key. value pairs|{'abc': 1, 'def': 2}|"
   ]
  },
  {
   "cell_type": "code",
   "execution_count": null,
   "id": "a6eeeb6c-4627-4cf3-88a0-7680001062ba",
   "metadata": {},
   "outputs": [],
   "source": []
  },
  {
   "cell_type": "code",
   "execution_count": null,
   "id": "61347318-3651-4a0d-a220-7fc1113dcb0b",
   "metadata": {},
   "outputs": [],
   "source": []
  },
  {
   "cell_type": "markdown",
   "id": "ce72e9b1-5ada-4a8e-89ca-3975fb48f58c",
   "metadata": {},
   "source": [
    "## Functions\n",
    "\n",
    "Imagine the following code below:\n",
    "\n",
    "```python\n",
    "kg = 10\n",
    "lbs = kg*2.2\n",
    "print(f'{kg} kg = {lbs} lbs')\n",
    "\n",
    "...some code...\n",
    "\n",
    "kg = 87\n",
    "lbs = kg*2.2\n",
    "print(f'{kg} kg = {lbs} lbs')\n",
    "    \n",
    "```\n",
    "\n",
    "Notice that multiple lines are duplicated. When developing big software, expect to be reusing many pieces of code. That's where functions come in handy. It lets us call a block of code and executes it. We use functions for the following reasons:\n",
    " - it allows us to reuse blocks of code \n",
    " - it makes the code more readable"
   ]
  },
  {
   "cell_type": "markdown",
   "id": "07e7de0f-e2d7-469d-b937-aad07de310b4",
   "metadata": {},
   "source": [
    "### Anatomy of a function\n",
    "\n",
    "<img src=\"images/function anatomy.png\"></img>\n"
   ]
  },
  {
   "cell_type": "markdown",
   "id": "d16155c2-a2ad-4c28-9ea4-272f43e23982",
   "metadata": {},
   "source": [
    "### Defining a function\n",
    "\n",
    "We define a function by using the `def` keyword followed by the name of the function, then the parameters or the arguments encapsulated in a parentheses, and lastly, a colon `:`. The code block within every function should be indented. The function is also expected to return something back to the caller. To demonstrate, we'll turn the code above into one that uses functions."
   ]
  },
  {
   "cell_type": "code",
   "execution_count": null,
   "id": "f19cb06c-4951-4b19-a64f-cb86f0298297",
   "metadata": {},
   "outputs": [],
   "source": [
    "def kg_to_lbs(kg):\n",
    "    lbs = kg * 2.2\n",
    "    return\n",
    "\n",
    "kg = 10\n",
    "print(f'{kg} kg = {kg_to_lbs(kg)} lbs')\n",
    "# some code\n",
    "kg = 87\n",
    "print(f'{kg} kg = {kg_to_lbs(kg)} lbs')"
   ]
  }
 ],
 "metadata": {
  "kernelspec": {
   "display_name": "Python 3",
   "language": "python",
   "name": "python3"
  },
  "language_info": {
   "codemirror_mode": {
    "name": "ipython",
    "version": 3
   },
   "file_extension": ".py",
   "mimetype": "text/x-python",
   "name": "python",
   "nbconvert_exporter": "python",
   "pygments_lexer": "ipython3",
   "version": "3.8.8"
  }
 },
 "nbformat": 4,
 "nbformat_minor": 5
}
