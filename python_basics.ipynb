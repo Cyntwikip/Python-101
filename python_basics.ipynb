{
 "cells": [
  {
   "cell_type": "markdown",
   "id": "e57ee615-ebba-456e-b1f6-15c290cb3d0d",
   "metadata": {},
   "source": [
    "# Python Basics\n",
    "\n",
    "*Prepared by:*\n",
    "**Jude Michael Teves**  \n",
    "Faculty, Software Technology Department  \n",
    "College of Computer Studies - De La Salle University"
   ]
  },
  {
   "cell_type": "markdown",
   "id": "e68ddbde-af59-412f-9598-9ce84dcbce2c",
   "metadata": {},
   "source": [
    "## Introduction to Python"
   ]
  },
  {
   "cell_type": "markdown",
   "id": "40dd0736-3365-4209-98a6-3902f1a65868",
   "metadata": {},
   "source": [
    "Python is a general-purpose and high-level object-oriented, interpreted, and interactive programming language. It is consistenly ranked among the top programming languages in the world. In Stackoverflow's 2020 survey, out of **57,378** respondents, Python ranked 4th in the most popular programming languages category.\n",
    "\n",
    "<img width=700 src=\"images/python ranking.png\" />\n",
    "\n",
    "Python was created and released in 1991 by Guido Van Rossum. The language was designed with readability and simplicity in mind--the syntax heavily uses English words. And I think those two aspects are beautifully encapsulated in the following line in the Zen of Python. \n",
    "> There should be one-- and preferably only one --obvious way to do it  \n",
    "\n",
    "The Zen of Python is a collection of guiding principles when coding in Python.\n",
    "\n",
    "**The Zen of Python by Tim Peters**\n",
    "```\n",
    "Beautiful is better than ugly.\n",
    "Explicit is better than implicit.\n",
    "Simple is better than complex.\n",
    "Complex is better than complicated.\n",
    "Flat is better than nested.\n",
    "Sparse is better than dense.\n",
    "Readability counts.\n",
    "Special cases aren't special enough to break the rules.\n",
    "Although practicality beats purity.\n",
    "Errors should never pass silently.\n",
    "Unless explicitly silenced.\n",
    "In the face of ambiguity, refuse the temptation to guess.\n",
    "There should be one-- and preferably only one --obvious way to do it.\n",
    "Although that way may not be obvious at first unless you're Dutch.\n",
    "Now is better than never.\n",
    "Although never is often better than *right* now.\n",
    "If the implementation is hard to explain, it's a bad idea.\n",
    "If the implementation is easy to explain, it may be a good idea.\n",
    "Namespaces are one honking great idea -- let's do more of those!\n",
    "```\n",
    "\n",
    "You could also display this by running the following line of code:\n",
    "```python\n",
    "import this\n",
    "```\n",
    "\n",
    "The principles above might be quite a mouthful for the unitiated, so let's take it apart and just focus on few important lines. I find Myk Ogbinar's summary of this in <a href=\"https://github.com/ogbinar/python101/blob/master/notebooks/00_index.ipynb\">his introduction to Python notebook</a> to be a good one:\n",
    "\n",
    "---\n",
    "\n",
    "<!-- <div style=\"margin-left: 50px\"> -->\n",
    "    \n",
    "<!-- hack to make the first item bold -->\n",
    "<!-- <b>Beautiful is better than ugly.</b>  -->\n",
    "**Beautiful is better than ugly.**  \n",
    "\n",
    "Python programmers recognize that good code can actually be beautiful. If you come up with a particularly elegant or efficient way to solve a problem, especially a difficult problem, other Python programmers will respect your work and may even call it beautiful. There is beauty in high-level technical work.\n",
    "\n",
    "**Explicit is better than implicit.**  \n",
    "\n",
    "It is better to be clear about what you are doing, than come up with some shorter way to do something that is difficult to understand.\n",
    "\n",
    "**Simple is better than complex. Complex is better than complicated.**  \n",
    "\n",
    "Keep your code simple whenever possible, but recognize that we sometimes take on really difficult problems for which there are no easy solutions. In those cases, accept the complexity but avoid complication.\n",
    "\n",
    "**Readability counts.**  \n",
    "\n",
    "There are very few interesting and useful programs these days that are written and maintained entirely by one person. Write your code in a way that others can read it as easily as possible, and in a way that you will be able to read and understand it 6 months from now. This includes writing good comments in your code.\n",
    "\n",
    "**There should be one-- and preferably only one --obvious way to do it.**  \n",
    "\n",
    "There are many ways to solve most problems that come up in programming. However, most problems have a standard, well-established approach. Save complexity for when it is needed, and solve problems in the most straightforward way possible.\n",
    "\n",
    "**Now is better than never.**  \n",
    "\n",
    "No one ever writes perfect code. If you have an idea you want to implement it, write some code that works. Release it, let it be used by others, and then steadily improve it.\n",
    "<!-- </div> -->\n",
    "\n",
    "---\n",
    "\n",
    "Python was made for ease of use and has since become an essential tool for different kinds of people: programmers, engineers, researchers, and data scientists across academia and industry. The reason why it's widely used is because of its large ecosystem and the availability of domain-specific libraries that have been built using it. It can do so much that you can practically do almost any computer-related tasks such as creating web applications, desktop applications, video games, robots, and also doing data analysis. "
   ]
  },
  {
   "cell_type": "markdown",
   "id": "0605a7b6-8a18-4517-b5b7-367ed8641b6f",
   "metadata": {},
   "source": [
    "### \"Hello World\" in Python"
   ]
  },
  {
   "cell_type": "markdown",
   "id": "8e9af627-6595-4adc-901c-b0b14d8c09a1",
   "metadata": {},
   "source": [
    "\"Hello World\" is like an initiation rite for us programmers. When we are learning a new language, we typically start with writing a simple program that prints the message \"Hello world!\". Doing this gives us some sense check that we have properly configured our new programming platform/environment."
   ]
  },
  {
   "cell_type": "code",
   "execution_count": 1,
   "id": "48205725-0ea8-4fad-817e-137aa8d30d9d",
   "metadata": {
    "execution": {
     "iopub.execute_input": "2021-06-17T12:34:11.717553Z",
     "iopub.status.busy": "2021-06-17T12:34:11.716554Z",
     "iopub.status.idle": "2021-06-17T12:34:11.741559Z",
     "shell.execute_reply": "2021-06-17T12:34:11.740559Z",
     "shell.execute_reply.started": "2021-06-17T12:34:11.717553Z"
    },
    "tags": []
   },
   "outputs": [
    {
     "name": "stdout",
     "output_type": "stream",
     "text": [
      "Hello World!\n"
     ]
    }
   ],
   "source": [
    "print('Hello World!')"
   ]
  },
  {
   "cell_type": "code",
   "execution_count": 2,
   "id": "442eaf87-3441-4556-89c0-daa50da3978e",
   "metadata": {
    "execution": {
     "iopub.execute_input": "2021-06-17T12:34:11.744559Z",
     "iopub.status.busy": "2021-06-17T12:34:11.743559Z",
     "iopub.status.idle": "2021-06-17T12:34:14.396703Z",
     "shell.execute_reply": "2021-06-17T12:34:14.395703Z",
     "shell.execute_reply.started": "2021-06-17T12:34:11.744559Z"
    },
    "tags": []
   },
   "outputs": [
    {
     "name": "stdin",
     "output_type": "stream",
     "text": [
      "What is your name?  Jude\n"
     ]
    },
    {
     "name": "stdout",
     "output_type": "stream",
     "text": [
      "Hello, Jude! Welcome to the world of Python.\n"
     ]
    }
   ],
   "source": [
    "name = input(\"What is your name? \") # input gets the input from the user\n",
    "print(\"Hello, \" + name + \"! Welcome to the world of Python.\") # print prints the text on the screen"
   ]
  },
  {
   "cell_type": "markdown",
   "id": "737df3da-93b5-4ed2-a2e6-c60f7cd134ca",
   "metadata": {},
   "source": [
    "### Reserved Keywords\n",
    "\n",
    "You cannot use the following as variable names in Python as they reserved already:\n",
    "\n",
    "| | | | | |\n",
    "|--------|---------|----------|---------|-----|\n",
    "|and     |del      |from      |not      |while|\n",
    "|as      | elif    |global    |or       |with |\n",
    "|assert  | else    | if       |pass     |yield|\n",
    "|break   | except  | import   |print|\n",
    "|class   | exec    | in       |raise|\n",
    "|continue| finally | is       |return|\n",
    "|def     | for     | lambda   |try|"
   ]
  },
  {
   "cell_type": "markdown",
   "id": "d93f3650-9e26-4b3b-8970-112d52a53f0c",
   "metadata": {},
   "source": [
    "### Variables\n",
    "\n",
    "A variable holds a value and we can change its content whenever we want. The data type can also change. The name of the variable should start with an alphabetical character or `_`, but the latter, by convention, is used for hidden or dummy variables."
   ]
  },
  {
   "cell_type": "code",
   "execution_count": 3,
   "id": "42c33360-377c-4b52-9de6-789bb9841e13",
   "metadata": {
    "execution": {
     "iopub.execute_input": "2021-06-17T12:34:14.397703Z",
     "iopub.status.busy": "2021-06-17T12:34:14.397703Z",
     "iopub.status.idle": "2021-06-17T12:34:14.411706Z",
     "shell.execute_reply": "2021-06-17T12:34:14.410706Z",
     "shell.execute_reply.started": "2021-06-17T12:34:14.397703Z"
    }
   },
   "outputs": [
    {
     "name": "stdout",
     "output_type": "stream",
     "text": [
      "jude\n"
     ]
    }
   ],
   "source": [
    "var = 'jude'\n",
    "print(var)"
   ]
  },
  {
   "cell_type": "code",
   "execution_count": 4,
   "id": "b4da6263-946f-42ad-a106-4d324e008c74",
   "metadata": {
    "execution": {
     "iopub.execute_input": "2021-06-17T12:34:14.413707Z",
     "iopub.status.busy": "2021-06-17T12:34:14.412706Z",
     "iopub.status.idle": "2021-06-17T12:34:14.427710Z",
     "shell.execute_reply": "2021-06-17T12:34:14.426710Z",
     "shell.execute_reply.started": "2021-06-17T12:34:14.413707Z"
    }
   },
   "outputs": [
    {
     "name": "stdout",
     "output_type": "stream",
     "text": [
      "100\n"
     ]
    }
   ],
   "source": [
    "var = 100\n",
    "print(var)"
   ]
  },
  {
   "cell_type": "markdown",
   "id": "dd5247b4-c8b8-447c-806e-a1c2a2ac6a81",
   "metadata": {},
   "source": [
    "## Data Types"
   ]
  },
  {
   "cell_type": "markdown",
   "id": "03a88400-5bdf-40ad-8a39-c63475629f49",
   "metadata": {},
   "source": [
    "### Strings\n",
    "\n",
    "A string is simply a sequence of characters. Sentences, paragraphs, or phrases that are encapsulated by `\"` (double quotes) or `'` (single quote) are strings."
   ]
  },
  {
   "cell_type": "code",
   "execution_count": 5,
   "id": "4e28d348-2abb-4aa0-ad71-205951219abc",
   "metadata": {
    "execution": {
     "iopub.execute_input": "2021-06-17T12:34:14.428710Z",
     "iopub.status.busy": "2021-06-17T12:34:14.428710Z",
     "iopub.status.idle": "2021-06-17T12:34:14.443713Z",
     "shell.execute_reply": "2021-06-17T12:34:14.442713Z",
     "shell.execute_reply.started": "2021-06-17T12:34:14.428710Z"
    }
   },
   "outputs": [],
   "source": [
    "text = \"hello there\" # double quotes\n",
    "text = 'i am hungry' # single quote"
   ]
  },
  {
   "cell_type": "markdown",
   "id": "2814a04b-1198-421d-8c4a-be53e7a0079a",
   "metadata": {},
   "source": [
    "#### String methods\n",
    "\n",
    "Here are some neat methods we can use for any string object to make our lives easier:"
   ]
  },
  {
   "cell_type": "code",
   "execution_count": 6,
   "id": "fb27de3e-6673-492c-84f9-f0ddcf1da43b",
   "metadata": {
    "execution": {
     "iopub.execute_input": "2021-06-17T12:34:14.445714Z",
     "iopub.status.busy": "2021-06-17T12:34:14.444714Z",
     "iopub.status.idle": "2021-06-17T12:34:14.459717Z",
     "shell.execute_reply": "2021-06-17T12:34:14.458717Z",
     "shell.execute_reply.started": "2021-06-17T12:34:14.445714Z"
    }
   },
   "outputs": [
    {
     "data": {
      "text/plain": [
       "'I am hungry'"
      ]
     },
     "execution_count": 6,
     "metadata": {},
     "output_type": "execute_result"
    }
   ],
   "source": [
    "text.capitalize()"
   ]
  },
  {
   "cell_type": "code",
   "execution_count": 7,
   "id": "0e4baa87-110a-4bac-81f0-05309a3fdbed",
   "metadata": {
    "execution": {
     "iopub.execute_input": "2021-06-17T12:34:14.461718Z",
     "iopub.status.busy": "2021-06-17T12:34:14.460717Z",
     "iopub.status.idle": "2021-06-17T12:34:14.475721Z",
     "shell.execute_reply": "2021-06-17T12:34:14.474720Z",
     "shell.execute_reply.started": "2021-06-17T12:34:14.461718Z"
    }
   },
   "outputs": [
    {
     "data": {
      "text/plain": [
       "'I AM HUNGRY'"
      ]
     },
     "execution_count": 7,
     "metadata": {},
     "output_type": "execute_result"
    }
   ],
   "source": [
    "text.upper()"
   ]
  },
  {
   "cell_type": "code",
   "execution_count": 8,
   "id": "b5fa6e6b-09ee-4686-8266-dd51b5df7a66",
   "metadata": {
    "execution": {
     "iopub.execute_input": "2021-06-17T12:34:14.479722Z",
     "iopub.status.busy": "2021-06-17T12:34:14.479722Z",
     "iopub.status.idle": "2021-06-17T12:34:14.491725Z",
     "shell.execute_reply": "2021-06-17T12:34:14.490724Z",
     "shell.execute_reply.started": "2021-06-17T12:34:14.479722Z"
    }
   },
   "outputs": [
    {
     "data": {
      "text/plain": [
       "'i am angry?'"
      ]
     },
     "execution_count": 8,
     "metadata": {},
     "output_type": "execute_result"
    }
   ],
   "source": [
    "'I AM ANGRY?'.lower()"
   ]
  },
  {
   "cell_type": "code",
   "execution_count": 9,
   "id": "0b782794-3ba2-4b24-8389-a4eeb973edd7",
   "metadata": {
    "execution": {
     "iopub.execute_input": "2021-06-17T12:34:14.494743Z",
     "iopub.status.busy": "2021-06-17T12:34:14.493746Z",
     "iopub.status.idle": "2021-06-17T12:34:14.507746Z",
     "shell.execute_reply": "2021-06-17T12:34:14.506746Z",
     "shell.execute_reply.started": "2021-06-17T12:34:14.494743Z"
    }
   },
   "outputs": [
    {
     "data": {
      "text/plain": [
       "'heyy'"
      ]
     },
     "execution_count": 9,
     "metadata": {},
     "output_type": "execute_result"
    }
   ],
   "source": [
    "'  heyy   '.strip()"
   ]
  },
  {
   "cell_type": "code",
   "execution_count": 10,
   "id": "ac1324ad-936e-4368-bdc4-0dec3a5a451d",
   "metadata": {
    "execution": {
     "iopub.execute_input": "2021-06-17T12:34:14.508746Z",
     "iopub.status.busy": "2021-06-17T12:34:14.508746Z",
     "iopub.status.idle": "2021-06-17T12:34:14.523750Z",
     "shell.execute_reply": "2021-06-17T12:34:14.522749Z",
     "shell.execute_reply.started": "2021-06-17T12:34:14.508746Z"
    }
   },
   "outputs": [
    {
     "data": {
      "text/plain": [
       "'Jude Michael'"
      ]
     },
     "execution_count": 10,
     "metadata": {},
     "output_type": "execute_result"
    }
   ],
   "source": [
    "'jude michael'.title()"
   ]
  },
  {
   "cell_type": "code",
   "execution_count": 11,
   "id": "23f8c572-b995-441a-91c7-64cde1b88c89",
   "metadata": {
    "execution": {
     "iopub.execute_input": "2021-06-17T12:34:14.526750Z",
     "iopub.status.busy": "2021-06-17T12:34:14.525750Z",
     "iopub.status.idle": "2021-06-17T12:34:14.539753Z",
     "shell.execute_reply": "2021-06-17T12:34:14.538753Z",
     "shell.execute_reply.started": "2021-06-17T12:34:14.525750Z"
    },
    "tags": []
   },
   "outputs": [
    {
     "data": {
      "text/plain": [
       "5"
      ]
     },
     "execution_count": 11,
     "metadata": {},
     "output_type": "execute_result"
    }
   ],
   "source": [
    "'jude michael'.index('m') # returns the index of the first instance of m"
   ]
  },
  {
   "cell_type": "markdown",
   "id": "abd389b8-0b21-4981-85df-ad7c835c82b5",
   "metadata": {},
   "source": [
    "### Numeric Types\n",
    "\n",
    "There are numeric data types in Python: `int`, `float`, and `complex`. 99% of the time, we will only be dealing with `int` and `float`, so let's focus on those. \n",
    "\n",
    "`int` type is used for integers and `float` is used for floating-point values (those with decimals)."
   ]
  },
  {
   "cell_type": "markdown",
   "id": "b217336a-096d-4b31-a537-20907648d11f",
   "metadata": {},
   "source": [
    "## Operators"
   ]
  },
  {
   "cell_type": "markdown",
   "id": "b289acd7-b0f2-4035-8bc1-cbdb99035314",
   "metadata": {},
   "source": [
    "### Arithmetic Operations\n",
    "\n",
    "We can perform the following arithmetic operations in Python."
   ]
  },
  {
   "cell_type": "code",
   "execution_count": 12,
   "id": "9e1368be-ed76-4323-8df4-ffb8c6190602",
   "metadata": {
    "execution": {
     "iopub.execute_input": "2021-06-17T12:34:14.541754Z",
     "iopub.status.busy": "2021-06-17T12:34:14.540754Z",
     "iopub.status.idle": "2021-06-17T12:34:14.555757Z",
     "shell.execute_reply": "2021-06-17T12:34:14.554756Z",
     "shell.execute_reply.started": "2021-06-17T12:34:14.541754Z"
    },
    "tags": []
   },
   "outputs": [
    {
     "name": "stdout",
     "output_type": "stream",
     "text": [
      "3\n",
      "-1\n",
      "2\n",
      "0.5\n",
      "1\n",
      "9\n",
      "1\n"
     ]
    }
   ],
   "source": [
    "print(1 + 2)\n",
    "print(1 - 2)\n",
    "print(1 * 2) # multiplication\n",
    "print(1 / 2) # division\n",
    "print(3 // 2) # floor division\n",
    "print(3 ** 2)\n",
    "print(3 % 2) # modulus -- remainder"
   ]
  },
  {
   "cell_type": "markdown",
   "id": "babcb707-dd51-478f-b8d6-f9a5bf7c40ab",
   "metadata": {},
   "source": [
    "### Relational Operators\n",
    "\n",
    "aka Comparison Operators. These are used to compare and identify relationships between operands."
   ]
  },
  {
   "cell_type": "code",
   "execution_count": 13,
   "id": "b52f6b03-0108-4a4b-b94f-7d6b6972a3af",
   "metadata": {
    "execution": {
     "iopub.execute_input": "2021-06-17T12:34:14.557757Z",
     "iopub.status.busy": "2021-06-17T12:34:14.557757Z",
     "iopub.status.idle": "2021-06-17T12:34:14.571760Z",
     "shell.execute_reply": "2021-06-17T12:34:14.570760Z",
     "shell.execute_reply.started": "2021-06-17T12:34:14.557757Z"
    }
   },
   "outputs": [
    {
     "name": "stdout",
     "output_type": "stream",
     "text": [
      "True\n",
      "False\n",
      "False\n",
      "False\n",
      "True\n",
      "True\n"
     ]
    }
   ],
   "source": [
    "a, b = 10, 10\n",
    "\n",
    "print(a == b)  # Equal to\n",
    "print(a != b)  # Not equal to\n",
    "print(a > b)  # Greater than\n",
    "print(a < b)  # Less than\n",
    "print(a >= b)  # Greater than or equal to\n",
    "print(a <= b)  # Less than or equal to"
   ]
  },
  {
   "cell_type": "markdown",
   "id": "60870b50-0f83-4f78-94f4-b0f094af52ba",
   "metadata": {},
   "source": [
    "### Logical Operators\n",
    "\n",
    "**AND ( and )**  \n",
    "If both the operands are true, the condition becomes true.\n",
    "\n",
    "**OR ( or )**  \n",
    "If any of the two operands are true, the condition becomes true.\n",
    "\n",
    "**NOT (not)**  \n",
    "Reverses the logical state of the operand. If true, it will become false and vice-versa."
   ]
  },
  {
   "cell_type": "code",
   "execution_count": 14,
   "id": "04b13ecb-13b5-4f9b-8b5a-21ff72382ff7",
   "metadata": {
    "execution": {
     "iopub.execute_input": "2021-06-17T12:34:14.573761Z",
     "iopub.status.busy": "2021-06-17T12:34:14.572761Z",
     "iopub.status.idle": "2021-06-17T12:34:14.587764Z",
     "shell.execute_reply": "2021-06-17T12:34:14.586764Z",
     "shell.execute_reply.started": "2021-06-17T12:34:14.573761Z"
    },
    "tags": []
   },
   "outputs": [
    {
     "name": "stdout",
     "output_type": "stream",
     "text": [
      "False\n",
      "True\n",
      "True to False\n"
     ]
    }
   ],
   "source": [
    "c, d = True, False\n",
    "print(c and d)\n",
    "print(c or d)\n",
    "print(f'{c} to {not c}')"
   ]
  },
  {
   "cell_type": "markdown",
   "id": "43b363cd-19b0-4d8c-ab51-3fc9cb752dc5",
   "metadata": {},
   "source": [
    "## Data Structures\n",
    "\n",
    "Python has the following data structures:\n",
    "\n",
    "|Type|Description|Example|\n",
    "|---|---|---|\n",
    "|list|Ordered collection of values|[1, 'abc', 3, 1]|\n",
    "|set|Unordered collection of unique values|{1, 'abc', 3}|\n",
    "|tuple|Immutable Ordered collection|(1, 'abc', 3)|\n",
    "|dict|Unordered key. value pairs|{'abc': 1, 'def': 2}|"
   ]
  },
  {
   "cell_type": "markdown",
   "id": "442ce18b-1c88-4d98-beab-4f05573e085e",
   "metadata": {},
   "source": [
    "### Lists and Tuples\n",
    "\n",
    "In Python, both lists and tuples can contain values of any data type. The only difference is that tuples are immutable--we cannot do append, insert, and delete."
   ]
  },
  {
   "cell_type": "code",
   "execution_count": 15,
   "id": "61347318-3651-4a0d-a220-7fc1113dcb0b",
   "metadata": {
    "execution": {
     "iopub.execute_input": "2021-06-17T12:34:14.589764Z",
     "iopub.status.busy": "2021-06-17T12:34:14.588765Z",
     "iopub.status.idle": "2021-06-17T12:34:14.603215Z",
     "shell.execute_reply": "2021-06-17T12:34:14.602199Z",
     "shell.execute_reply.started": "2021-06-17T12:34:14.589764Z"
    }
   },
   "outputs": [
    {
     "name": "stdout",
     "output_type": "stream",
     "text": [
      "['jude', 'python', 'datascience']\n",
      "('jude', 'python', 'datascience')\n"
     ]
    }
   ],
   "source": [
    "var_list = ['jude', 'python', 'datascience']\n",
    "var_tuple = ('jude', 'python', 'datascience')\n",
    "\n",
    "print(var_list)\n",
    "print(var_tuple)"
   ]
  },
  {
   "cell_type": "markdown",
   "id": "a7d757b8-c880-440f-a24a-8bf5ddbe1c21",
   "metadata": {},
   "source": [
    "#### Indexing: accessing an element\n",
    "\n",
    "Remember that Python is 0-index, which means that the counter starts at 0."
   ]
  },
  {
   "cell_type": "code",
   "execution_count": 16,
   "id": "13a6341f-334b-4b51-b073-fde637513ca0",
   "metadata": {
    "execution": {
     "iopub.execute_input": "2021-06-17T12:34:14.604217Z",
     "iopub.status.busy": "2021-06-17T12:34:14.604217Z",
     "iopub.status.idle": "2021-06-17T12:34:14.619238Z",
     "shell.execute_reply": "2021-06-17T12:34:14.618238Z",
     "shell.execute_reply.started": "2021-06-17T12:34:14.604217Z"
    }
   },
   "outputs": [
    {
     "name": "stdout",
     "output_type": "stream",
     "text": [
      "jude\n",
      "python\n"
     ]
    }
   ],
   "source": [
    "print(var_list[0])\n",
    "print(var_tuple[1])"
   ]
  },
  {
   "cell_type": "code",
   "execution_count": 17,
   "id": "027d826e-e7f1-44f4-8ba8-9bfc411bee52",
   "metadata": {
    "execution": {
     "iopub.execute_input": "2021-06-17T12:34:14.621239Z",
     "iopub.status.busy": "2021-06-17T12:34:14.620238Z",
     "iopub.status.idle": "2021-06-17T12:34:14.635279Z",
     "shell.execute_reply": "2021-06-17T12:34:14.634279Z",
     "shell.execute_reply.started": "2021-06-17T12:34:14.621239Z"
    }
   },
   "outputs": [
    {
     "name": "stdout",
     "output_type": "stream",
     "text": [
      "datascience\n"
     ]
    }
   ],
   "source": [
    "print(var_list[-1]) # we use -1 to access the last element in our data structure"
   ]
  },
  {
   "cell_type": "markdown",
   "id": "e9bdbf38-449d-4829-b347-20d9d9c8b199",
   "metadata": {},
   "source": [
    "#### Slicing: accessing multiple elements concurrently\n",
    "\n",
    "Note that slicing is not inclusive on the right side of the range, which means the last number is excluded."
   ]
  },
  {
   "cell_type": "code",
   "execution_count": 18,
   "id": "bf9be245-58d5-4e18-af2f-a3f9eedb26ff",
   "metadata": {
    "execution": {
     "iopub.execute_input": "2021-06-17T12:34:14.637267Z",
     "iopub.status.busy": "2021-06-17T12:34:14.636269Z",
     "iopub.status.idle": "2021-06-17T12:34:14.651031Z",
     "shell.execute_reply": "2021-06-17T12:34:14.650031Z",
     "shell.execute_reply.started": "2021-06-17T12:34:14.637267Z"
    },
    "tags": []
   },
   "outputs": [
    {
     "name": "stdout",
     "output_type": "stream",
     "text": [
      "('jude', 'python')\n",
      "('python', 'datascience')\n"
     ]
    }
   ],
   "source": [
    "print(var_tuple[:2]) # access indices first element up until the 2nd index (3rd element)\n",
    "print(var_tuple[-2:]) # access second last element up until the last"
   ]
  },
  {
   "cell_type": "markdown",
   "id": "3296f7c7-ba43-411c-a623-e82b0c8c7454",
   "metadata": {},
   "source": [
    "#### Sorting values"
   ]
  },
  {
   "cell_type": "code",
   "execution_count": 19,
   "id": "540612e8-2f06-4f62-b8bb-319a9b62e224",
   "metadata": {
    "execution": {
     "iopub.execute_input": "2021-06-17T12:34:14.652031Z",
     "iopub.status.busy": "2021-06-17T12:34:14.652031Z",
     "iopub.status.idle": "2021-06-17T12:34:14.667035Z",
     "shell.execute_reply": "2021-06-17T12:34:14.666035Z",
     "shell.execute_reply.started": "2021-06-17T12:34:14.652031Z"
    },
    "tags": []
   },
   "outputs": [
    {
     "name": "stdout",
     "output_type": "stream",
     "text": [
      "['datascience', 'jude', 'python']\n",
      "['python', 'jude', 'datascience']\n"
     ]
    }
   ],
   "source": [
    "var_sorted = sorted(var_list)\n",
    "print(var_sorted)\n",
    "var_sorted = sorted(var_list, reverse=True)\n",
    "print(var_sorted)"
   ]
  },
  {
   "cell_type": "markdown",
   "id": "b0f29ff6-00de-4076-9a76-bee2c053ea2a",
   "metadata": {},
   "source": [
    "#### Updating an element\n",
    "\n",
    "We can only do this for list as tuple is immutable."
   ]
  },
  {
   "cell_type": "code",
   "execution_count": 20,
   "id": "1374c316-5877-469e-8b6f-d63db3da3d6d",
   "metadata": {
    "execution": {
     "iopub.execute_input": "2021-06-17T12:34:14.669035Z",
     "iopub.status.busy": "2021-06-17T12:34:14.669035Z",
     "iopub.status.idle": "2021-06-17T12:34:14.683038Z",
     "shell.execute_reply": "2021-06-17T12:34:14.682038Z",
     "shell.execute_reply.started": "2021-06-17T12:34:14.669035Z"
    },
    "tags": []
   },
   "outputs": [
    {
     "name": "stdout",
     "output_type": "stream",
     "text": [
      "['jude', 'python', 'datascience']\n",
      "['michael', 'python', 'datascience']\n"
     ]
    }
   ],
   "source": [
    "var_list_copy = list(var_list)\n",
    "\n",
    "print(var_list_copy)\n",
    "var_list_copy[0] = 'michael'\n",
    "print(var_list_copy)"
   ]
  },
  {
   "cell_type": "markdown",
   "id": "aafa6071-eab5-4e0c-b07e-f40346441fd8",
   "metadata": {},
   "source": [
    "#### Deleting an element"
   ]
  },
  {
   "cell_type": "code",
   "execution_count": 21,
   "id": "7b09e6ab-b14a-4af7-8a8f-5c315ff8fb18",
   "metadata": {
    "execution": {
     "iopub.execute_input": "2021-06-17T12:34:14.685039Z",
     "iopub.status.busy": "2021-06-17T12:34:14.684039Z",
     "iopub.status.idle": "2021-06-17T12:34:14.699042Z",
     "shell.execute_reply": "2021-06-17T12:34:14.698042Z",
     "shell.execute_reply.started": "2021-06-17T12:34:14.685039Z"
    },
    "tags": []
   },
   "outputs": [
    {
     "name": "stdout",
     "output_type": "stream",
     "text": [
      "['jude', 'python', 'datascience']\n",
      "['python', 'datascience']\n",
      "['python']\n"
     ]
    }
   ],
   "source": [
    "var_list_copy = list(var_list)\n",
    "print(var_list_copy)\n",
    "del var_list_copy[0]\n",
    "print(var_list_copy)\n",
    "del var_list_copy[-1]\n",
    "print(var_list_copy)"
   ]
  },
  {
   "cell_type": "markdown",
   "id": "b5ecb2b7-8fbf-45a0-bac6-b6caba7100bd",
   "metadata": {},
   "source": [
    "#### Adding an element"
   ]
  },
  {
   "cell_type": "code",
   "execution_count": 22,
   "id": "a5016ec9-b468-4f4e-a679-6a1b238a96b2",
   "metadata": {
    "execution": {
     "iopub.execute_input": "2021-06-17T12:34:14.701042Z",
     "iopub.status.busy": "2021-06-17T12:34:14.700042Z",
     "iopub.status.idle": "2021-06-17T12:34:14.715032Z",
     "shell.execute_reply": "2021-06-17T12:34:14.714032Z",
     "shell.execute_reply.started": "2021-06-17T12:34:14.701042Z"
    },
    "tags": []
   },
   "outputs": [
    {
     "name": "stdout",
     "output_type": "stream",
     "text": [
      "['jude', 'python', 'datascience']\n",
      "['jude', 'python', 'datascience', 'sports', 'games']\n"
     ]
    }
   ],
   "source": [
    "var_list_copy = list(var_list)\n",
    "print(var_list_copy)\n",
    "var_list_copy = var_list_copy + ['sports', 'games']\n",
    "print(var_list_copy)"
   ]
  },
  {
   "cell_type": "markdown",
   "id": "2cabc95a-a2c6-458e-bf88-c80c5eac9139",
   "metadata": {},
   "source": [
    "### Dictionary\n",
    "\n",
    "Dictionary (`dict`) is a container of key-value pairs. Similar to lists, dicts are mutable and can contain mixed types. In addition, dicts are unordered."
   ]
  },
  {
   "cell_type": "code",
   "execution_count": 23,
   "id": "fea99fe4-bc4e-4fd0-8229-128bc09e8f14",
   "metadata": {
    "execution": {
     "iopub.execute_input": "2021-06-17T12:34:14.717032Z",
     "iopub.status.busy": "2021-06-17T12:34:14.717032Z",
     "iopub.status.idle": "2021-06-17T12:34:14.731036Z",
     "shell.execute_reply": "2021-06-17T12:34:14.730035Z",
     "shell.execute_reply.started": "2021-06-17T12:34:14.717032Z"
    },
    "tags": []
   },
   "outputs": [
    {
     "data": {
      "text/plain": [
       "{'key': 'value', 'python': 100, 'programming': 9000.0}"
      ]
     },
     "execution_count": 23,
     "metadata": {},
     "output_type": "execute_result"
    }
   ],
   "source": [
    "var_dict = {'key': 'value',\n",
    "           'python': 100,\n",
    "           'programming': 9000.00}\n",
    "\n",
    "var_dict"
   ]
  },
  {
   "cell_type": "markdown",
   "id": "2192ccb1-abba-44a4-baef-4f7a94b64f63",
   "metadata": {},
   "source": [
    "#### Indexing: accessing an element"
   ]
  },
  {
   "cell_type": "code",
   "execution_count": 24,
   "id": "05706e6e-a3e7-49c1-a4d4-53841c848b12",
   "metadata": {
    "execution": {
     "iopub.execute_input": "2021-06-17T12:34:14.733036Z",
     "iopub.status.busy": "2021-06-17T12:34:14.733036Z",
     "iopub.status.idle": "2021-06-17T12:34:14.746039Z",
     "shell.execute_reply": "2021-06-17T12:34:14.745039Z",
     "shell.execute_reply.started": "2021-06-17T12:34:14.733036Z"
    }
   },
   "outputs": [
    {
     "name": "stdout",
     "output_type": "stream",
     "text": [
      "100\n"
     ]
    }
   ],
   "source": [
    "print(var_dict['python']) # we use the key to access the value"
   ]
  },
  {
   "cell_type": "markdown",
   "id": "e8cadf65-1cc9-47c2-b447-81a38e809d00",
   "metadata": {},
   "source": [
    "#### Updating an element"
   ]
  },
  {
   "cell_type": "code",
   "execution_count": 25,
   "id": "0cab14d3-e5b0-42b0-ba38-2890d968b0d5",
   "metadata": {
    "execution": {
     "iopub.execute_input": "2021-06-17T12:34:14.748039Z",
     "iopub.status.busy": "2021-06-17T12:34:14.747039Z",
     "iopub.status.idle": "2021-06-17T12:34:14.762043Z",
     "shell.execute_reply": "2021-06-17T12:34:14.761042Z",
     "shell.execute_reply.started": "2021-06-17T12:34:14.748039Z"
    },
    "tags": []
   },
   "outputs": [
    {
     "name": "stdout",
     "output_type": "stream",
     "text": [
      "{'key': 'value', 'python': 'jude', 'programming': 9000.0}\n"
     ]
    }
   ],
   "source": [
    "var_dict_copy = dict(var_dict) # we can do this to create a copy of the dict or through the following line\n",
    "# var_dict_copy = var_dict.copy()\n",
    "var_dict_copy['python'] = 'jude'\n",
    "print(var_dict_copy)"
   ]
  },
  {
   "cell_type": "markdown",
   "id": "0a21fc6b-837d-4680-9a3c-1aec813281bb",
   "metadata": {},
   "source": [
    "#### Deleting an element"
   ]
  },
  {
   "cell_type": "code",
   "execution_count": 26,
   "id": "d6783c4e-63d3-416f-bcc9-7eab0b63e70f",
   "metadata": {
    "execution": {
     "iopub.execute_input": "2021-06-17T12:34:14.764043Z",
     "iopub.status.busy": "2021-06-17T12:34:14.763043Z",
     "iopub.status.idle": "2021-06-17T12:34:14.777046Z",
     "shell.execute_reply": "2021-06-17T12:34:14.776046Z",
     "shell.execute_reply.started": "2021-06-17T12:34:14.763043Z"
    }
   },
   "outputs": [
    {
     "name": "stdout",
     "output_type": "stream",
     "text": [
      "{'key': 'value', 'python': 100}\n"
     ]
    }
   ],
   "source": [
    "var_dict_copy = var_dict.copy()\n",
    "del var_dict_copy['programming']\n",
    "print(var_dict_copy)"
   ]
  },
  {
   "cell_type": "markdown",
   "id": "206435ec-1dd7-4d00-b92d-19234acaaa3d",
   "metadata": {},
   "source": [
    "#### Adding an element"
   ]
  },
  {
   "cell_type": "code",
   "execution_count": 27,
   "id": "4efd0ad6-abe3-4960-9fd6-a221dbcef247",
   "metadata": {
    "execution": {
     "iopub.execute_input": "2021-06-17T12:34:14.778046Z",
     "iopub.status.busy": "2021-06-17T12:34:14.778046Z",
     "iopub.status.idle": "2021-06-17T12:34:14.793066Z",
     "shell.execute_reply": "2021-06-17T12:34:14.792049Z",
     "shell.execute_reply.started": "2021-06-17T12:34:14.778046Z"
    },
    "tags": []
   },
   "outputs": [
    {
     "name": "stdout",
     "output_type": "stream",
     "text": [
      "{'key': 'value', 'python': 100, 'programming': 9000.0, 'game': ['Genshin Impact', 'Witcher 3', 'DotA']}\n"
     ]
    }
   ],
   "source": [
    "var_dict_copy = var_dict.copy()\n",
    "var_dict_copy['game'] = ['Genshin Impact', 'Witcher 3', 'DotA']\n",
    "print(var_dict_copy)"
   ]
  },
  {
   "cell_type": "markdown",
   "id": "fc935ba6-28c1-4f73-ab01-e1853692b62d",
   "metadata": {},
   "source": [
    "#### Extras"
   ]
  },
  {
   "cell_type": "markdown",
   "id": "0586c897-4e35-4e74-a80e-08a6a2c9e28f",
   "metadata": {},
   "source": [
    "To get just the keys or values."
   ]
  },
  {
   "cell_type": "code",
   "execution_count": 28,
   "id": "11bc93ea-48d6-4563-8672-82ccd0b26ed3",
   "metadata": {
    "execution": {
     "iopub.execute_input": "2021-06-17T12:34:14.795054Z",
     "iopub.status.busy": "2021-06-17T12:34:14.795054Z",
     "iopub.status.idle": "2021-06-17T12:34:14.809061Z",
     "shell.execute_reply": "2021-06-17T12:34:14.808060Z",
     "shell.execute_reply.started": "2021-06-17T12:34:14.795054Z"
    }
   },
   "outputs": [
    {
     "data": {
      "text/plain": [
       "dict_keys(['key', 'python', 'programming'])"
      ]
     },
     "execution_count": 28,
     "metadata": {},
     "output_type": "execute_result"
    }
   ],
   "source": [
    "var_dict.keys()"
   ]
  },
  {
   "cell_type": "code",
   "execution_count": 29,
   "id": "a42cb58d-b60f-4898-8a9d-8603e526e858",
   "metadata": {
    "execution": {
     "iopub.execute_input": "2021-06-17T12:34:14.814066Z",
     "iopub.status.busy": "2021-06-17T12:34:14.813077Z",
     "iopub.status.idle": "2021-06-17T12:34:14.825071Z",
     "shell.execute_reply": "2021-06-17T12:34:14.824071Z",
     "shell.execute_reply.started": "2021-06-17T12:34:14.814066Z"
    }
   },
   "outputs": [
    {
     "data": {
      "text/plain": [
       "dict_values(['value', 100, 9000.0])"
      ]
     },
     "execution_count": 29,
     "metadata": {},
     "output_type": "execute_result"
    }
   ],
   "source": [
    "var_dict.values()"
   ]
  },
  {
   "cell_type": "markdown",
   "id": "31665cea-0506-41c0-98ca-0f1ca2c1a41c",
   "metadata": {},
   "source": [
    "## Control Flow\n",
    "\n",
    "In programming, there are times when we want to run a specific section of code until it satisfies a specific condition. We use control flows for that, and like all programming languages, Python has the following commands for controlling the flow of program:\n",
    "\n",
    "- Conditional Statements: if, elif, else\n",
    "- Loop Statements: for, while\n",
    "- Loop Control Statements: break, continue, pass"
   ]
  },
  {
   "cell_type": "markdown",
   "id": "cf10609e-19b3-409b-b82f-dcc00a5e8fd5",
   "metadata": {},
   "source": [
    "### Conditional Statements\n",
    "\n",
    "This is your usual if-else in other programming languages. What happens here is:\n",
    "\n",
    "- the code checks if the statement in the `if` part is true. If it is, execute the code under this block and end the whole if-else block.\n",
    "- if it is not true, it checks if the `elif` part is true. If it is, execute the code under this block and end the whole if-else block. `elif` is the equivalent of `else if` in other languages. `elif`s are the conditional statements in between `if` and `else`.\n",
    "- if none of the conditions passed applied to all the `if` and `elif`s, it will execute the code under the `else` block."
   ]
  },
  {
   "cell_type": "code",
   "execution_count": 30,
   "id": "dbec3e95-f2f7-410a-892d-7eec4ef7906b",
   "metadata": {
    "execution": {
     "iopub.execute_input": "2021-06-17T12:34:14.827072Z",
     "iopub.status.busy": "2021-06-17T12:34:14.827072Z",
     "iopub.status.idle": "2021-06-17T12:34:14.840702Z",
     "shell.execute_reply": "2021-06-17T12:34:14.839702Z",
     "shell.execute_reply.started": "2021-06-17T12:34:14.827072Z"
    }
   },
   "outputs": [
    {
     "name": "stdout",
     "output_type": "stream",
     "text": [
      "Aww! better luck next time!\n"
     ]
    }
   ],
   "source": [
    "result = 4\n",
    "if result == 1:\n",
    "    print(\"Hello there!\")\n",
    "elif result <= 3:\n",
    "    print(\"Getting there!\")\n",
    "else:\n",
    "    print(\"Aww! better luck next time!\")"
   ]
  },
  {
   "cell_type": "markdown",
   "id": "4586f253-d2de-4a80-a15e-76aa15546988",
   "metadata": {},
   "source": [
    "### Loop Statements\n",
    "\n",
    "When we want to run something multiple times, we use a loop. Python has 2 types of loops: `for` and `while` loops."
   ]
  },
  {
   "cell_type": "code",
   "execution_count": 31,
   "id": "a8a5385d-5b6c-4b75-8de4-7aa5617df544",
   "metadata": {
    "execution": {
     "iopub.execute_input": "2021-06-17T12:34:14.841702Z",
     "iopub.status.busy": "2021-06-17T12:34:14.841702Z",
     "iopub.status.idle": "2021-06-17T12:34:14.856706Z",
     "shell.execute_reply": "2021-06-17T12:34:14.855705Z",
     "shell.execute_reply.started": "2021-06-17T12:34:14.841702Z"
    }
   },
   "outputs": [
    {
     "name": "stdout",
     "output_type": "stream",
     "text": [
      "0\n",
      "1\n",
      "2\n"
     ]
    }
   ],
   "source": [
    "for i in [0,1,2]:\n",
    "    print(f\"{i}\")"
   ]
  },
  {
   "cell_type": "markdown",
   "id": "080670d0-15cb-4d75-878d-d70ad716f1de",
   "metadata": {},
   "source": [
    "A while loop tests an initial condition. If that condition is true, the loop starts executing. Every time the loop finishes, the condition is reevaluated. As long as the condition remains true, the loop keeps executing. As soon as the condition becomes false, the loop stops executing. To help you visualize this, you may use this <a href=\"http://pythontutor.com/visualize.html#code=i%20%3D%202%0Awhile%20i%20%3E%3D%200%3A%20%23%20execute%20while%20this%20is%20true%0A%20%20%20%20print%28f%22%7Bi%7D%22%29%0A%20%20%20%20i%20-%3D%201&cumulative=false&curInstr=0&heapPrimitives=nevernest&mode=display&origin=opt-frontend.js&py=3&rawInputLstJSON=%5B%5D&textReferences=false\">Python Tutor web app</a>."
   ]
  },
  {
   "cell_type": "code",
   "execution_count": 32,
   "id": "b8632688-146a-4386-9d4e-a45523cf25c4",
   "metadata": {
    "execution": {
     "iopub.execute_input": "2021-06-17T12:34:14.857706Z",
     "iopub.status.busy": "2021-06-17T12:34:14.857706Z",
     "iopub.status.idle": "2021-06-17T12:34:14.872709Z",
     "shell.execute_reply": "2021-06-17T12:34:14.871709Z",
     "shell.execute_reply.started": "2021-06-17T12:34:14.857706Z"
    },
    "tags": []
   },
   "outputs": [
    {
     "name": "stdout",
     "output_type": "stream",
     "text": [
      "2\n",
      "1\n",
      "0\n"
     ]
    }
   ],
   "source": [
    "i = 2\n",
    "while i >= 0: # execute while this is true\n",
    "    print(f\"{i}\")\n",
    "    i -= 1"
   ]
  },
  {
   "cell_type": "markdown",
   "id": "1838f70b-baad-45a4-9b35-17ec277875ed",
   "metadata": {},
   "source": [
    "### Loop Control Statements\n",
    "\n",
    "We use loop control statements to change the execution of loop from its intended sequence."
   ]
  },
  {
   "cell_type": "markdown",
   "id": "18b331d0-0b85-4e2d-b9b7-2d9de652fee4",
   "metadata": {},
   "source": [
    "#### Break\n",
    "\n",
    "This immediately stops the loop."
   ]
  },
  {
   "cell_type": "code",
   "execution_count": 33,
   "id": "db6a6c4f-7a0f-4864-81eb-8de8460d688c",
   "metadata": {
    "execution": {
     "iopub.execute_input": "2021-06-17T12:34:14.874710Z",
     "iopub.status.busy": "2021-06-17T12:34:14.873710Z",
     "iopub.status.idle": "2021-06-17T12:34:14.888713Z",
     "shell.execute_reply": "2021-06-17T12:34:14.887713Z",
     "shell.execute_reply.started": "2021-06-17T12:34:14.874710Z"
    }
   },
   "outputs": [
    {
     "name": "stdout",
     "output_type": "stream",
     "text": [
      "1\n",
      "2\n",
      "Condition satisfied\n"
     ]
    }
   ],
   "source": [
    "for i in range(1, 10):\n",
    "    if i == 3:\n",
    "        print('Condition satisfied')\n",
    "        break\n",
    "    print(i)  # What would happen if this is placed before if condition?"
   ]
  },
  {
   "cell_type": "markdown",
   "id": "685b223c-04c5-4d53-a562-1b966e9ae1f4",
   "metadata": {},
   "source": [
    "#### Continue\n",
    "\n",
    "Continue statement immediately stops the current iteration of the loop and proceeds to the next iteration of the loop."
   ]
  },
  {
   "cell_type": "code",
   "execution_count": 34,
   "id": "3a21ce0c-8d4e-45da-bf82-918b51d8d0ac",
   "metadata": {
    "execution": {
     "iopub.execute_input": "2021-06-17T12:34:14.890713Z",
     "iopub.status.busy": "2021-06-17T12:34:14.890713Z",
     "iopub.status.idle": "2021-06-17T12:34:14.904227Z",
     "shell.execute_reply": "2021-06-17T12:34:14.903268Z",
     "shell.execute_reply.started": "2021-06-17T12:34:14.890713Z"
    }
   },
   "outputs": [
    {
     "name": "stdout",
     "output_type": "stream",
     "text": [
      "1\n",
      "2\n",
      "Condition satisfied\n",
      "4\n"
     ]
    }
   ],
   "source": [
    "for i in range(1, 5):\n",
    "    if i == 3:\n",
    "        print('Condition satisfied')\n",
    "        continue\n",
    "        print(\"whatever.. I won't get printed anyways.\")\n",
    "    print(i)"
   ]
  },
  {
   "cell_type": "markdown",
   "id": "ddb89abf-6935-40c0-a656-3e63fc2e012f",
   "metadata": {},
   "source": [
    "#### Pass\n",
    "\n",
    "Performs null operation--does nothing. It is generally used as a temporary placeholder for an unimplemented logic."
   ]
  },
  {
   "cell_type": "code",
   "execution_count": 35,
   "id": "1253ee6f-a064-411f-80ee-195beee2f020",
   "metadata": {
    "execution": {
     "iopub.execute_input": "2021-06-17T12:34:14.906227Z",
     "iopub.status.busy": "2021-06-17T12:34:14.906227Z",
     "iopub.status.idle": "2021-06-17T12:34:14.919803Z",
     "shell.execute_reply": "2021-06-17T12:34:14.918803Z",
     "shell.execute_reply.started": "2021-06-17T12:34:14.906227Z"
    }
   },
   "outputs": [
    {
     "name": "stdout",
     "output_type": "stream",
     "text": [
      "1\n",
      "2\n",
      "Condition satisfied\n",
      "3\n",
      "4\n"
     ]
    }
   ],
   "source": [
    "for i in range(1, 5):\n",
    "    if i == 3:\n",
    "        print('Condition satisfied')\n",
    "        pass\n",
    "    print(i)"
   ]
  },
  {
   "cell_type": "markdown",
   "id": "ce72e9b1-5ada-4a8e-89ca-3975fb48f58c",
   "metadata": {},
   "source": [
    "## Functions\n",
    "\n",
    "Imagine the following code below:\n",
    "\n",
    "```python\n",
    "kg = 10\n",
    "lbs = kg*2.2\n",
    "print(f'{kg} kg = {lbs} lbs')\n",
    "\n",
    "...some code...\n",
    "\n",
    "kg = 87\n",
    "lbs = kg*2.2\n",
    "print(f'{kg} kg = {lbs} lbs')\n",
    "    \n",
    "```\n",
    "\n",
    "Notice that multiple lines are duplicated. When developing big software, expect to be reusing many pieces of code. That's where functions come in handy. It lets us call a block of code and executes it. We use functions for the following reasons:\n",
    " - it allows us to reuse blocks of code \n",
    " - it makes the code more readable"
   ]
  },
  {
   "cell_type": "markdown",
   "id": "07e7de0f-e2d7-469d-b937-aad07de310b4",
   "metadata": {},
   "source": [
    "### Anatomy of a function\n",
    "\n",
    "<img src=\"images/function anatomy.png\"></img>\n"
   ]
  },
  {
   "cell_type": "markdown",
   "id": "d16155c2-a2ad-4c28-9ea4-272f43e23982",
   "metadata": {},
   "source": [
    "### Defining a function\n",
    "\n",
    "We define a function by using the `def` keyword followed by the name of the function, then the parameters or the arguments encapsulated in a parentheses, and lastly, a colon `:`. The code block within every function should be indented. The function is also expected to return something back to the caller. To demonstrate, we'll turn the code above into one that uses functions."
   ]
  },
  {
   "cell_type": "code",
   "execution_count": 36,
   "id": "f19cb06c-4951-4b19-a64f-cb86f0298297",
   "metadata": {
    "execution": {
     "iopub.execute_input": "2021-06-17T12:34:14.921803Z",
     "iopub.status.busy": "2021-06-17T12:34:14.920803Z",
     "iopub.status.idle": "2021-06-17T12:34:14.935807Z",
     "shell.execute_reply": "2021-06-17T12:34:14.934807Z",
     "shell.execute_reply.started": "2021-06-17T12:34:14.921803Z"
    }
   },
   "outputs": [
    {
     "name": "stdout",
     "output_type": "stream",
     "text": [
      "10 kg = 22.0 lbs\n",
      "87 kg = 191.4 lbs\n"
     ]
    }
   ],
   "source": [
    "def kg_to_lbs(kg):\n",
    "    '''\n",
    "    Converts kilogram to pounds.\n",
    "    '''\n",
    "    lbs = kg * 2.2\n",
    "    return lbs\n",
    "\n",
    "kg = 10\n",
    "print(f'{kg} kg = {kg_to_lbs(kg)} lbs')\n",
    "# some code\n",
    "kg = 87\n",
    "print(f'{kg} kg = {kg_to_lbs(kg)} lbs')"
   ]
  },
  {
   "cell_type": "markdown",
   "id": "ca0e9f4f-bf6e-4835-bf93-2580348abc31",
   "metadata": {
    "id": "tp9vhl21y7gK"
   },
   "source": [
    "## End\n",
    "<sup>made by **Jude Michael Teves**</sup> <br>\n",
    "<sup>for comments, corrections, suggestions, please email:</sup><sup> judemichaelteves@gmail.com or jude.teves@dlsu.edu.ph</sup><br>\n"
   ]
  }
 ],
 "metadata": {
  "kernelspec": {
   "display_name": "Python 3",
   "language": "python",
   "name": "python3"
  },
  "language_info": {
   "codemirror_mode": {
    "name": "ipython",
    "version": 3
   },
   "file_extension": ".py",
   "mimetype": "text/x-python",
   "name": "python",
   "nbconvert_exporter": "python",
   "pygments_lexer": "ipython3",
   "version": "3.8.8"
  }
 },
 "nbformat": 4,
 "nbformat_minor": 5
}
