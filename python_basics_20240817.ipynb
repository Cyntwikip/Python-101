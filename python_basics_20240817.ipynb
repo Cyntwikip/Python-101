{
  "cells": [
    {
      "cell_type": "markdown",
      "id": "e57ee615-ebba-456e-b1f6-15c290cb3d0d",
      "metadata": {
        "id": "e57ee615-ebba-456e-b1f6-15c290cb3d0d"
      },
      "source": [
        "# Python Basics\n",
        "\n",
        "*Prepared by:*\n",
        "**Jude Michael Teves**  \n",
        "Faculty, Software Technology Department  \n",
        "College of Computer Studies - De La Salle University"
      ]
    },
    {
      "cell_type": "markdown",
      "id": "e68ddbde-af59-412f-9598-9ce84dcbce2c",
      "metadata": {
        "id": "e68ddbde-af59-412f-9598-9ce84dcbce2c"
      },
      "source": [
        "## Introduction to Python"
      ]
    },
    {
      "cell_type": "markdown",
      "id": "40dd0736-3365-4209-98a6-3902f1a65868",
      "metadata": {
        "id": "40dd0736-3365-4209-98a6-3902f1a65868"
      },
      "source": [
        "Python is a general-purpose and high-level object-oriented, interpreted, and interactive programming language. It is consistenly ranked among the top programming languages in the world. In Stackoverflow's 2020 survey, out of **57,378** respondents, Python ranked 4th in the most popular programming languages category.\n",
        "\n",
        "<!-- <img width=700 src=\"images/python ranking.png\" /> -->\n",
        "\n",
        "<img alt=\"\" src=\"data:image/png;base64,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\" />\n",
        "\n",
        "Python was created and released in 1991 by Guido Van Rossum. The language was designed with readability and simplicity in mind--the syntax heavily uses English words. And I think those two aspects are beautifully encapsulated in the following line in the Zen of Python.\n",
        "> There should be one-- and preferably only one --obvious way to do it  \n",
        "\n",
        "The Zen of Python is a collection of guiding principles when coding in Python.\n",
        "\n",
        "**The Zen of Python by Tim Peters**\n",
        "```\n",
        "Beautiful is better than ugly.\n",
        "Explicit is better than implicit.\n",
        "Simple is better than complex.\n",
        "Complex is better than complicated.\n",
        "Flat is better than nested.\n",
        "Sparse is better than dense.\n",
        "Readability counts.\n",
        "Special cases aren't special enough to break the rules.\n",
        "Although practicality beats purity.\n",
        "Errors should never pass silently.\n",
        "Unless explicitly silenced.\n",
        "In the face of ambiguity, refuse the temptation to guess.\n",
        "There should be one-- and preferably only one --obvious way to do it.\n",
        "Although that way may not be obvious at first unless you're Dutch.\n",
        "Now is better than never.\n",
        "Although never is often better than *right* now.\n",
        "If the implementation is hard to explain, it's a bad idea.\n",
        "If the implementation is easy to explain, it may be a good idea.\n",
        "Namespaces are one honking great idea -- let's do more of those!\n",
        "```\n",
        "\n",
        "You could also display this by running the following line of code:\n",
        "```python\n",
        "import this\n",
        "```\n",
        "<!--\n",
        "The principles above might be quite a mouthful for the unitiated, but let's highlight this particular line as I personally think this captures the essence of Python.\n",
        "--- -->\n",
        "\n",
        "<!-- <div style=\"margin-left: 50px\"> -->\n",
        "    \n",
        "<!-- hack to make the first item bold -->\n",
        "<!-- <b>Beautiful is better than ugly.</b>  -->\n",
        "<!-- **Beautiful is better than ugly.**  \n",
        "\n",
        "Python programmers recognize that good code can actually be beautiful. If you come up with a particularly elegant or efficient way to solve a problem, especially a difficult problem, other Python programmers will respect your work and may even call it beautiful. There is beauty in high-level technical work.\n",
        "\n",
        "**Explicit is better than implicit.**  \n",
        "\n",
        "It is better to be clear about what you are doing, than come up with some shorter way to do something that is difficult to understand.\n",
        "\n",
        "**Simple is better than complex. Complex is better than complicated.**  \n",
        "\n",
        "Keep your code simple whenever possible, but recognize that we sometimes take on really difficult problems for which there are no easy solutions. In those cases, accept the complexity but avoid complication.\n",
        "\n",
        "**Readability counts.**  \n",
        "\n",
        "There are very few interesting and useful programs these days that are written and maintained entirely by one person. Write your code in a way that others can read it as easily as possible, and in a way that you will be able to read and understand it 6 months from now. This includes writing good comments in your code. -->\n",
        "\n",
        "<!-- **There should be one-- and preferably only one --obvious way to do it.**  \n",
        "\n",
        "There are many ways to solve most problems that come up in programming. However, most problems have a standard, well-established approach. Save complexity for when it is needed, and solve problems in the most straightforward way possible. -->\n",
        "\n",
        "<!-- **Now is better than never.**  \n",
        "\n",
        "No one ever writes perfect code. If you have an idea you want to implement it, write some code that works. Release it, let it be used by others, and then steadily improve it.\n",
        "</div> -->\n",
        "\n",
        "---\n",
        "\n",
        "Python was made for ease of use and has since become an essential tool for different kinds of people: programmers, engineers, researchers, and data scientists across academia and industry. The reason why it's widely used is because of its large ecosystem and the availability of domain-specific libraries that have been built using it. It can do so much that you can practically do almost any computer-related tasks such as creating web applications, desktop applications, video games, robots, and also doing data analysis."
      ]
    },
    {
      "cell_type": "markdown",
      "id": "0605a7b6-8a18-4517-b5b7-367ed8641b6f",
      "metadata": {
        "id": "0605a7b6-8a18-4517-b5b7-367ed8641b6f"
      },
      "source": [
        "### \"Hello World\" in Python"
      ]
    },
    {
      "cell_type": "markdown",
      "id": "8e9af627-6595-4adc-901c-b0b14d8c09a1",
      "metadata": {
        "id": "8e9af627-6595-4adc-901c-b0b14d8c09a1"
      },
      "source": [
        "\"Hello World\" is like an initiation rite for us programmers. When we are learning a new language, we typically start with writing a simple program that prints the message \"Hello world!\". Doing this gives us some sense check that we have properly configured our new programming platform/environment."
      ]
    },
    {
      "cell_type": "code",
      "execution_count": null,
      "id": "48205725-0ea8-4fad-817e-137aa8d30d9d",
      "metadata": {
        "execution": {
          "iopub.execute_input": "2021-06-17T12:34:11.717553Z",
          "iopub.status.busy": "2021-06-17T12:34:11.716554Z",
          "iopub.status.idle": "2021-06-17T12:34:11.741559Z",
          "shell.execute_reply": "2021-06-17T12:34:11.740559Z",
          "shell.execute_reply.started": "2021-06-17T12:34:11.717553Z"
        },
        "tags": [],
        "id": "48205725-0ea8-4fad-817e-137aa8d30d9d",
        "outputId": "6516d1f6-7d8f-4233-ec44-bbb260c378ba"
      },
      "outputs": [
        {
          "name": "stdout",
          "output_type": "stream",
          "text": [
            "Hello World!\n"
          ]
        }
      ],
      "source": [
        "print('Hello World!')"
      ]
    },
    {
      "cell_type": "code",
      "execution_count": null,
      "id": "442eaf87-3441-4556-89c0-daa50da3978e",
      "metadata": {
        "execution": {
          "iopub.execute_input": "2021-06-17T12:34:11.744559Z",
          "iopub.status.busy": "2021-06-17T12:34:11.743559Z",
          "iopub.status.idle": "2021-06-17T12:34:14.396703Z",
          "shell.execute_reply": "2021-06-17T12:34:14.395703Z",
          "shell.execute_reply.started": "2021-06-17T12:34:11.744559Z"
        },
        "tags": [],
        "id": "442eaf87-3441-4556-89c0-daa50da3978e",
        "outputId": "c5364e70-f431-4493-ed25-d80287351239"
      },
      "outputs": [
        {
          "name": "stdin",
          "output_type": "stream",
          "text": [
            "What is your name?  Jude\n"
          ]
        },
        {
          "name": "stdout",
          "output_type": "stream",
          "text": [
            "Hello, Jude! Welcome to the world of Python.\n"
          ]
        }
      ],
      "source": [
        "name = input(\"What is your name? \") # input gets the input from the user\n",
        "print(\"Hello, \" + name + \"! Welcome to the world of Python.\") # print prints the text on the screen"
      ]
    },
    {
      "cell_type": "markdown",
      "id": "737df3da-93b5-4ed2-a2e6-c60f7cd134ca",
      "metadata": {
        "id": "737df3da-93b5-4ed2-a2e6-c60f7cd134ca"
      },
      "source": [
        "### Reserved Keywords\n",
        "\n",
        "You cannot use the following as variable names in Python as they reserved already:\n",
        "\n",
        "| | | | | |\n",
        "|--------|---------|----------|---------|-----|\n",
        "|and     |del      |from      |not      |while|\n",
        "|as      | elif    |global    |or       |with |\n",
        "|assert  | else    | if       |pass     |yield|\n",
        "|break   | except  | import   |print|\n",
        "|class   | exec    | in       |raise|\n",
        "|continue| finally | is       |return|\n",
        "|def     | for     | lambda   |try|"
      ]
    },
    {
      "cell_type": "markdown",
      "id": "d93f3650-9e26-4b3b-8970-112d52a53f0c",
      "metadata": {
        "id": "d93f3650-9e26-4b3b-8970-112d52a53f0c"
      },
      "source": [
        "### Variables\n",
        "\n",
        "A variable holds a value and we can change its content whenever we want. The data type can also change. The name of the variable should start with an alphabetical character or `_`, but the latter, by convention, is used for hidden or dummy variables."
      ]
    },
    {
      "cell_type": "code",
      "execution_count": null,
      "id": "42c33360-377c-4b52-9de6-789bb9841e13",
      "metadata": {
        "execution": {
          "iopub.execute_input": "2021-06-17T12:34:14.397703Z",
          "iopub.status.busy": "2021-06-17T12:34:14.397703Z",
          "iopub.status.idle": "2021-06-17T12:34:14.411706Z",
          "shell.execute_reply": "2021-06-17T12:34:14.410706Z",
          "shell.execute_reply.started": "2021-06-17T12:34:14.397703Z"
        },
        "id": "42c33360-377c-4b52-9de6-789bb9841e13",
        "outputId": "41611c78-8e8a-432b-d9af-43e34313f331"
      },
      "outputs": [
        {
          "name": "stdout",
          "output_type": "stream",
          "text": [
            "jude\n"
          ]
        }
      ],
      "source": [
        "var = 'jude'\n",
        "print(var)"
      ]
    },
    {
      "cell_type": "code",
      "execution_count": null,
      "id": "b4da6263-946f-42ad-a106-4d324e008c74",
      "metadata": {
        "execution": {
          "iopub.execute_input": "2021-06-17T12:34:14.413707Z",
          "iopub.status.busy": "2021-06-17T12:34:14.412706Z",
          "iopub.status.idle": "2021-06-17T12:34:14.427710Z",
          "shell.execute_reply": "2021-06-17T12:34:14.426710Z",
          "shell.execute_reply.started": "2021-06-17T12:34:14.413707Z"
        },
        "id": "b4da6263-946f-42ad-a106-4d324e008c74",
        "outputId": "fff608a7-472e-458d-9f33-036150dbe3b3"
      },
      "outputs": [
        {
          "name": "stdout",
          "output_type": "stream",
          "text": [
            "100\n"
          ]
        }
      ],
      "source": [
        "var = 100\n",
        "print(var)"
      ]
    },
    {
      "cell_type": "markdown",
      "id": "dd5247b4-c8b8-447c-806e-a1c2a2ac6a81",
      "metadata": {
        "id": "dd5247b4-c8b8-447c-806e-a1c2a2ac6a81"
      },
      "source": [
        "## Data Types"
      ]
    },
    {
      "cell_type": "markdown",
      "id": "03a88400-5bdf-40ad-8a39-c63475629f49",
      "metadata": {
        "id": "03a88400-5bdf-40ad-8a39-c63475629f49"
      },
      "source": [
        "### Strings\n",
        "\n",
        "A string is simply a sequence of characters. Sentences, paragraphs, or phrases that are encapsulated by `\"` (double quotes) or `'` (single quote) are strings."
      ]
    },
    {
      "cell_type": "code",
      "execution_count": null,
      "id": "4e28d348-2abb-4aa0-ad71-205951219abc",
      "metadata": {
        "execution": {
          "iopub.execute_input": "2021-06-17T12:34:14.428710Z",
          "iopub.status.busy": "2021-06-17T12:34:14.428710Z",
          "iopub.status.idle": "2021-06-17T12:34:14.443713Z",
          "shell.execute_reply": "2021-06-17T12:34:14.442713Z",
          "shell.execute_reply.started": "2021-06-17T12:34:14.428710Z"
        },
        "id": "4e28d348-2abb-4aa0-ad71-205951219abc"
      },
      "outputs": [],
      "source": [
        "text = \"hello there\" # double quotes\n",
        "text = 'i am hungry' # single quote"
      ]
    },
    {
      "cell_type": "markdown",
      "id": "2814a04b-1198-421d-8c4a-be53e7a0079a",
      "metadata": {
        "id": "2814a04b-1198-421d-8c4a-be53e7a0079a"
      },
      "source": [
        "#### String methods\n",
        "\n",
        "Here are some neat methods we can use for any string object to make our lives easier:"
      ]
    },
    {
      "cell_type": "code",
      "execution_count": null,
      "id": "fb27de3e-6673-492c-84f9-f0ddcf1da43b",
      "metadata": {
        "execution": {
          "iopub.execute_input": "2021-06-17T12:34:14.445714Z",
          "iopub.status.busy": "2021-06-17T12:34:14.444714Z",
          "iopub.status.idle": "2021-06-17T12:34:14.459717Z",
          "shell.execute_reply": "2021-06-17T12:34:14.458717Z",
          "shell.execute_reply.started": "2021-06-17T12:34:14.445714Z"
        },
        "id": "fb27de3e-6673-492c-84f9-f0ddcf1da43b",
        "outputId": "75814cee-e3a4-4e83-aa82-298bb45ac304"
      },
      "outputs": [
        {
          "data": {
            "text/plain": [
              "'I am hungry'"
            ]
          },
          "execution_count": 6,
          "metadata": {},
          "output_type": "execute_result"
        }
      ],
      "source": [
        "text.capitalize()"
      ]
    },
    {
      "cell_type": "code",
      "execution_count": null,
      "id": "0e4baa87-110a-4bac-81f0-05309a3fdbed",
      "metadata": {
        "execution": {
          "iopub.execute_input": "2021-06-17T12:34:14.461718Z",
          "iopub.status.busy": "2021-06-17T12:34:14.460717Z",
          "iopub.status.idle": "2021-06-17T12:34:14.475721Z",
          "shell.execute_reply": "2021-06-17T12:34:14.474720Z",
          "shell.execute_reply.started": "2021-06-17T12:34:14.461718Z"
        },
        "id": "0e4baa87-110a-4bac-81f0-05309a3fdbed",
        "outputId": "0a711e1b-c1a8-410a-a007-6264dddd2641"
      },
      "outputs": [
        {
          "data": {
            "text/plain": [
              "'I AM HUNGRY'"
            ]
          },
          "execution_count": 7,
          "metadata": {},
          "output_type": "execute_result"
        }
      ],
      "source": [
        "text.upper()"
      ]
    },
    {
      "cell_type": "code",
      "execution_count": null,
      "id": "b5fa6e6b-09ee-4686-8266-dd51b5df7a66",
      "metadata": {
        "execution": {
          "iopub.execute_input": "2021-06-17T12:34:14.479722Z",
          "iopub.status.busy": "2021-06-17T12:34:14.479722Z",
          "iopub.status.idle": "2021-06-17T12:34:14.491725Z",
          "shell.execute_reply": "2021-06-17T12:34:14.490724Z",
          "shell.execute_reply.started": "2021-06-17T12:34:14.479722Z"
        },
        "id": "b5fa6e6b-09ee-4686-8266-dd51b5df7a66",
        "outputId": "d6b81026-d19b-4924-be69-8b05c51b29ce"
      },
      "outputs": [
        {
          "data": {
            "text/plain": [
              "'i am angry?'"
            ]
          },
          "execution_count": 8,
          "metadata": {},
          "output_type": "execute_result"
        }
      ],
      "source": [
        "'I AM ANGRY?'.lower()"
      ]
    },
    {
      "cell_type": "code",
      "execution_count": null,
      "id": "0b782794-3ba2-4b24-8389-a4eeb973edd7",
      "metadata": {
        "execution": {
          "iopub.execute_input": "2021-06-17T12:34:14.494743Z",
          "iopub.status.busy": "2021-06-17T12:34:14.493746Z",
          "iopub.status.idle": "2021-06-17T12:34:14.507746Z",
          "shell.execute_reply": "2021-06-17T12:34:14.506746Z",
          "shell.execute_reply.started": "2021-06-17T12:34:14.494743Z"
        },
        "id": "0b782794-3ba2-4b24-8389-a4eeb973edd7",
        "outputId": "04b96f2d-a072-4a5b-ee0e-5690dd350560"
      },
      "outputs": [
        {
          "data": {
            "text/plain": [
              "'heyy'"
            ]
          },
          "execution_count": 9,
          "metadata": {},
          "output_type": "execute_result"
        }
      ],
      "source": [
        "'  heyy   '.strip()"
      ]
    },
    {
      "cell_type": "code",
      "execution_count": null,
      "id": "ac1324ad-936e-4368-bdc4-0dec3a5a451d",
      "metadata": {
        "execution": {
          "iopub.execute_input": "2021-06-17T12:34:14.508746Z",
          "iopub.status.busy": "2021-06-17T12:34:14.508746Z",
          "iopub.status.idle": "2021-06-17T12:34:14.523750Z",
          "shell.execute_reply": "2021-06-17T12:34:14.522749Z",
          "shell.execute_reply.started": "2021-06-17T12:34:14.508746Z"
        },
        "id": "ac1324ad-936e-4368-bdc4-0dec3a5a451d",
        "outputId": "e47c0bf8-7ac3-4f34-e9a2-ec1f490a9ba7"
      },
      "outputs": [
        {
          "data": {
            "text/plain": [
              "'Jude Michael'"
            ]
          },
          "execution_count": 10,
          "metadata": {},
          "output_type": "execute_result"
        }
      ],
      "source": [
        "'jude michael'.title()"
      ]
    },
    {
      "cell_type": "code",
      "execution_count": null,
      "id": "23f8c572-b995-441a-91c7-64cde1b88c89",
      "metadata": {
        "execution": {
          "iopub.execute_input": "2021-06-17T12:34:14.526750Z",
          "iopub.status.busy": "2021-06-17T12:34:14.525750Z",
          "iopub.status.idle": "2021-06-17T12:34:14.539753Z",
          "shell.execute_reply": "2021-06-17T12:34:14.538753Z",
          "shell.execute_reply.started": "2021-06-17T12:34:14.525750Z"
        },
        "tags": [],
        "id": "23f8c572-b995-441a-91c7-64cde1b88c89",
        "outputId": "1a5d42a7-9e80-4f36-de7d-e280c582006e"
      },
      "outputs": [
        {
          "data": {
            "text/plain": [
              "5"
            ]
          },
          "execution_count": 11,
          "metadata": {},
          "output_type": "execute_result"
        }
      ],
      "source": [
        "'jude michael'.index('m') # returns the index of the first instance of m"
      ]
    },
    {
      "cell_type": "markdown",
      "id": "abd389b8-0b21-4981-85df-ad7c835c82b5",
      "metadata": {
        "id": "abd389b8-0b21-4981-85df-ad7c835c82b5"
      },
      "source": [
        "### Numeric Types\n",
        "\n",
        "There are numeric data types in Python: `int`, `float`, and `complex`. 99% of the time, we will only be dealing with `int` and `float`, so let's focus on those.\n",
        "\n",
        "`int` type is used for integers and `float` is used for floating-point values (those with decimals)."
      ]
    },
    {
      "cell_type": "markdown",
      "id": "b217336a-096d-4b31-a537-20907648d11f",
      "metadata": {
        "id": "b217336a-096d-4b31-a537-20907648d11f"
      },
      "source": [
        "## Operators"
      ]
    },
    {
      "cell_type": "markdown",
      "id": "b289acd7-b0f2-4035-8bc1-cbdb99035314",
      "metadata": {
        "id": "b289acd7-b0f2-4035-8bc1-cbdb99035314"
      },
      "source": [
        "### Arithmetic Operations\n",
        "\n",
        "We can perform the following arithmetic operations in Python."
      ]
    },
    {
      "cell_type": "code",
      "execution_count": null,
      "id": "9e1368be-ed76-4323-8df4-ffb8c6190602",
      "metadata": {
        "execution": {
          "iopub.execute_input": "2021-06-17T12:34:14.541754Z",
          "iopub.status.busy": "2021-06-17T12:34:14.540754Z",
          "iopub.status.idle": "2021-06-17T12:34:14.555757Z",
          "shell.execute_reply": "2021-06-17T12:34:14.554756Z",
          "shell.execute_reply.started": "2021-06-17T12:34:14.541754Z"
        },
        "tags": [],
        "id": "9e1368be-ed76-4323-8df4-ffb8c6190602",
        "outputId": "123dafe8-b066-4ea4-d3b3-e7eeff6f07eb"
      },
      "outputs": [
        {
          "name": "stdout",
          "output_type": "stream",
          "text": [
            "3\n",
            "-1\n",
            "2\n",
            "0.5\n",
            "1\n",
            "9\n",
            "1\n"
          ]
        }
      ],
      "source": [
        "print(1 + 2)\n",
        "print(1 - 2)\n",
        "print(1 * 2) # multiplication\n",
        "print(1 / 2) # division\n",
        "print(3 // 2) # floor division\n",
        "print(3 ** 2)\n",
        "print(3 % 2) # modulus -- remainder"
      ]
    },
    {
      "cell_type": "markdown",
      "id": "babcb707-dd51-478f-b8d6-f9a5bf7c40ab",
      "metadata": {
        "id": "babcb707-dd51-478f-b8d6-f9a5bf7c40ab"
      },
      "source": [
        "### Relational Operators\n",
        "\n",
        "aka Comparison Operators. These are used to compare and identify relationships between operands."
      ]
    },
    {
      "cell_type": "code",
      "execution_count": null,
      "id": "b52f6b03-0108-4a4b-b94f-7d6b6972a3af",
      "metadata": {
        "execution": {
          "iopub.execute_input": "2021-06-17T12:34:14.557757Z",
          "iopub.status.busy": "2021-06-17T12:34:14.557757Z",
          "iopub.status.idle": "2021-06-17T12:34:14.571760Z",
          "shell.execute_reply": "2021-06-17T12:34:14.570760Z",
          "shell.execute_reply.started": "2021-06-17T12:34:14.557757Z"
        },
        "id": "b52f6b03-0108-4a4b-b94f-7d6b6972a3af",
        "outputId": "8f4bba27-3450-41e5-c2d5-e7f01553963b"
      },
      "outputs": [
        {
          "name": "stdout",
          "output_type": "stream",
          "text": [
            "True\n",
            "False\n",
            "False\n",
            "False\n",
            "True\n",
            "True\n"
          ]
        }
      ],
      "source": [
        "a, b = 10, 10\n",
        "\n",
        "print(a == b)  # Equal to\n",
        "print(a != b)  # Not equal to\n",
        "print(a > b)  # Greater than\n",
        "print(a < b)  # Less than\n",
        "print(a >= b)  # Greater than or equal to\n",
        "print(a <= b)  # Less than or equal to"
      ]
    },
    {
      "cell_type": "markdown",
      "id": "60870b50-0f83-4f78-94f4-b0f094af52ba",
      "metadata": {
        "id": "60870b50-0f83-4f78-94f4-b0f094af52ba"
      },
      "source": [
        "### Logical Operators\n",
        "\n",
        "**AND ( and )**  \n",
        "If both the operands are true, the condition becomes true.\n",
        "\n",
        "**OR ( or )**  \n",
        "If any of the two operands are true, the condition becomes true.\n",
        "\n",
        "**NOT (not)**  \n",
        "Reverses the logical state of the operand. If true, it will become false and vice-versa."
      ]
    },
    {
      "cell_type": "code",
      "execution_count": null,
      "id": "04b13ecb-13b5-4f9b-8b5a-21ff72382ff7",
      "metadata": {
        "execution": {
          "iopub.execute_input": "2021-06-17T12:34:14.573761Z",
          "iopub.status.busy": "2021-06-17T12:34:14.572761Z",
          "iopub.status.idle": "2021-06-17T12:34:14.587764Z",
          "shell.execute_reply": "2021-06-17T12:34:14.586764Z",
          "shell.execute_reply.started": "2021-06-17T12:34:14.573761Z"
        },
        "tags": [],
        "id": "04b13ecb-13b5-4f9b-8b5a-21ff72382ff7",
        "outputId": "5ac8bbf8-14d7-49dd-b1f7-8532f34dd1a2"
      },
      "outputs": [
        {
          "name": "stdout",
          "output_type": "stream",
          "text": [
            "False\n",
            "True\n",
            "True to False\n"
          ]
        }
      ],
      "source": [
        "c, d = True, False\n",
        "print(c and d)\n",
        "print(c or d)\n",
        "print(f'{c} to {not c}')"
      ]
    },
    {
      "cell_type": "markdown",
      "id": "43b363cd-19b0-4d8c-ab51-3fc9cb752dc5",
      "metadata": {
        "id": "43b363cd-19b0-4d8c-ab51-3fc9cb752dc5"
      },
      "source": [
        "## Data Structures\n",
        "\n",
        "Python has the following data structures:\n",
        "\n",
        "|Type|Description|Example|\n",
        "|---|---|---|\n",
        "|list|Ordered collection of values|[1, 'abc', 3, 1]|\n",
        "|set|Unordered collection of unique values|{1, 'abc', 3}|\n",
        "|tuple|Immutable Ordered collection|(1, 'abc', 3)|\n",
        "|dict|Unordered key. value pairs|{'abc': 1, 'def': 2}|"
      ]
    },
    {
      "cell_type": "markdown",
      "id": "442ce18b-1c88-4d98-beab-4f05573e085e",
      "metadata": {
        "id": "442ce18b-1c88-4d98-beab-4f05573e085e"
      },
      "source": [
        "### Lists and Tuples\n",
        "\n",
        "In Python, both lists and tuples can contain values of any data type. The only difference is that tuples are immutable--we cannot do append, insert, and delete."
      ]
    },
    {
      "cell_type": "code",
      "execution_count": null,
      "id": "61347318-3651-4a0d-a220-7fc1113dcb0b",
      "metadata": {
        "execution": {
          "iopub.execute_input": "2021-06-17T12:34:14.589764Z",
          "iopub.status.busy": "2021-06-17T12:34:14.588765Z",
          "iopub.status.idle": "2021-06-17T12:34:14.603215Z",
          "shell.execute_reply": "2021-06-17T12:34:14.602199Z",
          "shell.execute_reply.started": "2021-06-17T12:34:14.589764Z"
        },
        "id": "61347318-3651-4a0d-a220-7fc1113dcb0b",
        "outputId": "63538f19-04cd-44cf-8a88-a0eaf34a07d2"
      },
      "outputs": [
        {
          "name": "stdout",
          "output_type": "stream",
          "text": [
            "['jude', 'python', 'datascience']\n",
            "('jude', 'python', 'datascience')\n"
          ]
        }
      ],
      "source": [
        "var_list = ['jude', 'python', 'datascience']\n",
        "var_tuple = ('jude', 'python', 'datascience')\n",
        "\n",
        "print(var_list)\n",
        "print(var_tuple)"
      ]
    },
    {
      "cell_type": "markdown",
      "id": "a7d757b8-c880-440f-a24a-8bf5ddbe1c21",
      "metadata": {
        "id": "a7d757b8-c880-440f-a24a-8bf5ddbe1c21"
      },
      "source": [
        "#### Indexing: accessing an element\n",
        "\n",
        "Remember that Python is 0-index, which means that the counter starts at 0."
      ]
    },
    {
      "cell_type": "code",
      "execution_count": null,
      "id": "13a6341f-334b-4b51-b073-fde637513ca0",
      "metadata": {
        "execution": {
          "iopub.execute_input": "2021-06-17T12:34:14.604217Z",
          "iopub.status.busy": "2021-06-17T12:34:14.604217Z",
          "iopub.status.idle": "2021-06-17T12:34:14.619238Z",
          "shell.execute_reply": "2021-06-17T12:34:14.618238Z",
          "shell.execute_reply.started": "2021-06-17T12:34:14.604217Z"
        },
        "id": "13a6341f-334b-4b51-b073-fde637513ca0",
        "outputId": "b3a6fb0a-2330-4f39-b3ad-effa7080e764"
      },
      "outputs": [
        {
          "name": "stdout",
          "output_type": "stream",
          "text": [
            "jude\n",
            "python\n"
          ]
        }
      ],
      "source": [
        "print(var_list[0])\n",
        "print(var_tuple[1])"
      ]
    },
    {
      "cell_type": "code",
      "execution_count": null,
      "id": "027d826e-e7f1-44f4-8ba8-9bfc411bee52",
      "metadata": {
        "execution": {
          "iopub.execute_input": "2021-06-17T12:34:14.621239Z",
          "iopub.status.busy": "2021-06-17T12:34:14.620238Z",
          "iopub.status.idle": "2021-06-17T12:34:14.635279Z",
          "shell.execute_reply": "2021-06-17T12:34:14.634279Z",
          "shell.execute_reply.started": "2021-06-17T12:34:14.621239Z"
        },
        "id": "027d826e-e7f1-44f4-8ba8-9bfc411bee52",
        "outputId": "10224796-8aa7-4ceb-a033-a2de7da15b66"
      },
      "outputs": [
        {
          "name": "stdout",
          "output_type": "stream",
          "text": [
            "datascience\n"
          ]
        }
      ],
      "source": [
        "print(var_list[-1]) # we use -1 to access the last element in our data structure"
      ]
    },
    {
      "cell_type": "markdown",
      "id": "e9bdbf38-449d-4829-b347-20d9d9c8b199",
      "metadata": {
        "id": "e9bdbf38-449d-4829-b347-20d9d9c8b199"
      },
      "source": [
        "#### Slicing: accessing multiple elements concurrently\n",
        "\n",
        "Note that slicing is not inclusive on the right side of the range, which means the last number is excluded."
      ]
    },
    {
      "cell_type": "code",
      "execution_count": null,
      "id": "bf9be245-58d5-4e18-af2f-a3f9eedb26ff",
      "metadata": {
        "execution": {
          "iopub.execute_input": "2021-06-17T12:34:14.637267Z",
          "iopub.status.busy": "2021-06-17T12:34:14.636269Z",
          "iopub.status.idle": "2021-06-17T12:34:14.651031Z",
          "shell.execute_reply": "2021-06-17T12:34:14.650031Z",
          "shell.execute_reply.started": "2021-06-17T12:34:14.637267Z"
        },
        "tags": [],
        "id": "bf9be245-58d5-4e18-af2f-a3f9eedb26ff",
        "outputId": "890732be-857a-49ff-c221-023b15d8a1e0"
      },
      "outputs": [
        {
          "name": "stdout",
          "output_type": "stream",
          "text": [
            "('jude', 'python')\n",
            "('python', 'datascience')\n"
          ]
        }
      ],
      "source": [
        "print(var_tuple[:2]) # access indices first element up until the 2nd index (3rd element)\n",
        "print(var_tuple[-2:]) # access second last element up until the last"
      ]
    },
    {
      "cell_type": "markdown",
      "id": "3296f7c7-ba43-411c-a623-e82b0c8c7454",
      "metadata": {
        "id": "3296f7c7-ba43-411c-a623-e82b0c8c7454"
      },
      "source": [
        "#### Sorting values"
      ]
    },
    {
      "cell_type": "code",
      "execution_count": null,
      "id": "540612e8-2f06-4f62-b8bb-319a9b62e224",
      "metadata": {
        "execution": {
          "iopub.execute_input": "2021-06-17T12:34:14.652031Z",
          "iopub.status.busy": "2021-06-17T12:34:14.652031Z",
          "iopub.status.idle": "2021-06-17T12:34:14.667035Z",
          "shell.execute_reply": "2021-06-17T12:34:14.666035Z",
          "shell.execute_reply.started": "2021-06-17T12:34:14.652031Z"
        },
        "tags": [],
        "id": "540612e8-2f06-4f62-b8bb-319a9b62e224",
        "outputId": "67dedabc-a834-446f-e1c6-7e0022375420"
      },
      "outputs": [
        {
          "name": "stdout",
          "output_type": "stream",
          "text": [
            "['datascience', 'jude', 'python']\n",
            "['python', 'jude', 'datascience']\n"
          ]
        }
      ],
      "source": [
        "var_sorted = sorted(var_list)\n",
        "print(var_sorted)\n",
        "var_sorted = sorted(var_list, reverse=True)\n",
        "print(var_sorted)"
      ]
    },
    {
      "cell_type": "markdown",
      "id": "b0f29ff6-00de-4076-9a76-bee2c053ea2a",
      "metadata": {
        "id": "b0f29ff6-00de-4076-9a76-bee2c053ea2a"
      },
      "source": [
        "#### Updating an element\n",
        "\n",
        "We can only do this for list as tuple is immutable."
      ]
    },
    {
      "cell_type": "code",
      "execution_count": null,
      "id": "1374c316-5877-469e-8b6f-d63db3da3d6d",
      "metadata": {
        "execution": {
          "iopub.execute_input": "2021-06-17T12:34:14.669035Z",
          "iopub.status.busy": "2021-06-17T12:34:14.669035Z",
          "iopub.status.idle": "2021-06-17T12:34:14.683038Z",
          "shell.execute_reply": "2021-06-17T12:34:14.682038Z",
          "shell.execute_reply.started": "2021-06-17T12:34:14.669035Z"
        },
        "tags": [],
        "id": "1374c316-5877-469e-8b6f-d63db3da3d6d",
        "outputId": "168c085e-6d97-4fad-821a-0534e1256daa"
      },
      "outputs": [
        {
          "name": "stdout",
          "output_type": "stream",
          "text": [
            "['jude', 'python', 'datascience']\n",
            "['michael', 'python', 'datascience']\n"
          ]
        }
      ],
      "source": [
        "var_list_copy = list(var_list)\n",
        "\n",
        "print(var_list_copy)\n",
        "var_list_copy[0] = 'michael'\n",
        "print(var_list_copy)"
      ]
    },
    {
      "cell_type": "markdown",
      "id": "aafa6071-eab5-4e0c-b07e-f40346441fd8",
      "metadata": {
        "id": "aafa6071-eab5-4e0c-b07e-f40346441fd8"
      },
      "source": [
        "#### Deleting an element"
      ]
    },
    {
      "cell_type": "code",
      "execution_count": null,
      "id": "7b09e6ab-b14a-4af7-8a8f-5c315ff8fb18",
      "metadata": {
        "execution": {
          "iopub.execute_input": "2021-06-17T12:34:14.685039Z",
          "iopub.status.busy": "2021-06-17T12:34:14.684039Z",
          "iopub.status.idle": "2021-06-17T12:34:14.699042Z",
          "shell.execute_reply": "2021-06-17T12:34:14.698042Z",
          "shell.execute_reply.started": "2021-06-17T12:34:14.685039Z"
        },
        "tags": [],
        "id": "7b09e6ab-b14a-4af7-8a8f-5c315ff8fb18",
        "outputId": "66cccb18-3c28-4e10-ba04-bfe3a46a1e89"
      },
      "outputs": [
        {
          "name": "stdout",
          "output_type": "stream",
          "text": [
            "['jude', 'python', 'datascience']\n",
            "['python', 'datascience']\n",
            "['python']\n"
          ]
        }
      ],
      "source": [
        "var_list_copy = list(var_list)\n",
        "print(var_list_copy)\n",
        "del var_list_copy[0]\n",
        "print(var_list_copy)\n",
        "del var_list_copy[-1]\n",
        "print(var_list_copy)"
      ]
    },
    {
      "cell_type": "markdown",
      "id": "b5ecb2b7-8fbf-45a0-bac6-b6caba7100bd",
      "metadata": {
        "id": "b5ecb2b7-8fbf-45a0-bac6-b6caba7100bd"
      },
      "source": [
        "#### Adding an element"
      ]
    },
    {
      "cell_type": "code",
      "execution_count": null,
      "id": "a5016ec9-b468-4f4e-a679-6a1b238a96b2",
      "metadata": {
        "execution": {
          "iopub.execute_input": "2021-06-17T12:34:14.701042Z",
          "iopub.status.busy": "2021-06-17T12:34:14.700042Z",
          "iopub.status.idle": "2021-06-17T12:34:14.715032Z",
          "shell.execute_reply": "2021-06-17T12:34:14.714032Z",
          "shell.execute_reply.started": "2021-06-17T12:34:14.701042Z"
        },
        "tags": [],
        "id": "a5016ec9-b468-4f4e-a679-6a1b238a96b2",
        "outputId": "855c8423-6b53-41a4-8226-769a7533ddf1"
      },
      "outputs": [
        {
          "name": "stdout",
          "output_type": "stream",
          "text": [
            "['jude', 'python', 'datascience']\n",
            "['jude', 'python', 'datascience', 'sports', 'games']\n"
          ]
        }
      ],
      "source": [
        "var_list_copy = list(var_list)\n",
        "print(var_list_copy)\n",
        "var_list_copy = var_list_copy + ['sports', 'games']\n",
        "print(var_list_copy)"
      ]
    },
    {
      "cell_type": "markdown",
      "id": "2cabc95a-a2c6-458e-bf88-c80c5eac9139",
      "metadata": {
        "id": "2cabc95a-a2c6-458e-bf88-c80c5eac9139"
      },
      "source": [
        "### Dictionary\n",
        "\n",
        "Dictionary (`dict`) is a container of key-value pairs. Similar to lists, dicts are mutable and can contain mixed types. In addition, dicts are unordered."
      ]
    },
    {
      "cell_type": "code",
      "execution_count": null,
      "id": "fea99fe4-bc4e-4fd0-8229-128bc09e8f14",
      "metadata": {
        "execution": {
          "iopub.execute_input": "2021-06-17T12:34:14.717032Z",
          "iopub.status.busy": "2021-06-17T12:34:14.717032Z",
          "iopub.status.idle": "2021-06-17T12:34:14.731036Z",
          "shell.execute_reply": "2021-06-17T12:34:14.730035Z",
          "shell.execute_reply.started": "2021-06-17T12:34:14.717032Z"
        },
        "tags": [],
        "colab": {
          "base_uri": "https://localhost:8080/"
        },
        "id": "fea99fe4-bc4e-4fd0-8229-128bc09e8f14",
        "outputId": "bbdfba0e-3949-4d27-e542-7a3e1743dfed"
      },
      "outputs": [
        {
          "output_type": "execute_result",
          "data": {
            "text/plain": [
              "{'key': 'value', 'python': 100, 'programming': 9000.0}"
            ]
          },
          "metadata": {},
          "execution_count": 1
        }
      ],
      "source": [
        "var_dict = {'key': 'value',\n",
        "           'python': 100,\n",
        "           'programming': 9000.00}\n",
        "\n",
        "var_dict"
      ]
    },
    {
      "cell_type": "markdown",
      "id": "2192ccb1-abba-44a4-baef-4f7a94b64f63",
      "metadata": {
        "id": "2192ccb1-abba-44a4-baef-4f7a94b64f63"
      },
      "source": [
        "#### Indexing: accessing an element"
      ]
    },
    {
      "cell_type": "code",
      "execution_count": null,
      "id": "05706e6e-a3e7-49c1-a4d4-53841c848b12",
      "metadata": {
        "execution": {
          "iopub.execute_input": "2021-06-17T12:34:14.733036Z",
          "iopub.status.busy": "2021-06-17T12:34:14.733036Z",
          "iopub.status.idle": "2021-06-17T12:34:14.746039Z",
          "shell.execute_reply": "2021-06-17T12:34:14.745039Z",
          "shell.execute_reply.started": "2021-06-17T12:34:14.733036Z"
        },
        "colab": {
          "base_uri": "https://localhost:8080/"
        },
        "id": "05706e6e-a3e7-49c1-a4d4-53841c848b12",
        "outputId": "fbf26f40-f2b2-41a8-a5c3-6859ca2eee7a"
      },
      "outputs": [
        {
          "output_type": "stream",
          "name": "stdout",
          "text": [
            "100\n"
          ]
        }
      ],
      "source": [
        "print(var_dict['python']) # we use the key to access the value"
      ]
    },
    {
      "cell_type": "markdown",
      "id": "e8cadf65-1cc9-47c2-b447-81a38e809d00",
      "metadata": {
        "id": "e8cadf65-1cc9-47c2-b447-81a38e809d00"
      },
      "source": [
        "#### Updating an element"
      ]
    },
    {
      "cell_type": "code",
      "execution_count": null,
      "id": "0cab14d3-e5b0-42b0-ba38-2890d968b0d5",
      "metadata": {
        "execution": {
          "iopub.execute_input": "2021-06-17T12:34:14.748039Z",
          "iopub.status.busy": "2021-06-17T12:34:14.747039Z",
          "iopub.status.idle": "2021-06-17T12:34:14.762043Z",
          "shell.execute_reply": "2021-06-17T12:34:14.761042Z",
          "shell.execute_reply.started": "2021-06-17T12:34:14.748039Z"
        },
        "tags": [],
        "colab": {
          "base_uri": "https://localhost:8080/"
        },
        "id": "0cab14d3-e5b0-42b0-ba38-2890d968b0d5",
        "outputId": "fe1a13c2-7828-4395-e8d0-4ef4c89ea182"
      },
      "outputs": [
        {
          "output_type": "stream",
          "name": "stdout",
          "text": [
            "{'key': 'value', 'python': 'jude', 'programming': 9000.0}\n"
          ]
        }
      ],
      "source": [
        "var_dict_copy = dict(var_dict) # we can do this to create a copy of the dict or through the following line\n",
        "# var_dict_copy = var_dict.copy()\n",
        "var_dict_copy['python'] = 'jude'\n",
        "print(var_dict_copy)"
      ]
    },
    {
      "cell_type": "markdown",
      "id": "0a21fc6b-837d-4680-9a3c-1aec813281bb",
      "metadata": {
        "id": "0a21fc6b-837d-4680-9a3c-1aec813281bb"
      },
      "source": [
        "#### Deleting an element"
      ]
    },
    {
      "cell_type": "code",
      "execution_count": null,
      "id": "d6783c4e-63d3-416f-bcc9-7eab0b63e70f",
      "metadata": {
        "execution": {
          "iopub.execute_input": "2021-06-17T12:34:14.764043Z",
          "iopub.status.busy": "2021-06-17T12:34:14.763043Z",
          "iopub.status.idle": "2021-06-17T12:34:14.777046Z",
          "shell.execute_reply": "2021-06-17T12:34:14.776046Z",
          "shell.execute_reply.started": "2021-06-17T12:34:14.763043Z"
        },
        "colab": {
          "base_uri": "https://localhost:8080/"
        },
        "id": "d6783c4e-63d3-416f-bcc9-7eab0b63e70f",
        "outputId": "ec28c529-7ba5-40a6-9a7a-980e5a70e6bd"
      },
      "outputs": [
        {
          "output_type": "stream",
          "name": "stdout",
          "text": [
            "{'key': 'value', 'python': 100}\n"
          ]
        }
      ],
      "source": [
        "var_dict_copy = var_dict.copy()\n",
        "del var_dict_copy['programming']\n",
        "print(var_dict_copy)"
      ]
    },
    {
      "cell_type": "markdown",
      "id": "206435ec-1dd7-4d00-b92d-19234acaaa3d",
      "metadata": {
        "id": "206435ec-1dd7-4d00-b92d-19234acaaa3d"
      },
      "source": [
        "#### Adding an element"
      ]
    },
    {
      "cell_type": "code",
      "execution_count": null,
      "id": "4efd0ad6-abe3-4960-9fd6-a221dbcef247",
      "metadata": {
        "execution": {
          "iopub.execute_input": "2021-06-17T12:34:14.778046Z",
          "iopub.status.busy": "2021-06-17T12:34:14.778046Z",
          "iopub.status.idle": "2021-06-17T12:34:14.793066Z",
          "shell.execute_reply": "2021-06-17T12:34:14.792049Z",
          "shell.execute_reply.started": "2021-06-17T12:34:14.778046Z"
        },
        "tags": [],
        "colab": {
          "base_uri": "https://localhost:8080/"
        },
        "id": "4efd0ad6-abe3-4960-9fd6-a221dbcef247",
        "outputId": "f8c7a6f4-0acc-483d-c011-faa201104f63"
      },
      "outputs": [
        {
          "output_type": "stream",
          "name": "stdout",
          "text": [
            "{'key': 'value', 'python': 100, 'programming': 9000.0, 'game': ['Genshin Impact', 'Witcher 3', 'DotA']}\n"
          ]
        }
      ],
      "source": [
        "var_dict_copy = var_dict.copy()\n",
        "var_dict_copy['game'] = ['Genshin Impact', 'Witcher 3', 'DotA']\n",
        "print(var_dict_copy)"
      ]
    },
    {
      "cell_type": "code",
      "source": [
        "var_dict_copy['game'][0]"
      ],
      "metadata": {
        "id": "d2OP4mvYXnxH",
        "outputId": "12d72d01-4350-497a-ddb6-166a53eb4ea9",
        "colab": {
          "base_uri": "https://localhost:8080/",
          "height": 35
        }
      },
      "id": "d2OP4mvYXnxH",
      "execution_count": null,
      "outputs": [
        {
          "output_type": "execute_result",
          "data": {
            "text/plain": [
              "'Genshin Impact'"
            ],
            "application/vnd.google.colaboratory.intrinsic+json": {
              "type": "string"
            }
          },
          "metadata": {},
          "execution_count": 8
        }
      ]
    },
    {
      "cell_type": "markdown",
      "id": "fc935ba6-28c1-4f73-ab01-e1853692b62d",
      "metadata": {
        "id": "fc935ba6-28c1-4f73-ab01-e1853692b62d"
      },
      "source": [
        "#### Extras"
      ]
    },
    {
      "cell_type": "markdown",
      "id": "0586c897-4e35-4e74-a80e-08a6a2c9e28f",
      "metadata": {
        "id": "0586c897-4e35-4e74-a80e-08a6a2c9e28f"
      },
      "source": [
        "To get just the keys or values."
      ]
    },
    {
      "cell_type": "code",
      "execution_count": null,
      "id": "11bc93ea-48d6-4563-8672-82ccd0b26ed3",
      "metadata": {
        "execution": {
          "iopub.execute_input": "2021-06-17T12:34:14.795054Z",
          "iopub.status.busy": "2021-06-17T12:34:14.795054Z",
          "iopub.status.idle": "2021-06-17T12:34:14.809061Z",
          "shell.execute_reply": "2021-06-17T12:34:14.808060Z",
          "shell.execute_reply.started": "2021-06-17T12:34:14.795054Z"
        },
        "id": "11bc93ea-48d6-4563-8672-82ccd0b26ed3",
        "outputId": "4bea97bb-86ab-4e4b-b12e-63fb16c9ee3a"
      },
      "outputs": [
        {
          "data": {
            "text/plain": [
              "dict_keys(['key', 'python', 'programming'])"
            ]
          },
          "execution_count": 28,
          "metadata": {},
          "output_type": "execute_result"
        }
      ],
      "source": [
        "var_dict.keys()"
      ]
    },
    {
      "cell_type": "code",
      "execution_count": null,
      "id": "a42cb58d-b60f-4898-8a9d-8603e526e858",
      "metadata": {
        "execution": {
          "iopub.execute_input": "2021-06-17T12:34:14.814066Z",
          "iopub.status.busy": "2021-06-17T12:34:14.813077Z",
          "iopub.status.idle": "2021-06-17T12:34:14.825071Z",
          "shell.execute_reply": "2021-06-17T12:34:14.824071Z",
          "shell.execute_reply.started": "2021-06-17T12:34:14.814066Z"
        },
        "id": "a42cb58d-b60f-4898-8a9d-8603e526e858",
        "outputId": "7c171af3-1f7c-4f8b-b615-d56bdd2f2628"
      },
      "outputs": [
        {
          "data": {
            "text/plain": [
              "dict_values(['value', 100, 9000.0])"
            ]
          },
          "execution_count": 29,
          "metadata": {},
          "output_type": "execute_result"
        }
      ],
      "source": [
        "var_dict.values()"
      ]
    },
    {
      "cell_type": "markdown",
      "id": "31665cea-0506-41c0-98ca-0f1ca2c1a41c",
      "metadata": {
        "id": "31665cea-0506-41c0-98ca-0f1ca2c1a41c"
      },
      "source": [
        "## Control Flow\n",
        "\n",
        "In programming, there are times when we want to run a specific section of code until it satisfies a specific condition. We use control flows for that, and like all programming languages, Python has the following commands for controlling the flow of program:\n",
        "\n",
        "- Conditional Statements: if, elif, else\n",
        "- Loop Statements: for, while\n",
        "- Loop Control Statements: break, continue, pass"
      ]
    },
    {
      "cell_type": "markdown",
      "id": "cf10609e-19b3-409b-b82f-dcc00a5e8fd5",
      "metadata": {
        "id": "cf10609e-19b3-409b-b82f-dcc00a5e8fd5"
      },
      "source": [
        "### Conditional Statements\n",
        "\n",
        "This is your usual if-else in other programming languages. What happens here is:\n",
        "\n",
        "- the code checks if the statement in the `if` part is true. If it is, execute the code under this block and end the whole if-else block.\n",
        "- if it is not true, it checks if the `elif` part is true. If it is, execute the code under this block and end the whole if-else block. `elif` is the equivalent of `else if` in other languages. `elif`s are the conditional statements in between `if` and `else`.\n",
        "- if none of the conditions passed applied to all the `if` and `elif`s, it will execute the code under the `else` block."
      ]
    },
    {
      "cell_type": "code",
      "execution_count": null,
      "id": "dbec3e95-f2f7-410a-892d-7eec4ef7906b",
      "metadata": {
        "execution": {
          "iopub.execute_input": "2021-06-17T12:34:14.827072Z",
          "iopub.status.busy": "2021-06-17T12:34:14.827072Z",
          "iopub.status.idle": "2021-06-17T12:34:14.840702Z",
          "shell.execute_reply": "2021-06-17T12:34:14.839702Z",
          "shell.execute_reply.started": "2021-06-17T12:34:14.827072Z"
        },
        "id": "dbec3e95-f2f7-410a-892d-7eec4ef7906b",
        "outputId": "0e9bde3b-3a6b-4914-a31b-1d1f00908eb4"
      },
      "outputs": [
        {
          "name": "stdout",
          "output_type": "stream",
          "text": [
            "Aww! better luck next time!\n"
          ]
        }
      ],
      "source": [
        "result = 4\n",
        "if result == 1:\n",
        "    print(\"Hello there!\")\n",
        "elif result <= 3:\n",
        "    print(\"Getting there!\")\n",
        "else:\n",
        "    print(\"Aww! better luck next time!\")"
      ]
    },
    {
      "cell_type": "markdown",
      "id": "4586f253-d2de-4a80-a15e-76aa15546988",
      "metadata": {
        "id": "4586f253-d2de-4a80-a15e-76aa15546988"
      },
      "source": [
        "### Loop Statements\n",
        "\n",
        "When we want to run something multiple times, we use a loop. Python has 2 types of loops: `for` and `while` loops."
      ]
    },
    {
      "cell_type": "code",
      "execution_count": null,
      "id": "a8a5385d-5b6c-4b75-8de4-7aa5617df544",
      "metadata": {
        "execution": {
          "iopub.execute_input": "2021-06-17T12:34:14.841702Z",
          "iopub.status.busy": "2021-06-17T12:34:14.841702Z",
          "iopub.status.idle": "2021-06-17T12:34:14.856706Z",
          "shell.execute_reply": "2021-06-17T12:34:14.855705Z",
          "shell.execute_reply.started": "2021-06-17T12:34:14.841702Z"
        },
        "id": "a8a5385d-5b6c-4b75-8de4-7aa5617df544",
        "outputId": "c3f05954-65a6-48d0-badf-d7ffc5fb846d"
      },
      "outputs": [
        {
          "name": "stdout",
          "output_type": "stream",
          "text": [
            "0\n",
            "1\n",
            "2\n"
          ]
        }
      ],
      "source": [
        "for i in [0,1,2]:\n",
        "    print(f\"{i}\")"
      ]
    },
    {
      "cell_type": "markdown",
      "id": "080670d0-15cb-4d75-878d-d70ad716f1de",
      "metadata": {
        "id": "080670d0-15cb-4d75-878d-d70ad716f1de"
      },
      "source": [
        "A while loop tests an initial condition. If that condition is true, the loop starts executing. Every time the loop finishes, the condition is reevaluated. As long as the condition remains true, the loop keeps executing. As soon as the condition becomes false, the loop stops executing. To help you visualize this, you may use this <a href=\"http://pythontutor.com/visualize.html#code=i%20%3D%202%0Awhile%20i%20%3E%3D%200%3A%20%23%20execute%20while%20this%20is%20true%0A%20%20%20%20print%28f%22%7Bi%7D%22%29%0A%20%20%20%20i%20-%3D%201&cumulative=false&curInstr=0&heapPrimitives=nevernest&mode=display&origin=opt-frontend.js&py=3&rawInputLstJSON=%5B%5D&textReferences=false\">Python Tutor web app</a>."
      ]
    },
    {
      "cell_type": "code",
      "execution_count": null,
      "id": "b8632688-146a-4386-9d4e-a45523cf25c4",
      "metadata": {
        "execution": {
          "iopub.execute_input": "2021-06-17T12:34:14.857706Z",
          "iopub.status.busy": "2021-06-17T12:34:14.857706Z",
          "iopub.status.idle": "2021-06-17T12:34:14.872709Z",
          "shell.execute_reply": "2021-06-17T12:34:14.871709Z",
          "shell.execute_reply.started": "2021-06-17T12:34:14.857706Z"
        },
        "tags": [],
        "id": "b8632688-146a-4386-9d4e-a45523cf25c4",
        "outputId": "654843da-cd23-404d-95e8-8c13d7be5e47"
      },
      "outputs": [
        {
          "name": "stdout",
          "output_type": "stream",
          "text": [
            "2\n",
            "1\n",
            "0\n"
          ]
        }
      ],
      "source": [
        "i = 2\n",
        "while i >= 0: # execute while this is true\n",
        "    print(f\"{i}\")\n",
        "    i -= 1"
      ]
    },
    {
      "cell_type": "markdown",
      "id": "1838f70b-baad-45a4-9b35-17ec277875ed",
      "metadata": {
        "id": "1838f70b-baad-45a4-9b35-17ec277875ed"
      },
      "source": [
        "### Loop Control Statements\n",
        "\n",
        "We use loop control statements to change the execution of loop from its intended sequence."
      ]
    },
    {
      "cell_type": "markdown",
      "id": "18b331d0-0b85-4e2d-b9b7-2d9de652fee4",
      "metadata": {
        "id": "18b331d0-0b85-4e2d-b9b7-2d9de652fee4"
      },
      "source": [
        "#### Break\n",
        "\n",
        "This immediately stops the loop."
      ]
    },
    {
      "cell_type": "code",
      "execution_count": null,
      "id": "db6a6c4f-7a0f-4864-81eb-8de8460d688c",
      "metadata": {
        "execution": {
          "iopub.execute_input": "2021-06-17T12:34:14.874710Z",
          "iopub.status.busy": "2021-06-17T12:34:14.873710Z",
          "iopub.status.idle": "2021-06-17T12:34:14.888713Z",
          "shell.execute_reply": "2021-06-17T12:34:14.887713Z",
          "shell.execute_reply.started": "2021-06-17T12:34:14.874710Z"
        },
        "id": "db6a6c4f-7a0f-4864-81eb-8de8460d688c",
        "outputId": "76b42531-b345-4e94-c814-8e59e05ea65d"
      },
      "outputs": [
        {
          "name": "stdout",
          "output_type": "stream",
          "text": [
            "1\n",
            "2\n",
            "Condition satisfied\n"
          ]
        }
      ],
      "source": [
        "for i in range(1, 10):\n",
        "    if i == 3:\n",
        "        print('Condition satisfied')\n",
        "        break\n",
        "    print(i)  # What would happen if this is placed before if condition?"
      ]
    },
    {
      "cell_type": "markdown",
      "id": "685b223c-04c5-4d53-a562-1b966e9ae1f4",
      "metadata": {
        "id": "685b223c-04c5-4d53-a562-1b966e9ae1f4"
      },
      "source": [
        "#### Continue\n",
        "\n",
        "Continue statement immediately stops the current iteration of the loop and proceeds to the next iteration of the loop."
      ]
    },
    {
      "cell_type": "code",
      "execution_count": null,
      "id": "3a21ce0c-8d4e-45da-bf82-918b51d8d0ac",
      "metadata": {
        "execution": {
          "iopub.execute_input": "2021-06-17T12:34:14.890713Z",
          "iopub.status.busy": "2021-06-17T12:34:14.890713Z",
          "iopub.status.idle": "2021-06-17T12:34:14.904227Z",
          "shell.execute_reply": "2021-06-17T12:34:14.903268Z",
          "shell.execute_reply.started": "2021-06-17T12:34:14.890713Z"
        },
        "id": "3a21ce0c-8d4e-45da-bf82-918b51d8d0ac",
        "outputId": "e7cd9702-52ec-462d-9392-6b5e6d2b4e2c"
      },
      "outputs": [
        {
          "name": "stdout",
          "output_type": "stream",
          "text": [
            "1\n",
            "2\n",
            "Condition satisfied\n",
            "4\n"
          ]
        }
      ],
      "source": [
        "for i in range(1, 5):\n",
        "    if i == 3:\n",
        "        print('Condition satisfied')\n",
        "        continue\n",
        "        print(\"whatever.. I won't get printed anyways.\")\n",
        "    print(i)"
      ]
    },
    {
      "cell_type": "markdown",
      "id": "ddb89abf-6935-40c0-a656-3e63fc2e012f",
      "metadata": {
        "id": "ddb89abf-6935-40c0-a656-3e63fc2e012f"
      },
      "source": [
        "#### Pass\n",
        "\n",
        "Performs null operation--does nothing. It is generally used as a temporary placeholder for an unimplemented logic."
      ]
    },
    {
      "cell_type": "code",
      "execution_count": null,
      "id": "1253ee6f-a064-411f-80ee-195beee2f020",
      "metadata": {
        "execution": {
          "iopub.execute_input": "2021-06-17T12:34:14.906227Z",
          "iopub.status.busy": "2021-06-17T12:34:14.906227Z",
          "iopub.status.idle": "2021-06-17T12:34:14.919803Z",
          "shell.execute_reply": "2021-06-17T12:34:14.918803Z",
          "shell.execute_reply.started": "2021-06-17T12:34:14.906227Z"
        },
        "id": "1253ee6f-a064-411f-80ee-195beee2f020",
        "outputId": "3a96aced-a258-492c-cf89-07460a70cc7d"
      },
      "outputs": [
        {
          "name": "stdout",
          "output_type": "stream",
          "text": [
            "1\n",
            "2\n",
            "Condition satisfied\n",
            "3\n",
            "4\n"
          ]
        }
      ],
      "source": [
        "for i in range(1, 5):\n",
        "    if i == 3:\n",
        "        print('Condition satisfied')\n",
        "        pass\n",
        "    print(i)"
      ]
    },
    {
      "cell_type": "markdown",
      "id": "ce72e9b1-5ada-4a8e-89ca-3975fb48f58c",
      "metadata": {
        "id": "ce72e9b1-5ada-4a8e-89ca-3975fb48f58c"
      },
      "source": [
        "## Functions\n",
        "\n",
        "Imagine the following code below:\n",
        "\n",
        "```python\n",
        "kg = 10\n",
        "lbs = kg*2.2\n",
        "print(f'{kg} kg = {lbs} lbs')\n",
        "\n",
        "...some code...\n",
        "\n",
        "kg = 87\n",
        "lbs = kg*2.2\n",
        "print(f'{kg} kg = {lbs} lbs')\n",
        "    \n",
        "```\n",
        "\n",
        "Notice that multiple lines are duplicated. When developing big software, expect to be reusing many pieces of code. That's where functions come in handy. It lets us call a block of code and executes it. We use functions for the following reasons:\n",
        " - it allows us to reuse blocks of code\n",
        " - it makes the code more readable"
      ]
    },
    {
      "cell_type": "markdown",
      "id": "07e7de0f-e2d7-469d-b937-aad07de310b4",
      "metadata": {
        "id": "07e7de0f-e2d7-469d-b937-aad07de310b4"
      },
      "source": [
        "### Anatomy of a function\n",
        "\n",
        "<!-- <img src=\"images/function anatomy.png\"></img> -->\n",
        "\n",
        "<img alt=\"\" src=\"data:image/png;base64,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\" />\n"
      ]
    },
    {
      "cell_type": "markdown",
      "id": "d16155c2-a2ad-4c28-9ea4-272f43e23982",
      "metadata": {
        "id": "d16155c2-a2ad-4c28-9ea4-272f43e23982"
      },
      "source": [
        "### Defining a function\n",
        "\n",
        "We define a function by using the `def` keyword followed by the name of the function, then the parameters or the arguments encapsulated in a parentheses, and lastly, a colon `:`. The code block within every function should be indented. The function is also expected to return something back to the caller. To demonstrate, we'll turn the code above into one that uses functions."
      ]
    },
    {
      "cell_type": "code",
      "execution_count": null,
      "id": "f19cb06c-4951-4b19-a64f-cb86f0298297",
      "metadata": {
        "execution": {
          "iopub.execute_input": "2021-06-17T12:34:14.921803Z",
          "iopub.status.busy": "2021-06-17T12:34:14.920803Z",
          "iopub.status.idle": "2021-06-17T12:34:14.935807Z",
          "shell.execute_reply": "2021-06-17T12:34:14.934807Z",
          "shell.execute_reply.started": "2021-06-17T12:34:14.921803Z"
        },
        "id": "f19cb06c-4951-4b19-a64f-cb86f0298297",
        "outputId": "49a12ace-530d-42b2-b8d0-f9c646ae542a"
      },
      "outputs": [
        {
          "name": "stdout",
          "output_type": "stream",
          "text": [
            "10 kg = 22.0 lbs\n",
            "87 kg = 191.4 lbs\n"
          ]
        }
      ],
      "source": [
        "def kg_to_lbs(kg):\n",
        "    '''\n",
        "    Converts kilogram to pounds.\n",
        "    '''\n",
        "    lbs = kg * 2.2\n",
        "    return lbs\n",
        "\n",
        "kg = 10\n",
        "print(f'{kg} kg = {kg_to_lbs(kg)} lbs')\n",
        "# some code\n",
        "kg = 87\n",
        "print(f'{kg} kg = {kg_to_lbs(kg)} lbs')"
      ]
    },
    {
      "cell_type": "markdown",
      "id": "ca0e9f4f-bf6e-4835-bf93-2580348abc31",
      "metadata": {
        "id": "ca0e9f4f-bf6e-4835-bf93-2580348abc31"
      },
      "source": [
        "## End\n",
        "<sup>made by **Jude Michael Teves**</sup> <br>\n",
        "<sup>for comments, corrections, suggestions, please email:</sup><sup> judemichaelteves@gmail.com or jude.teves@dlsu.edu.ph</sup><br>\n"
      ]
    }
  ],
  "metadata": {
    "kernelspec": {
      "display_name": "Python 3",
      "language": "python",
      "name": "python3"
    },
    "language_info": {
      "codemirror_mode": {
        "name": "ipython",
        "version": 3
      },
      "file_extension": ".py",
      "mimetype": "text/x-python",
      "name": "python",
      "nbconvert_exporter": "python",
      "pygments_lexer": "ipython3",
      "version": "3.8.8"
    },
    "colab": {
      "provenance": [],
      "toc_visible": true
    }
  },
  "nbformat": 4,
  "nbformat_minor": 5
}