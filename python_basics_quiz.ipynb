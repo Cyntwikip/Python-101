{
 "cells": [
  {
   "cell_type": "markdown",
   "metadata": {},
   "source": [
    "# Python Basics Quiz\n",
    "\n",
    "*Prepared by:*\n",
    "**Jude Michael Teves**  \n",
    "Faculty, Software Technology Department  \n",
    "College of Computer Studies - De La Salle University"
   ]
  },
  {
   "cell_type": "markdown",
   "metadata": {},
   "source": [
    "## Basic Python\n",
    "\n",
    "For the following questions under this section, you may not use any third-party library such as `numpy`, `pandas`, and `matplotlib`."
   ]
  },
  {
   "cell_type": "markdown",
   "metadata": {},
   "source": [
    "### Problem 1: List Manipulation\n",
    "\n",
    "Given the list below, sort it in descending order and return the fourth, third, and second to the last elements. \n",
    "\n",
    "For example, if you initially have `[1, 2, 3, 4, 5]`, return `[4, 3, 2]`."
   ]
  },
  {
   "cell_type": "code",
   "execution_count": 2,
   "metadata": {
    "execution": {
     "iopub.execute_input": "2021-06-17T18:25:15.685195Z",
     "iopub.status.busy": "2021-06-17T18:25:15.685195Z",
     "iopub.status.idle": "2021-06-17T18:25:15.715713Z",
     "shell.execute_reply": "2021-06-17T18:25:15.714714Z",
     "shell.execute_reply.started": "2021-06-17T18:25:15.685195Z"
    },
    "tags": []
   },
   "outputs": [],
   "source": [
    "var_list = ['jude', 'python', 'datascience', 'Programming', '', ' ', '_', '*']\n",
    "\n",
    "# your code here"
   ]
  },
  {
   "cell_type": "markdown",
   "metadata": {},
   "source": [
    "### Problem 2: Loops and Controls\n",
    "\n",
    "Given an integer i, create a code which does the following:\n",
    " - Step 1: Print based on the following conditions:\n",
    "     - print `fizz` if `i` is divisible by 5.\n",
    "     - print `fuzz` if `i` is divisible by 2. If it is both divisible by 5 and 2, just print `fizz`.\n",
    "     - print `foo` if not divisible by 5 or 2.\n",
    " - Step 2: Deduct 1 from the the current value of integer `i`.\n",
    " - Step 3: Go back to Step 1 if `i` is greater than 0.\n",
    "\n",
    "For instance, if ```i = 10```, we should get the following result:\n",
    "\n",
    "```\n",
    "fizz\n",
    "foo\n",
    "fuzz\n",
    "foo\n",
    "fuzz\n",
    "fizz\n",
    "fuzz\n",
    "foo\n",
    "fuzz\n",
    "foo\n",
    "```"
   ]
  },
  {
   "cell_type": "code",
   "execution_count": 3,
   "metadata": {
    "execution": {
     "iopub.execute_input": "2021-06-17T18:25:15.717714Z",
     "iopub.status.busy": "2021-06-17T18:25:15.717714Z",
     "iopub.status.idle": "2021-06-17T18:25:15.730716Z",
     "shell.execute_reply": "2021-06-17T18:25:15.729716Z",
     "shell.execute_reply.started": "2021-06-17T18:25:15.717714Z"
    },
    "tags": []
   },
   "outputs": [],
   "source": [
    "i = 10\n",
    "\n",
    "# your code here"
   ]
  },
  {
   "cell_type": "markdown",
   "metadata": {},
   "source": [
    "## Problem 3: String Manipulation\n",
    "\n",
    "Extract the title of the passenger given his/her whole name. Just to add more context, these names are from the Titanic dataset, which has the details of the passengers in that ship."
   ]
  },
  {
   "cell_type": "code",
   "execution_count": 7,
   "metadata": {},
   "outputs": [],
   "source": [
    "def get_title(name:str) -> str:\n",
    "    '''\n",
    "    Extracts the title given a name.\n",
    "    \n",
    "    Parameters\n",
    "    ----------\n",
    "    name : str\n",
    "        The passenger's name.\n",
    "        \n",
    "    Returns\n",
    "    ----------\n",
    "    str\n",
    "        The title of the passenger extracted from the name.\n",
    "    '''\n",
    "    \n",
    "    # YOUR CODE HERE\n",
    "    title = name.split(\", \")[1].split()[0]\n",
    "    return title"
   ]
  },
  {
   "cell_type": "code",
   "execution_count": 8,
   "metadata": {},
   "outputs": [
    {
     "data": {
      "text/plain": [
       "'Mr.'"
      ]
     },
     "execution_count": 8,
     "metadata": {},
     "output_type": "execute_result"
    }
   ],
   "source": [
    "sample_name = \"Braund, Mr. Owen Harris\" \n",
    "get_title(sample_name) # this should return Mr."
   ]
  },
  {
   "cell_type": "code",
   "execution_count": 9,
   "metadata": {},
   "outputs": [
    {
     "data": {
      "text/plain": [
       "'Mrs.'"
      ]
     },
     "execution_count": 9,
     "metadata": {},
     "output_type": "execute_result"
    }
   ],
   "source": [
    "sample_name = \"Cumings, Mrs. John Bradley (Florence Briggs Thayer)\"\n",
    "get_title(sample_name) # this should return Mrs."
   ]
  },
  {
   "cell_type": "code",
   "execution_count": 10,
   "metadata": {},
   "outputs": [
    {
     "data": {
      "text/plain": [
       "'Miss.'"
      ]
     },
     "execution_count": 10,
     "metadata": {},
     "output_type": "execute_result"
    }
   ],
   "source": [
    "sample_name = \"Heikkinen, Miss. Laina\"\n",
    "get_title(sample_name) # this should return Miss."
   ]
  },
  {
   "cell_type": "markdown",
   "metadata": {},
   "source": [
    "## Problem 4: Reading Data and String Manipulation\n",
    "\n",
    "- Read the logs from the following URL: https://raw.githubusercontent.com/Cyntwikip/data-repository/main/logs.txt\n",
    "- Extract the year, month, day, hour, minute, second, IP address, and port\n",
    "\n",
    "For example, given this input:\n",
    "```\n",
    "2018-07-12 10:53:32 - (network)[INFO][127.0.0.1:57534]: GET http://127.0.0.1:8081/v1/get/landuse?lng=121.02787971496582&lat=14.606591351724205&d=500  200 1883\n",
    "2018-07-12 10:54:14 - (network)[INFO][127.0.0.1:57534]: GET http://127.0.0.1:8081/v1/get/landuse?lng=120.54113388061523&lat=14.67892177840028&d=500  200 1884\n",
    "2018-07-12 10:54:17 - (network)[INFO][127.0.0.1:57534]: GET http://127.0.0.1:8081/v1/get/landuse?lng=120.27711868286133&lat=14.82400863570895&d=500  200 719\n",
    "2018-07-12 10:54:20 - (network)[INFO][127.0.0.1:57534]: GET http://127.0.0.1:8081/v1/get/landuse?lng=120.91775894165039&lat=14.096787557861887&d=500  200 345\n",
    "```\n",
    "\n",
    "The output is:\n",
    "```python\n",
    "[{'year':2018, 'month':7, 'day':12, 'hour':10, 'minute':53, 'second':32, 'IP address': \"127.0.0.1\", 'port':57534},\n",
    " ...\n",
    "]\n",
    "```"
   ]
  },
  {
   "cell_type": "code",
   "execution_count": 11,
   "metadata": {},
   "outputs": [
    {
     "data": {
      "text/plain": [
       "'2018-07-12 10:53:32 - (network)[INFO][127.0.0.1:57534]: GET http://127.0.0.1:8081/v1/get/landuse?lng=121.02787971496582&lat=14.606591351724205&d=500  200 1883\\n2018-07-12 10:54:14 - (network)[INFO][127.0.0.1:57534]: GET http://127.0.0.1:8081/v1/get/landuse?lng=120.54113388061523&lat=14.67892177840028&d=500  200 1884\\n2018-07-12 10:54:17 - (network)[INFO][127.0.0.1:57534]: GET http://127.0.0.1:8081/v1/get/landuse?lng=120.27711868286133&lat=14.82400863570895&d=500  200 719\\n2018-07-12 10:54:20 - (network)[INFO][127.0.0.1:57534]: GET http://127.0.0.1:8081/v1/get/landuse?lng=120.91775894165039&lat=14.096787557861887&d=500  200 345'"
      ]
     },
     "execution_count": 11,
     "metadata": {},
     "output_type": "execute_result"
    }
   ],
   "source": [
    "import requests\n",
    "\n",
    "url = \"https://raw.githubusercontent.com/Cyntwikip/data-repository/main/logs.txt\"\n",
    "logs = requests.get(url).text\n",
    "logs"
   ]
  },
  {
   "cell_type": "code",
   "execution_count": 12,
   "metadata": {},
   "outputs": [],
   "source": [
    "# your code here"
   ]
  },
  {
   "cell_type": "markdown",
   "metadata": {},
   "source": [
    "## ASCII Art\n",
    "\n",
    "ASCII art is any art created by printing characters on the screen."
   ]
  },
  {
   "cell_type": "markdown",
   "metadata": {},
   "source": [
    "### Problem 5: Hourglass / X-box\n",
    "\n",
    "Create a program that prints out an hourglass (X bounded by a box) using asteriks (*), where the dimension of the box is `n x n`. We assume that `n` is always an odd number for this problem.\n",
    "\n",
    "For example, if `n` = 5, print the following:\n",
    "\n",
    "```\n",
    "*****\n",
    "** **\n",
    "* * *\n",
    "** **\n",
    "*****\n",
    "```\n",
    "\n",
    "If `n` = 9, print the following:\n",
    "```\n",
    "*********\n",
    "**     **\n",
    "* *   * *\n",
    "*  * *  *\n",
    "*   *   *\n",
    "*  * *  *\n",
    "* *   * *\n",
    "**     **\n",
    "*********\n",
    "```\n",
    "\n",
    "Your code should not be hard-coded and must adapt to different `n` values."
   ]
  },
  {
   "cell_type": "code",
   "execution_count": 9,
   "metadata": {
    "execution": {
     "iopub.execute_input": "2021-06-17T18:25:19.533744Z",
     "iopub.status.busy": "2021-06-17T18:25:19.532224Z",
     "iopub.status.idle": "2021-06-17T18:25:19.566727Z",
     "shell.execute_reply": "2021-06-17T18:25:19.564726Z",
     "shell.execute_reply.started": "2021-06-17T18:25:19.533744Z"
    }
   },
   "outputs": [],
   "source": [
    "n = 9\n",
    "# your code here"
   ]
  },
  {
   "cell_type": "markdown",
   "metadata": {},
   "source": [
    "## Math Problems\n",
    "\n",
    "The following problems are taken from <a href=\"https://projecteuler.net/\">Project Euler</a>.\n",
    "\n",
    "**What is Project Euler?**\n",
    "\n",
    "> \"Project Euler is a website dedicated to a series of computational problems intended to be solved with computer programs. The project attracts adults and students interested in mathematics and computer programming. Since its creation in 2001 by Colin Hughes, Project Euler has gained notability and popularity worldwide.\" - <a href=\"https://en.wikipedia.org/wiki/Project_Euler\">Wikipedia</a>\n",
    "\n",
    "On their website, we can see this footer message:\n",
    "> \"Project Euler exists to encourage, challenge, and develop the skills and enjoyment of anyone with an interest in the fascinating world of mathematics.\"\n",
    "\n",
    "For the following questions, you may not use any third-party library such as `numpy`, `pandas`, and `matplotlib`."
   ]
  },
  {
   "cell_type": "markdown",
   "metadata": {},
   "source": [
    "### Problem 6: Multiples of 3 and 5\n",
    "\n",
    "If we list all the natural numbers below 10 that are multiples of 3 or 5, we get 3, 5, 6 and 9. The sum of these multiples is 23.\n",
    "\n",
    "Find the sum of all the multiples of 3 or 5 below 1000."
   ]
  },
  {
   "cell_type": "code",
   "execution_count": 10,
   "metadata": {
    "execution": {
     "iopub.execute_input": "2021-06-17T18:25:38.377825Z",
     "iopub.status.busy": "2021-06-17T18:25:38.376824Z",
     "iopub.status.idle": "2021-06-17T18:25:38.383854Z",
     "shell.execute_reply": "2021-06-17T18:25:38.382892Z",
     "shell.execute_reply.started": "2021-06-17T18:25:38.376824Z"
    }
   },
   "outputs": [],
   "source": [
    "# your code here"
   ]
  },
  {
   "cell_type": "markdown",
   "metadata": {},
   "source": [
    "### Problem 7: Even Fibonacci Numbers\n",
    "\n",
    "Each new term in the Fibonacci sequence is generated by adding the previous two terms. By starting with 1 and 2, the first 10 terms will be:\n",
    "\n",
    "```1, 2, 3, 5, 8, 13, 21, 34, 55, 89, ...```\n",
    "\n",
    "By considering the terms in the Fibonacci sequence whose values do not exceed four million, find the sum of the even-valued terms."
   ]
  },
  {
   "cell_type": "code",
   "execution_count": 11,
   "metadata": {
    "execution": {
     "iopub.execute_input": "2021-06-17T18:25:39.365627Z",
     "iopub.status.busy": "2021-06-17T18:25:39.365627Z",
     "iopub.status.idle": "2021-06-17T18:25:39.384550Z",
     "shell.execute_reply": "2021-06-17T18:25:39.383632Z",
     "shell.execute_reply.started": "2021-06-17T18:25:39.365627Z"
    }
   },
   "outputs": [],
   "source": [
    "# your code here"
   ]
  },
  {
   "cell_type": "markdown",
   "metadata": {
    "id": "tp9vhl21y7gK"
   },
   "source": [
    "## End\n",
    "<sup>made by **Jude Michael Teves**</sup> <br>\n",
    "<sup>for comments, corrections, suggestions, please email:</sup><sup> judemichaelteves@gmail.com or jude.teves@dlsu.edu.ph</sup><br>\n"
   ]
  }
 ],
 "metadata": {
  "kernelspec": {
   "display_name": "Python 3",
   "language": "python",
   "name": "python3"
  },
  "language_info": {
   "codemirror_mode": {
    "name": "ipython",
    "version": 3
   },
   "file_extension": ".py",
   "mimetype": "text/x-python",
   "name": "python",
   "nbconvert_exporter": "python",
   "pygments_lexer": "ipython3",
   "version": "3.7.3"
  }
 },
 "nbformat": 4,
 "nbformat_minor": 5
}
