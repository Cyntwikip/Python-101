{
  "nbformat": 4,
  "nbformat_minor": 0,
  "metadata": {
    "colab": {
      "provenance": [],
      "toc_visible": true
    },
    "kernelspec": {
      "name": "python3",
      "display_name": "Python 3"
    },
    "language_info": {
      "name": "python"
    }
  },
  "cells": [
    {
      "cell_type": "markdown",
      "source": [
        "# Python Data Science Quiz\n",
        "\n",
        "*Prepared by:*\n",
        "**Jude Michael Teves**  \n",
        "Faculty, Software Technology Department  \n",
        "College of Computer Studies - De La Salle University"
      ],
      "metadata": {
        "id": "eYI8UwZUTAg4"
      }
    },
    {
      "cell_type": "markdown",
      "source": [
        "## Problem 1: Sorting (2 pts)\n",
        "\n",
        "Given the list below, return the indices of the elements sorted in descending order.\n",
        "\n",
        "For example, if you initially have `[1, 9, 5, 7, 100, -20]`, return `[4, 1, 3, 2, 0, 5]`."
      ],
      "metadata": {
        "id": "oW-24_rITG9W"
      }
    },
    {
      "cell_type": "code",
      "source": [
        "X = [1, 9, 5, 7, 100, -20]\n",
        "\n",
        "# YOUR CODE HERE"
      ],
      "metadata": {
        "id": "G2Ze-1v3TJKI"
      },
      "execution_count": 30,
      "outputs": []
    },
    {
      "cell_type": "markdown",
      "source": [
        "## Problem 2: Most Common Elements (2 pts)\n",
        "\n",
        "Given a list of numbers, return the top 5 most common elements in `dict` format. The key is the element and the value is the count. The value could be in `int` or `float` data type.\n",
        "\n",
        "\n",
        "For example:  \n",
        "\n",
        "Input: `([0.37, 0.95, 0.73, 0.6 , 0.16, 0.16, 0.06, 0.87, 0.6 , 0.71, 0.02,\n",
        "       0.97, 0.83, 0.21, 0.18, 0.18, 0.3 , 0.52, 0.43, 0.29, 0.61, 0.14,\n",
        "       0.29, 0.37, 0.46, 0.79, 0.2 , 0.51, 0.59, 0.05, 0.61, 0.17, 0.07,\n",
        "       0.95, 0.97, 0.81, 0.3 , 0.1 , 0.68, 0.44, 0.12, 0.5 , 0.03, 0.91,\n",
        "       0.26, 0.66, 0.31, 0.52, 0.55, 0.18, 0.97, 0.78, 0.94, 0.89, 0.6 ,\n",
        "       0.92, 0.09, 0.2 , 0.05, 0.33, 0.39, 0.27, 0.83, 0.36, 0.28, 0.54,\n",
        "       0.14, 0.8 , 0.07, 0.99, 0.77, 0.2 , 0.01, 0.82, 0.71, 0.73, 0.77,\n",
        "       0.07, 0.36, 0.12, 0.86, 0.62, 0.33, 0.06, 0.31, 0.33, 0.73, 0.64,\n",
        "       0.89, 0.47, 0.12, 0.71, 0.76, 0.56, 0.77, 0.49, 0.52, 0.43, 0.03,\n",
        "       0.11])`\n",
        "\n",
        "\n",
        "Output: `{0.12: 3.0, 0.33: 3.0, 0.07: 3.0, 0.52: 3.0, 0.18: 3.0}`"
      ],
      "metadata": {
        "id": "QagASH62TI0o"
      }
    },
    {
      "cell_type": "code",
      "source": [
        "import numpy as np\n",
        "\n",
        "np.random.seed(42)\n",
        "X = np.around(np.random.random(100), 2)\n",
        "\n",
        "# YOUR CODE HERE"
      ],
      "metadata": {
        "id": "Cx0RjaMSTBwH"
      },
      "execution_count": 56,
      "outputs": []
    },
    {
      "cell_type": "markdown",
      "source": [
        "## Problem 3: String Manipulation (2 pts)\n",
        "\n",
        "Extract the title of the passenger given his/her whole name. Just to add more context, these names are from the Titanic dataset, which has the details of the passengers in that ship. Replace ```raise NotImplementedError``` with your code. "
      ],
      "metadata": {
        "id": "75DeDMTtTSqm"
      }
    },
    {
      "cell_type": "code",
      "execution_count": null,
      "metadata": {
        "id": "vsWhvyvgSGeT"
      },
      "outputs": [],
      "source": [
        "def get_title(name:str) -> str:\n",
        "    '''\n",
        "    Extracts the title given a name.\n",
        "    \n",
        "    Parameters\n",
        "    ----------\n",
        "    name : str\n",
        "        The passenger's name.\n",
        "        \n",
        "    Returns\n",
        "    ----------\n",
        "    str\n",
        "        The title of the passenger extracted from the name.\n",
        "    '''\n",
        "    \n",
        "    # YOUR CODE HERE\n",
        "    raise NotImplementedError\n",
        "    return title"
      ]
    },
    {
      "cell_type": "code",
      "execution_count": null,
      "metadata": {
        "id": "a84Ln2ZBSGeV",
        "outputId": "36ec35ff-215e-4bf8-9aa4-b31d65d5deab"
      },
      "outputs": [
        {
          "data": {
            "text/plain": [
              "'Mr.'"
            ]
          },
          "execution_count": 8,
          "metadata": {},
          "output_type": "execute_result"
        }
      ],
      "source": [
        "sample_name = \"Braund, Mr. Owen Harris\" \n",
        "get_title(sample_name) # this should return Mr."
      ]
    },
    {
      "cell_type": "code",
      "execution_count": null,
      "metadata": {
        "id": "92y2vy7tSGeX",
        "outputId": "ed8eed7b-7714-4dc2-d51a-0f1ca9bd44ca"
      },
      "outputs": [
        {
          "data": {
            "text/plain": [
              "'Mrs.'"
            ]
          },
          "execution_count": 9,
          "metadata": {},
          "output_type": "execute_result"
        }
      ],
      "source": [
        "sample_name = \"Cumings, Mrs. John Bradley (Florence Briggs Thayer)\"\n",
        "get_title(sample_name) # this should return Mrs."
      ]
    },
    {
      "cell_type": "code",
      "execution_count": null,
      "metadata": {
        "id": "dUla2ET1SGeY",
        "outputId": "50a2499c-03a7-4a07-fbd8-16cb53d51305"
      },
      "outputs": [
        {
          "data": {
            "text/plain": [
              "'Miss.'"
            ]
          },
          "execution_count": 10,
          "metadata": {},
          "output_type": "execute_result"
        }
      ],
      "source": [
        "sample_name = \"Heikkinen, Miss. Laina\"\n",
        "get_title(sample_name) # this should return Miss."
      ]
    },
    {
      "cell_type": "markdown",
      "metadata": {
        "id": "5M3ks-SdSGeZ"
      },
      "source": [
        "## Problem 4: Reading Data and String Manipulation (8 pts)\n",
        "\n",
        "- Read the logs from the following URL: https://raw.githubusercontent.com/Cyntwikip/data-repository/main/logs.txt\n",
        "- Extract the year, month, day, hour, minute, second, IP address, and port\n",
        "\n",
        "For example, given this input:\n",
        "```\n",
        "2018-07-12 10:53:32 - (network)[INFO][127.0.0.1:57534]: GET http://127.0.0.1:8081/v1/get/landuse?lng=121.02787971496582&lat=14.606591351724205&d=500  200 1883\n",
        "2018-07-12 10:54:14 - (network)[INFO][127.0.0.1:57534]: GET http://127.0.0.1:8081/v1/get/landuse?lng=120.54113388061523&lat=14.67892177840028&d=500  200 1884\n",
        "2018-07-12 10:54:17 - (network)[INFO][127.0.0.1:57534]: GET http://127.0.0.1:8081/v1/get/landuse?lng=120.27711868286133&lat=14.82400863570895&d=500  200 719\n",
        "2018-07-12 10:54:20 - (network)[INFO][127.0.0.1:57534]: GET http://127.0.0.1:8081/v1/get/landuse?lng=120.91775894165039&lat=14.096787557861887&d=500  200 345\n",
        "```\n",
        "\n",
        "The output is:\n",
        "```python\n",
        "[{'year':2018, 'month':7, 'day':12, 'hour':10, 'minute':53, 'second':32, 'IP address': \"127.0.0.1\", 'port':57534},\n",
        " ...\n",
        "]\n",
        "```"
      ]
    },
    {
      "cell_type": "code",
      "execution_count": null,
      "metadata": {
        "id": "0J_l-jLBSGea",
        "outputId": "0d5b35fc-3e64-436e-c4fc-ffebd80ba744"
      },
      "outputs": [
        {
          "data": {
            "text/plain": [
              "'2018-07-12 10:53:32 - (network)[INFO][127.0.0.1:57534]: GET http://127.0.0.1:8081/v1/get/landuse?lng=121.02787971496582&lat=14.606591351724205&d=500  200 1883\\n2018-07-12 10:54:14 - (network)[INFO][127.0.0.1:57534]: GET http://127.0.0.1:8081/v1/get/landuse?lng=120.54113388061523&lat=14.67892177840028&d=500  200 1884\\n2018-07-12 10:54:17 - (network)[INFO][127.0.0.1:57534]: GET http://127.0.0.1:8081/v1/get/landuse?lng=120.27711868286133&lat=14.82400863570895&d=500  200 719\\n2018-07-12 10:54:20 - (network)[INFO][127.0.0.1:57534]: GET http://127.0.0.1:8081/v1/get/landuse?lng=120.91775894165039&lat=14.096787557861887&d=500  200 345'"
            ]
          },
          "execution_count": 11,
          "metadata": {},
          "output_type": "execute_result"
        }
      ],
      "source": [
        "import requests\n",
        "\n",
        "url = \"https://raw.githubusercontent.com/Cyntwikip/data-repository/main/logs.txt\"\n",
        "logs = requests.get(url).text\n",
        "logs"
      ]
    },
    {
      "cell_type": "code",
      "execution_count": null,
      "metadata": {
        "id": "xjkYDfGbSGea"
      },
      "outputs": [],
      "source": [
        "# your code here"
      ]
    },
    {
      "cell_type": "markdown",
      "source": [
        "## Problem 5: Distance Measurement (6 pts)\n",
        "\n",
        " - Implement Minkowski distance.\n",
        " - Don't use loops. Use Numpy. \n",
        " - Replace ```raise NotImplementedError``` with your code. \n",
        "\n",
        "\n",
        "For reference, here is the formula for Minkowski Distance:  \n",
        " \n",
        "$$Dist(\\bar{X}, \\bar{Y}) = ({\\sum_i |x_i - y_i|^p})^{1/p}$$\n",
        "\n",
        "---\n",
        "\n",
        "Suppose our $p$ = 2 and reference $point$ = [0,0,0,0] and we are computing its distances from points $X_1$ = [0,0,0,0] and $X_2$ = [1,0,0,-1], we will get the following distances:\n",
        "\n",
        "$Dist(X_1, point) $ = $(|0-0|^2 + |0-0|^2 + |0-0|^2 + |0-0|^2)^(1/2)$  \n",
        "$Dist(X_1, point) $ = $0$\n",
        "\n",
        "$Dist(X_2, point) $ = $(|1-0|^2 + |0-0|^2 + |0-0|^2 + |-1-0|^2)^(1/2)$  \n",
        "$Dist(X_2, point) $ = $(1^2 + 1^2)^(1/2)$  \n",
        "$Dist(X_2, point) $ = $2^(1/2)$  \n",
        "$Dist(X_2, point) $ = $1.41421356$"
      ],
      "metadata": {
        "id": "CNXgVXsQUduj"
      }
    },
    {
      "cell_type": "code",
      "source": [
        "import numpy as np\n",
        "\n",
        "def minkowski(X:np.array, point:np.array, p:int=2) -> list:\n",
        "  '''\n",
        "  Returns a list of distances of each elements in X from the reference point.\n",
        "  '''\n",
        "  # YOUR CODE HERE\n",
        "  raise NotImplementedError\n",
        "  return distances"
      ],
      "metadata": {
        "id": "Mo5ivuxcTQ6e"
      },
      "execution_count": 22,
      "outputs": []
    },
    {
      "cell_type": "markdown",
      "source": [
        "Do not edit the code below."
      ],
      "metadata": {
        "id": "0IJBQ2YwfNDG"
      }
    },
    {
      "cell_type": "code",
      "execution_count": 24,
      "metadata": {
        "colab": {
          "base_uri": "https://localhost:8080/"
        },
        "id": "b3kTwF2SNJrV",
        "outputId": "1783296e-6c13-4121-ebe3-b3be8c05b5fb",
        "vscode": {
          "languageId": "python"
        }
      },
      "outputs": [
        {
          "output_type": "stream",
          "name": "stdout",
          "text": [
            "Passed test!\n"
          ]
        }
      ],
      "source": [
        "from numpy.testing import assert_almost_equal\n",
        "\n",
        "np.random.seed(42)\n",
        "point = np.random.random(4)\n",
        "X = np.random.random((20,4))\n",
        "distances = minkowski(X, point)\n",
        "assert_almost_equal(distances, [1.09774861, 0.86841359, 1.10905113, 0.60903535, 0.98072682,\n",
        "                                0.56968608, 1.03147907, 0.44086692, 0.87176598, 0.9243569 ,\n",
        "                                0.52845927, 0.83891382, 0.66689687, 1.09444027, 0.72774615,\n",
        "                                0.75235112, 0.50286829, 0.41483762, 1.13954092, 0.89056474])\n",
        "\n",
        "print('Passed test!')"
      ]
    },
    {
      "cell_type": "markdown",
      "metadata": {
        "id": "tp9vhl21y7gK"
      },
      "source": [
        "## End\n",
        "<sup>made by **Jude Michael Teves**</sup> <br>\n",
        "<sup>for comments, corrections, suggestions, please email:</sup><sup> <href>judemichaelteves@gmail.com</href> or <href>jude.teves@dlsu.edu.ph</href></sup><br>\n"
      ]
    }
  ]
}