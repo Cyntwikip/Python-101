{
 "cells": [
  {
   "cell_type": "markdown",
   "metadata": {},
   "source": [
    "## Python Logic Exercises\n",
    "\n",
    "*Prepared by:*\n",
    "**Jude Michael Teves**  \n",
    "Faculty, Software Technology Department  \n",
    "College of Computer Studies - De La Salle University"
   ]
  },
  {
   "cell_type": "markdown",
   "metadata": {},
   "source": [
    "For the following questions, you may not use any third-party library such as `numpy`, `pandas`, and `matplotlib`. Utilize loops and conditional statements."
   ]
  },
  {
   "cell_type": "markdown",
   "metadata": {},
   "source": [
    "## Basic Loops and Conditions"
   ]
  },
  {
   "cell_type": "markdown",
   "metadata": {},
   "source": [
    "### Problem 1: Multiples\n",
    "\n",
    "Write a Python program to find numbers which are divisible by 8 and multiples of 3, between 1000 and 1500 (both included)."
   ]
  },
  {
   "cell_type": "code",
   "execution_count": 38,
   "metadata": {},
   "outputs": [
    {
     "name": "stdout",
     "output_type": "stream",
     "text": [
      "[1008, 1032, 1056, 1080, 1104, 1128, 1152, 1176, 1200, 1224, 1248, 1272, 1296, 1320, 1344, 1368, 1392, 1416, 1440, 1464, 1488]\n"
     ]
    }
   ],
   "source": [
    "# YOUR CODE HERE\n",
    "output = ___ # replace the blank with your output"
   ]
  },
  {
   "cell_type": "code",
   "execution_count": 39,
   "metadata": {},
   "outputs": [
    {
     "name": "stdout",
     "output_type": "stream",
     "text": [
      "Program executed successfully!\n"
     ]
    }
   ],
   "source": [
    "# DO NOT MODIFY\n",
    "# the code below is for testing if your logic is correct\n",
    "# this will return an error if you have a wrong implementation\n",
    "\n",
    "assert output == [1008, 1032, 1056, 1080, 1104, 1128, 1152, 1176, 1200, 1224, 1248, 1272, 1296, 1320, 1344, 1368, 1392, 1416, 1440, 1464, 1488]\n",
    "print(\"Program executed successfully!\")"
   ]
  },
  {
   "cell_type": "markdown",
   "metadata": {},
   "source": [
    "### Problem 2: Matrix\n",
    "\n",
    "Write a function that takes two digits `m (row)` and `n (column)` as parameters/inputs and generates a two-dimensional array. The element value in the `i-th` row and `j-th` column of the array should be `i*j`.\n",
    "\n",
    "Note that this is 0-indexed, meaning we start at 0. For example:  \n",
    "```\n",
    "i = 0,1.., m-1  \n",
    "j = 0,1, n-1.  \n",
    "```\n",
    "\n",
    "Sample scenario 1:\n",
    "```\n",
    "Input : Rows = 3, Columns = 4\n",
    "Output : [[0, 0, 0, 0], [0, 1, 2, 3], [0, 2, 4, 6]]\n",
    "```\n",
    "\n",
    "Sample scenario 2:\n",
    "```\n",
    "Input : Rows = 5, Columns = 5\n",
    "Output: [[0, 0, 0, 0, 0], [0, 1, 2, 3, 4], [0, 2, 4, 6, 8], [0, 3, 6, 9, 12], [0, 4, 8, 12, 16]]\n",
    "```"
   ]
  },
  {
   "cell_type": "code",
   "execution_count": 40,
   "metadata": {},
   "outputs": [
    {
     "name": "stdout",
     "output_type": "stream",
     "text": [
      "[[0, 0, 0, 0], [0, 1, 2, 3], [0, 2, 4, 6]]\n",
      "[[0, 0, 0, 0, 0], [0, 1, 2, 3, 4], [0, 2, 4, 6, 8], [0, 3, 6, 9, 12], [0, 4, 8, 12, 16]]\n",
      "[[0, 0, 0, 0, 0, 0, 0, 0, 0, 0], [0, 1, 2, 3, 4, 5, 6, 7, 8, 9], [0, 2, 4, 6, 8, 10, 12, 14, 16, 18], [0, 3, 6, 9, 12, 15, 18, 21, 24, 27], [0, 4, 8, 12, 16, 20, 24, 28, 32, 36], [0, 5, 10, 15, 20, 25, 30, 35, 40, 45], [0, 6, 12, 18, 24, 30, 36, 42, 48, 54], [0, 7, 14, 21, 28, 35, 42, 49, 56, 63], [0, 8, 16, 24, 32, 40, 48, 56, 64, 72], [0, 9, 18, 27, 36, 45, 54, 63, 72, 81]]\n"
     ]
    }
   ],
   "source": [
    "def matrix(m:int, n:int) -> list:\n",
    "    # YOUR CODE HERE\n",
    "    output = ___ # replace the blank with your output\n",
    "    \n",
    "    return output\n",
    "\n",
    "print(matrix(3,4))\n",
    "print(matrix(5,5))\n",
    "print(matrix(10,10))"
   ]
  },
  {
   "cell_type": "code",
   "execution_count": 41,
   "metadata": {},
   "outputs": [
    {
     "name": "stdout",
     "output_type": "stream",
     "text": [
      "Program executed successfully!\n"
     ]
    }
   ],
   "source": [
    "# DO NOT MODIFY\n",
    "# the code below is for testing if your logic is correct\n",
    "# this will return an error if you have a wrong implementation\n",
    "\n",
    "output = matrix(3,4)\n",
    "assert output == [[0, 0, 0, 0], [0, 1, 2, 3], [0, 2, 4, 6]]\n",
    "\n",
    "output = matrix(5,5)\n",
    "assert output == [[0, 0, 0, 0, 0], [0, 1, 2, 3, 4], [0, 2, 4, 6, 8], [0, 3, 6, 9, 12], [0, 4, 8, 12, 16]]\n",
    "\n",
    "output = matrix(10,10)\n",
    "assert output == [[0, 0, 0, 0, 0, 0, 0, 0, 0, 0], [0, 1, 2, 3, 4, 5, 6, 7, 8, 9], [0, 2, 4, 6, 8, 10, 12, 14, 16, 18], [0, 3, 6, 9, 12, 15, 18, 21, 24, 27], [0, 4, 8, 12, 16, 20, 24, 28, 32, 36], [0, 5, 10, 15, 20, 25, 30, 35, 40, 45], [0, 6, 12, 18, 24, 30, 36, 42, 48, 54], [0, 7, 14, 21, 28, 35, 42, 49, 56, 63], [0, 8, 16, 24, 32, 40, 48, 56, 64, 72], [0, 9, 18, 27, 36, 45, 54, 63, 72, 81]]\n",
    "\n",
    "print(\"Program executed successfully!\")"
   ]
  },
  {
   "cell_type": "markdown",
   "metadata": {},
   "source": [
    "## ASCII Art\n",
    "\n",
    "ASCII art is any art created by printing characters on the screen."
   ]
  },
  {
   "cell_type": "markdown",
   "metadata": {},
   "source": [
    "### Problem 3: Box\n",
    "\n",
    "Write a Python program to construct the following pattern, using loops.\n",
    "\n",
    "if `n` is 5, this is the output:\n",
    "```\n",
    "* * * * *\n",
    "* * * * *\n",
    "* * * * *\n",
    "* * * * *\n",
    "* * * * *\n",
    "```\n",
    "\n",
    "if `n` is 9, this is the output:\n",
    "```\n",
    "* * * * * * * * *\n",
    "* * * * * * * * *\n",
    "* * * * * * * * *\n",
    "* * * * * * * * *\n",
    "* * * * * * * * *\n",
    "* * * * * * * * *\n",
    "* * * * * * * * *\n",
    "* * * * * * * * *\n",
    "* * * * * * * * *\n",
    "```\n",
    "\n",
    "Tip: `\\n` is newline in Python and other programming languages. Remember how to concatenate strings in Python."
   ]
  },
  {
   "cell_type": "code",
   "execution_count": 42,
   "metadata": {},
   "outputs": [
    {
     "name": "stdout",
     "output_type": "stream",
     "text": [
      "* * * * * * * * * * * *\n",
      "* * * * * * * * * * * *\n",
      "* * * * * * * * * * * *\n",
      "* * * * * * * * * * * *\n",
      "* * * * * * * * * * * *\n",
      "* * * * * * * * * * * *\n",
      "* * * * * * * * * * * *\n",
      "* * * * * * * * * * * *\n",
      "* * * * * * * * * * * *\n",
      "* * * * * * * * * * * *\n",
      "* * * * * * * * * * * *\n",
      "* * * * * * * * * * * *\n",
      "\n"
     ]
    },
    {
     "data": {
      "text/plain": [
       "'* * * * * * * * * * * *\\n* * * * * * * * * * * *\\n* * * * * * * * * * * *\\n* * * * * * * * * * * *\\n* * * * * * * * * * * *\\n* * * * * * * * * * * *\\n* * * * * * * * * * * *\\n* * * * * * * * * * * *\\n* * * * * * * * * * * *\\n* * * * * * * * * * * *\\n* * * * * * * * * * * *\\n* * * * * * * * * * * *'"
      ]
     },
     "execution_count": 42,
     "metadata": {},
     "output_type": "execute_result"
    }
   ],
   "source": [
    "def box(n) -> str:\n",
    "    # YOUR CODE HERE\n",
    "    output = ___ # replace the blank with your output\n",
    "\n",
    "    return output\n",
    "\n",
    "n = 12\n",
    "output = box(n)\n",
    "print(output)\n",
    "output.strip()"
   ]
  },
  {
   "cell_type": "code",
   "execution_count": 43,
   "metadata": {},
   "outputs": [
    {
     "name": "stdout",
     "output_type": "stream",
     "text": [
      "Program executed successfully!\n"
     ]
    }
   ],
   "source": [
    "# DO NOT MODIFY\n",
    "# the code below is for testing if your logic is correct\n",
    "# this will return an error if you have a wrong implementation\n",
    "\n",
    "n = 5\n",
    "output = box(n).strip()\n",
    "assert output == '* * * * *\\n* * * * *\\n* * * * *\\n* * * * *\\n* * * * *'\n",
    "\n",
    "n = 9\n",
    "output = box(n).strip()\n",
    "assert output == '* * * * * * * * *\\n* * * * * * * * *\\n* * * * * * * * *\\n* * * * * * * * *\\n* * * * * * * * *\\n* * * * * * * * *\\n* * * * * * * * *\\n* * * * * * * * *\\n* * * * * * * * *'\n",
    "\n",
    "n = 12\n",
    "output = box(n).strip()\n",
    "assert output == '* * * * * * * * * * * *\\n* * * * * * * * * * * *\\n* * * * * * * * * * * *\\n* * * * * * * * * * * *\\n* * * * * * * * * * * *\\n* * * * * * * * * * * *\\n* * * * * * * * * * * *\\n* * * * * * * * * * * *\\n* * * * * * * * * * * *\\n* * * * * * * * * * * *\\n* * * * * * * * * * * *\\n* * * * * * * * * * * *'\n",
    "\n",
    "print(\"Program executed successfully!\")"
   ]
  },
  {
   "cell_type": "markdown",
   "metadata": {},
   "source": [
    "### Problem 4: Triangle\n",
    "\n",
    "Write a Python program to construct the following pattern, using loops.\n",
    "\n",
    "if `n` is 5, this is the output:\n",
    "```\n",
    "* \n",
    "* * \n",
    "* * * \n",
    "* * * * \n",
    "* * * * * \n",
    "* * * * \n",
    "* * * \n",
    "* * \n",
    "*\n",
    "```\n",
    "\n",
    "if `n` is 9, this is the output:\n",
    "```\n",
    "*\n",
    "* *\n",
    "* * *\n",
    "* * * *\n",
    "* * * * *\n",
    "* * * * * *\n",
    "* * * * * * *\n",
    "* * * * * * * *\n",
    "* * * * * * * * *\n",
    "* * * * * * * * * *\n",
    "* * * * * * * * *\n",
    "* * * * * * * *\n",
    "* * * * * * *\n",
    "* * * * * *\n",
    "* * * * *\n",
    "* * * *\n",
    "* * *\n",
    "* *\n",
    "*\n",
    "```\n",
    "\n",
    "\n",
    "Tip: `\\n` is newline in Python and other programming languages. Remember how to concatenate strings in Python."
   ]
  },
  {
   "cell_type": "code",
   "execution_count": 44,
   "metadata": {},
   "outputs": [
    {
     "name": "stdout",
     "output_type": "stream",
     "text": [
      "*\n",
      "* *\n",
      "* * *\n",
      "* * * *\n",
      "* * * * *\n",
      "* * * * * *\n",
      "* * * * *\n",
      "* * * *\n",
      "* * *\n",
      "* *\n",
      "*\n",
      "\n"
     ]
    }
   ],
   "source": [
    "def triangle(n) -> str:\n",
    "    # YOUR CODE HERE\n",
    "    output = ___ # replace the blank with your output\n",
    "    \n",
    "    return output\n",
    "\n",
    "n = 5\n",
    "output = triangle(n)\n",
    "print(output)"
   ]
  },
  {
   "cell_type": "code",
   "execution_count": 45,
   "metadata": {},
   "outputs": [
    {
     "name": "stdout",
     "output_type": "stream",
     "text": [
      "Program executed successfully!\n"
     ]
    }
   ],
   "source": [
    "# DO NOT MODIFY\n",
    "# the code below is for testing if your logic is correct\n",
    "# this will return an error if you have a wrong implementation\n",
    "\n",
    "n = 5\n",
    "output = triangle(n).strip()\n",
    "assert output == '*\\n* *\\n* * *\\n* * * *\\n* * * * *\\n* * * * * *\\n* * * * *\\n* * * *\\n* * *\\n* *\\n*'\n",
    "\n",
    "n = 9\n",
    "output = triangle(n).strip()\n",
    "assert output == '*\\n* *\\n* * *\\n* * * *\\n* * * * *\\n* * * * * *\\n* * * * * * *\\n* * * * * * * *\\n* * * * * * * * *\\n* * * * * * * * * *\\n* * * * * * * * *\\n* * * * * * * *\\n* * * * * * *\\n* * * * * *\\n* * * * *\\n* * * *\\n* * *\\n* *\\n*'\n",
    "\n",
    "n = 12\n",
    "output = triangle(n).strip()\n",
    "assert output == '*\\n* *\\n* * *\\n* * * *\\n* * * * *\\n* * * * * *\\n* * * * * * *\\n* * * * * * * *\\n* * * * * * * * *\\n* * * * * * * * * *\\n* * * * * * * * * * *\\n* * * * * * * * * * * *\\n* * * * * * * * * * * * *\\n* * * * * * * * * * * *\\n* * * * * * * * * * *\\n* * * * * * * * * *\\n* * * * * * * * *\\n* * * * * * * *\\n* * * * * * *\\n* * * * * *\\n* * * * *\\n* * * *\\n* * *\\n* *\\n*'\n",
    "\n",
    "print(\"Program executed successfully!\")"
   ]
  },
  {
   "cell_type": "markdown",
   "metadata": {},
   "source": [
    "## String Manipulation"
   ]
  },
  {
   "cell_type": "markdown",
   "metadata": {},
   "source": [
    "### Problem 5: Palindrome\n",
    "\n",
    "A palindrome is a word, number, phrase, or other sequence of symbols that reads the same backwards as forwards. Examples are kayak, madam, racecar, and girafarig (this is a Pokemon 😛).\n",
    "\n",
    "Create a program that determines if the string is a palindrome or not."
   ]
  },
  {
   "cell_type": "code",
   "execution_count": 46,
   "metadata": {},
   "outputs": [
    {
     "name": "stdout",
     "output_type": "stream",
     "text": [
      "Is `kayak` a palindrome? True\n",
      "Is `colon` a palindrome? False\n",
      "Is `girafarig` a palindrome? True\n",
      "Is `saippuakivikauppias` a palindrome? True\n",
      "Is `PERIODPERIODPERIODPERIODPER` a palindrome? False\n"
     ]
    }
   ],
   "source": [
    "def is_palindrome(text) -> bool:\n",
    "    # YOUR CODE HERE\n",
    "    output = ___ # replace the blank with your output\n",
    "\n",
    "    return output\n",
    "\n",
    "text = 'kayak'\n",
    "output = is_palindrome(text)\n",
    "print(f\"Is `{text}` a palindrome?\", output)\n",
    "\n",
    "text = 'colon'\n",
    "output = is_palindrome(text)\n",
    "print(f\"Is `{text}` a palindrome?\", output)\n",
    "\n",
    "text = 'girafarig'\n",
    "output = is_palindrome(text)\n",
    "print(f\"Is `{text}` a palindrome?\", output)\n",
    "\n",
    "text = 'saippuakivikauppias'\n",
    "output = is_palindrome(text)\n",
    "print(f\"Is `{text}` a palindrome?\", output)\n",
    "\n",
    "text = 'PERIODPERIODPERIODPERIODPER'\n",
    "output = is_palindrome(text)\n",
    "print(f\"Is `{text}` a palindrome?\", output)"
   ]
  },
  {
   "cell_type": "code",
   "execution_count": 47,
   "metadata": {},
   "outputs": [
    {
     "name": "stdout",
     "output_type": "stream",
     "text": [
      "Program executed successfully!\n"
     ]
    }
   ],
   "source": [
    "# DO NOT MODIFY\n",
    "# the code below is for testing if your logic is correct\n",
    "# this will return an error if you have a wrong implementation\n",
    "\n",
    "text = 'kayak'\n",
    "output = is_palindrome(text)\n",
    "assert output==True\n",
    "\n",
    "text = 'colon'\n",
    "output = is_palindrome(text)\n",
    "assert output==False\n",
    "\n",
    "text = 'girafarig'\n",
    "output = is_palindrome(text)\n",
    "assert output==True\n",
    "\n",
    "text = 'saippuakivikauppias'\n",
    "output = is_palindrome(text)\n",
    "assert output==True\n",
    "\n",
    "text = 'PERIODPERIODPERIODPERIODPER'\n",
    "output = is_palindrome(text)\n",
    "assert output==False\n",
    "\n",
    "print(\"Program executed successfully!\")"
   ]
  },
  {
   "cell_type": "markdown",
   "metadata": {},
   "source": [
    "### Problem 6: Substring Count\n",
    "\n",
    "Count the number of substring matches in a string. For example:\n",
    "\n",
    "String: `abababa`  \n",
    "Substrings: `(aba)baba`, `ab(aba)ba`, `abab(aba)`  \n",
    "There are 3 substring matches.  "
   ]
  },
  {
   "cell_type": "code",
   "execution_count": 48,
   "metadata": {},
   "outputs": [
    {
     "name": "stdout",
     "output_type": "stream",
     "text": [
      "3\n",
      "7\n",
      "4\n"
     ]
    }
   ],
   "source": [
    "def substring_count(text, substring) -> int:\n",
    "    # YOUR CODE HERE\n",
    "    output = ___ # replace the blank with your output\n",
    "\n",
    "    return output\n",
    "\n",
    "text = 'abababa'\n",
    "substring = 'aba'\n",
    "print(substring_count(text, substring))\n",
    "\n",
    "text = 'llalallalaaalalala'\n",
    "substring = 'la'\n",
    "print(substring_count(text, substring))\n",
    "\n",
    "text = 'bWKOs%O$2#yucfNyY=MB+JHA*8atBGche&u&q+hMPebqE#BONuAF3gBCZY+Nea*RJMEUOnN&2qMfPbFAgAa0xZa6w@7$WTpz+Zt8'\n",
    "substring = 'A'\n",
    "print(substring_count(text, substring))"
   ]
  },
  {
   "cell_type": "code",
   "execution_count": 49,
   "metadata": {},
   "outputs": [
    {
     "name": "stdout",
     "output_type": "stream",
     "text": [
      "Program executed successfully!\n"
     ]
    }
   ],
   "source": [
    "# DO NOT MODIFY\n",
    "# the code below is for testing if your logic is correct\n",
    "# this will return an error if you have a wrong implementation\n",
    "\n",
    "text = 'abababa'\n",
    "substring = 'aba'\n",
    "output = substring_count(text, substring)\n",
    "assert output==3\n",
    "\n",
    "text = 'llalallalaaalalala'\n",
    "substring = 'la'\n",
    "output = substring_count(text, substring)\n",
    "assert output==7\n",
    "\n",
    "text = 'bWKOs%O$2#yucfNyY=MB+JHA*8atBGche&u&q+hMPebqE#BONuAF3gBCZY+Nea*RJMEUOnN&2qMfPbFAgAa0xZa6w@7$WTpz+Zt8'\n",
    "substring = 'A'\n",
    "output = substring_count(text, substring)\n",
    "assert output==4\n",
    "\n",
    "print(\"Program executed successfully!\")"
   ]
  },
  {
   "cell_type": "markdown",
   "metadata": {},
   "source": [
    "## End\n",
    "<sup>made by **Jude Michael Teves**</sup> <br>\n",
    "<sup>for comments, corrections, suggestions, please email:</sup><sup> <href>judemichaelteves@gmail.com</href> or <href>jude.teves@dlsu.edu.ph</href></sup><br>\n"
   ]
  }
 ],
 "metadata": {
  "kernelspec": {
   "display_name": "base",
   "language": "python",
   "name": "python3"
  },
  "language_info": {
   "codemirror_mode": {
    "name": "ipython",
    "version": 3
   },
   "file_extension": ".py",
   "mimetype": "text/x-python",
   "name": "python",
   "nbconvert_exporter": "python",
   "pygments_lexer": "ipython3",
   "version": "3.11.5"
  }
 },
 "nbformat": 4,
 "nbformat_minor": 2
}
