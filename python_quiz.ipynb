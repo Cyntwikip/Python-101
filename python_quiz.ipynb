{
 "cells": [
  {
   "cell_type": "markdown",
   "id": "2af9509b-4194-4b0a-8dec-7029fa6a4eee",
   "metadata": {},
   "source": [
    "# Python Quiz"
   ]
  },
  {
   "cell_type": "markdown",
   "id": "10ac36b9-14ec-4ba9-a3ed-45c14869f8f5",
   "metadata": {},
   "source": [
    "## Basic Python"
   ]
  },
  {
   "cell_type": "markdown",
   "id": "5d40589a-b36a-4de1-90d8-a16fea383a3b",
   "metadata": {},
   "source": [
    "### Problem 1: Sorting\n",
    "\n",
    "..."
   ]
  },
  {
   "cell_type": "markdown",
   "id": "15168342-dea6-4f1c-b1d9-94e6a9b589c7",
   "metadata": {},
   "source": [
    "### Problem 2: Controls?\n",
    "\n",
    "..."
   ]
  },
  {
   "cell_type": "markdown",
   "id": "86cbfed7-5af7-444e-bfb4-3b60a9fbaf2e",
   "metadata": {},
   "source": [
    "## Data Science Libraries"
   ]
  },
  {
   "cell_type": "markdown",
   "id": "ad0786d9-8c17-465d-8353-a1e985f9a590",
   "metadata": {},
   "source": [
    "### Problem 3: Numpy\n",
    "\n",
    "Some numpy"
   ]
  },
  {
   "cell_type": "markdown",
   "id": "6145b11c-9858-407f-8ddc-9086f6b95681",
   "metadata": {
    "execution": {
     "iopub.execute_input": "2021-06-16T18:37:19.638694Z",
     "iopub.status.busy": "2021-06-16T18:37:19.638694Z",
     "iopub.status.idle": "2021-06-16T18:37:19.652697Z",
     "shell.execute_reply": "2021-06-16T18:37:19.650697Z",
     "shell.execute_reply.started": "2021-06-16T18:37:19.638694Z"
    }
   },
   "source": [
    "### Problem 4: Pandas\n",
    "\n",
    "Titanic dataset filtering etc."
   ]
  },
  {
   "cell_type": "markdown",
   "id": "48938826-6d6d-43f0-a985-65e5d6d0b3d3",
   "metadata": {},
   "source": [
    "### Problem 5: Matplotlib\n",
    "\n",
    "Plot first 2 columns of dataset. First column is x-axis and second column is y-axis. What do you think is the appropriate graph for this?"
   ]
  },
  {
   "cell_type": "markdown",
   "id": "bf9d7c7d-edb8-4eb8-81a5-e47c1bc8760f",
   "metadata": {},
   "source": [
    "## ASCII Art\n",
    "\n",
    "ASCII art is any art created by printing characters on the screen."
   ]
  },
  {
   "cell_type": "markdown",
   "id": "500caa6c-a89c-468e-9c69-5fa06f7d1935",
   "metadata": {},
   "source": [
    "### Problem 6: Hourglass / X-box\n",
    "\n",
    "Create a program that prints out an hourglass (X bounded by a box) using asteriks (*), where the dimension of the box is `n x n`. We assume that `n` is always an odd number for this problem.\n",
    "\n",
    "For example, if `n` = 5, print the following:\n",
    "\n",
    "```\n",
    "*****\n",
    "** **\n",
    "* * *\n",
    "** **\n",
    "*****\n",
    "```\n",
    "\n",
    "If `n` = 9, print the following:\n",
    "```\n",
    "*********\n",
    "**     **\n",
    "* *   * *\n",
    "*  * *  *\n",
    "*   *   *\n",
    "*  * *  *\n",
    "* *   * *\n",
    "**     **\n",
    "*********\n",
    "```\n",
    "\n",
    "Your code should not be hard-coded and must adapt to different `n` values."
   ]
  },
  {
   "cell_type": "code",
   "execution_count": 1,
   "id": "42b9a9f7-6851-408b-83fc-2147c235cc78",
   "metadata": {
    "execution": {
     "iopub.execute_input": "2021-06-16T17:51:06.526590Z",
     "iopub.status.busy": "2021-06-16T17:51:06.525590Z",
     "iopub.status.idle": "2021-06-16T17:51:06.549596Z",
     "shell.execute_reply": "2021-06-16T17:51:06.548596Z",
     "shell.execute_reply.started": "2021-06-16T17:51:06.526590Z"
    }
   },
   "outputs": [],
   "source": [
    "n = 9\n",
    "# your code here"
   ]
  },
  {
   "cell_type": "markdown",
   "id": "415e9f41-c3b0-4046-a264-c66268dc7ad6",
   "metadata": {},
   "source": [
    "## Math Problems\n",
    "\n",
    "The following problems are taken from <a href=\"https://projecteuler.net/\">Project Euler</a>.\n",
    "\n",
    "**What is Project Euler?**\n",
    "\n",
    "> \"Project Euler is a website dedicated to a series of computational problems intended to be solved with computer programs. The project attracts adults and students interested in mathematics and computer programming. Since its creation in 2001 by Colin Hughes, Project Euler has gained notability and popularity worldwide.\" - <a href=\"https://en.wikipedia.org/wiki/Project_Euler\">Wikipedia</a>\n",
    "\n",
    "On their website, we can see this footer message:\n",
    "> \"Project Euler exists to encourage, challenge, and develop the skills and enjoyment of anyone with an interest in the fascinating world of mathematics.\"\n",
    "\n",
    "For the following questions, you may not use any third-party library such as `numpy`, `pandas`, and `matplotlib`."
   ]
  },
  {
   "cell_type": "markdown",
   "id": "820d03bc-603e-498c-af88-c9ae991513c3",
   "metadata": {},
   "source": [
    "### Problem 7: Multiples of 3 and 5\n",
    "\n",
    "If we list all the natural numbers below 10 that are multiples of 3 or 5, we get 3, 5, 6 and 9. The sum of these multiples is 23.\n",
    "\n",
    "Find the sum of all the multiples of 3 or 5 below 1000."
   ]
  },
  {
   "cell_type": "markdown",
   "id": "92f9caf0-1088-44c8-ab65-4aaf44b30ce6",
   "metadata": {},
   "source": [
    "### Problem 8: Even Fibonacci Numbers\n",
    "\n",
    "Each new term in the Fibonacci sequence is generated by adding the previous two terms. By starting with 1 and 2, the first 10 terms will be:\n",
    "\n",
    "```1, 2, 3, 5, 8, 13, 21, 34, 55, 89, ...```\n",
    "\n",
    "By considering the terms in the Fibonacci sequence whose values do not exceed four million, find the sum of the even-valued terms."
   ]
  },
  {
   "cell_type": "code",
   "execution_count": null,
   "id": "0e83b9db-5df8-4e85-b309-8d2f13657b3d",
   "metadata": {},
   "outputs": [],
   "source": []
  }
 ],
 "metadata": {
  "kernelspec": {
   "display_name": "Python 3",
   "language": "python",
   "name": "python3"
  },
  "language_info": {
   "codemirror_mode": {
    "name": "ipython",
    "version": 3
   },
   "file_extension": ".py",
   "mimetype": "text/x-python",
   "name": "python",
   "nbconvert_exporter": "python",
   "pygments_lexer": "ipython3",
   "version": "3.8.8"
  }
 },
 "nbformat": 4,
 "nbformat_minor": 5
}
