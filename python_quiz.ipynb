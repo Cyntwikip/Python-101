{
 "cells": [
  {
   "cell_type": "markdown",
   "id": "2af9509b-4194-4b0a-8dec-7029fa6a4eee",
   "metadata": {},
   "source": [
    "# Python Quiz"
   ]
  },
  {
   "cell_type": "markdown",
   "id": "10ac36b9-14ec-4ba9-a3ed-45c14869f8f5",
   "metadata": {},
   "source": [
    "## Basic Python\n",
    "\n",
    "For the following questions under this section, you may not use any third-party library such as `numpy`, `pandas`, and `matplotlib`."
   ]
  },
  {
   "cell_type": "markdown",
   "id": "5d40589a-b36a-4de1-90d8-a16fea383a3b",
   "metadata": {},
   "source": [
    "### Problem 1: List Manipulation\n",
    "\n",
    "Given the list below, sort it in descending order and return the fourth, third, and second to the last elements. \n",
    "\n",
    "For example, if you initially have `[1, 2, 3, 4, 5]`, return `[4, 3, 2]`."
   ]
  },
  {
   "cell_type": "code",
   "execution_count": 1,
   "id": "99cb335d-ce23-4cf7-b1e4-ad371b4db0cc",
   "metadata": {
    "execution": {
     "iopub.execute_input": "2021-06-17T18:25:15.685195Z",
     "iopub.status.busy": "2021-06-17T18:25:15.685195Z",
     "iopub.status.idle": "2021-06-17T18:25:15.715713Z",
     "shell.execute_reply": "2021-06-17T18:25:15.714714Z",
     "shell.execute_reply.started": "2021-06-17T18:25:15.685195Z"
    },
    "tags": []
   },
   "outputs": [],
   "source": [
    "var_list = ['jude', 'python', 'datascience', 'Programming', '', ' ', '_', '*']\n",
    "\n",
    "# your code here"
   ]
  },
  {
   "cell_type": "markdown",
   "id": "15168342-dea6-4f1c-b1d9-94e6a9b589c7",
   "metadata": {},
   "source": [
    "### Problem 2: Loops and Controls\n",
    "\n",
    "Given an integer i, create a code which does the following:\n",
    " - Step 1: Print based on the following conditions:\n",
    "     - print `fizz` if `i` is divisible by 5.\n",
    "     - print `fuzz` if `i` is divisible by 2. If it is both divisible by 5 and 2, just print `fizz`.\n",
    "     - print `foo` if not divisible by 5 or 2.\n",
    " - Step 2: Deduct 1 from the the current value of integer `i`.\n",
    " - Step 3: Go back to Step 1 if `i` is greater than 0.\n",
    "\n",
    "For instance, if ```i = 10```, we should get the following result:\n",
    "\n",
    "```\n",
    "fizz\n",
    "foo\n",
    "fuzz\n",
    "foo\n",
    "fuzz\n",
    "fizz\n",
    "fuzz\n",
    "foo\n",
    "fuzz\n",
    "foo\n",
    "```"
   ]
  },
  {
   "cell_type": "code",
   "execution_count": 2,
   "id": "fa941371-add6-4e9d-a5ab-e17aedb6caaf",
   "metadata": {
    "execution": {
     "iopub.execute_input": "2021-06-17T18:25:15.717714Z",
     "iopub.status.busy": "2021-06-17T18:25:15.717714Z",
     "iopub.status.idle": "2021-06-17T18:25:15.730716Z",
     "shell.execute_reply": "2021-06-17T18:25:15.729716Z",
     "shell.execute_reply.started": "2021-06-17T18:25:15.717714Z"
    },
    "tags": []
   },
   "outputs": [],
   "source": [
    "i = 10\n",
    "\n",
    "# your code here"
   ]
  },
  {
   "cell_type": "markdown",
   "id": "86cbfed7-5af7-444e-bfb4-3b60a9fbaf2e",
   "metadata": {},
   "source": [
    "## Data Science Libraries\n",
    "\n",
    "For this section, we will be testing your skill with the data science library trio."
   ]
  },
  {
   "cell_type": "markdown",
   "id": "ad0786d9-8c17-465d-8353-a1e985f9a590",
   "metadata": {},
   "source": [
    "### Problem 3: Numpy\n",
    "\n",
    "Using the numpy array I have generated below, do the following:\n",
    " - retrieve the values that are greater than 0.5 or lower than -0.5\n",
    " - get the mean and standard deviation of the filtered array from above"
   ]
  },
  {
   "cell_type": "code",
   "execution_count": 3,
   "id": "1ca76b76-a755-409a-b493-1acc28a65b7e",
   "metadata": {
    "execution": {
     "iopub.execute_input": "2021-06-17T18:25:15.732717Z",
     "iopub.status.busy": "2021-06-17T18:25:15.732717Z",
     "iopub.status.idle": "2021-06-17T18:25:15.934524Z",
     "shell.execute_reply": "2021-06-17T18:25:15.933525Z",
     "shell.execute_reply.started": "2021-06-17T18:25:15.732717Z"
    },
    "tags": []
   },
   "outputs": [
    {
     "data": {
      "text/plain": [
       "array([ 0.49671415, -0.1382643 ,  0.64768854,  1.52302986, -0.23415337,\n",
       "       -0.23413696,  1.57921282,  0.76743473, -0.46947439,  0.54256004,\n",
       "       -0.46341769, -0.46572975,  0.24196227, -1.91328024, -1.72491783,\n",
       "       -0.56228753, -1.01283112,  0.31424733, -0.90802408, -1.4123037 ])"
      ]
     },
     "execution_count": 3,
     "metadata": {},
     "output_type": "execute_result"
    }
   ],
   "source": [
    "import numpy as np\n",
    "\n",
    "np.random.seed(42) # ensures that numbers we are getting are consistent\n",
    "\n",
    "nums = np.random.normal(loc=0, scale=1, size=(20))\n",
    "nums"
   ]
  },
  {
   "cell_type": "code",
   "execution_count": 4,
   "id": "bc075fea-4e26-4511-ae6f-9f79837b771e",
   "metadata": {
    "execution": {
     "iopub.execute_input": "2021-06-17T18:25:15.936524Z",
     "iopub.status.busy": "2021-06-17T18:25:15.936524Z",
     "iopub.status.idle": "2021-06-17T18:25:15.950528Z",
     "shell.execute_reply": "2021-06-17T18:25:15.949528Z",
     "shell.execute_reply.started": "2021-06-17T18:25:15.936524Z"
    }
   },
   "outputs": [],
   "source": [
    "# your code here"
   ]
  },
  {
   "cell_type": "markdown",
   "id": "6145b11c-9858-407f-8ddc-9086f6b95681",
   "metadata": {
    "execution": {
     "iopub.execute_input": "2021-06-16T18:37:19.638694Z",
     "iopub.status.busy": "2021-06-16T18:37:19.638694Z",
     "iopub.status.idle": "2021-06-16T18:37:19.652697Z",
     "shell.execute_reply": "2021-06-16T18:37:19.650697Z",
     "shell.execute_reply.started": "2021-06-16T18:37:19.638694Z"
    }
   },
   "source": [
    "### Problem 4: Pandas\n",
    "\n",
    "Using the Titanic dataset have already loaded the data for you, return the average fare of all female passengers who survived and have an age greater than 40."
   ]
  },
  {
   "cell_type": "code",
   "execution_count": 5,
   "id": "8f0f7c6a-b0ff-4bc0-9016-1c119d46c370",
   "metadata": {
    "execution": {
     "iopub.execute_input": "2021-06-17T18:25:15.952528Z",
     "iopub.status.busy": "2021-06-17T18:25:15.951528Z",
     "iopub.status.idle": "2021-06-17T18:25:17.148935Z",
     "shell.execute_reply": "2021-06-17T18:25:17.147935Z",
     "shell.execute_reply.started": "2021-06-17T18:25:15.952528Z"
    }
   },
   "outputs": [
    {
     "data": {
      "text/html": [
       "<div>\n",
       "<style scoped>\n",
       "    .dataframe tbody tr th:only-of-type {\n",
       "        vertical-align: middle;\n",
       "    }\n",
       "\n",
       "    .dataframe tbody tr th {\n",
       "        vertical-align: top;\n",
       "    }\n",
       "\n",
       "    .dataframe thead th {\n",
       "        text-align: right;\n",
       "    }\n",
       "</style>\n",
       "<table border=\"1\" class=\"dataframe\">\n",
       "  <thead>\n",
       "    <tr style=\"text-align: right;\">\n",
       "      <th></th>\n",
       "      <th>PassengerId</th>\n",
       "      <th>Survived</th>\n",
       "      <th>Pclass</th>\n",
       "      <th>Name</th>\n",
       "      <th>Sex</th>\n",
       "      <th>Age</th>\n",
       "      <th>SibSp</th>\n",
       "      <th>Parch</th>\n",
       "      <th>Ticket</th>\n",
       "      <th>Fare</th>\n",
       "      <th>Cabin</th>\n",
       "      <th>Embarked</th>\n",
       "    </tr>\n",
       "  </thead>\n",
       "  <tbody>\n",
       "    <tr>\n",
       "      <th>0</th>\n",
       "      <td>1</td>\n",
       "      <td>0</td>\n",
       "      <td>3</td>\n",
       "      <td>Braund, Mr. Owen Harris</td>\n",
       "      <td>male</td>\n",
       "      <td>22.0</td>\n",
       "      <td>1</td>\n",
       "      <td>0</td>\n",
       "      <td>A/5 21171</td>\n",
       "      <td>7.2500</td>\n",
       "      <td>NaN</td>\n",
       "      <td>S</td>\n",
       "    </tr>\n",
       "    <tr>\n",
       "      <th>1</th>\n",
       "      <td>2</td>\n",
       "      <td>1</td>\n",
       "      <td>1</td>\n",
       "      <td>Cumings, Mrs. John Bradley (Florence Briggs Th...</td>\n",
       "      <td>female</td>\n",
       "      <td>38.0</td>\n",
       "      <td>1</td>\n",
       "      <td>0</td>\n",
       "      <td>PC 17599</td>\n",
       "      <td>71.2833</td>\n",
       "      <td>C85</td>\n",
       "      <td>C</td>\n",
       "    </tr>\n",
       "    <tr>\n",
       "      <th>2</th>\n",
       "      <td>3</td>\n",
       "      <td>1</td>\n",
       "      <td>3</td>\n",
       "      <td>Heikkinen, Miss. Laina</td>\n",
       "      <td>female</td>\n",
       "      <td>26.0</td>\n",
       "      <td>0</td>\n",
       "      <td>0</td>\n",
       "      <td>STON/O2. 3101282</td>\n",
       "      <td>7.9250</td>\n",
       "      <td>NaN</td>\n",
       "      <td>S</td>\n",
       "    </tr>\n",
       "    <tr>\n",
       "      <th>3</th>\n",
       "      <td>4</td>\n",
       "      <td>1</td>\n",
       "      <td>1</td>\n",
       "      <td>Futrelle, Mrs. Jacques Heath (Lily May Peel)</td>\n",
       "      <td>female</td>\n",
       "      <td>35.0</td>\n",
       "      <td>1</td>\n",
       "      <td>0</td>\n",
       "      <td>113803</td>\n",
       "      <td>53.1000</td>\n",
       "      <td>C123</td>\n",
       "      <td>S</td>\n",
       "    </tr>\n",
       "    <tr>\n",
       "      <th>4</th>\n",
       "      <td>5</td>\n",
       "      <td>0</td>\n",
       "      <td>3</td>\n",
       "      <td>Allen, Mr. William Henry</td>\n",
       "      <td>male</td>\n",
       "      <td>35.0</td>\n",
       "      <td>0</td>\n",
       "      <td>0</td>\n",
       "      <td>373450</td>\n",
       "      <td>8.0500</td>\n",
       "      <td>NaN</td>\n",
       "      <td>S</td>\n",
       "    </tr>\n",
       "  </tbody>\n",
       "</table>\n",
       "</div>"
      ],
      "text/plain": [
       "   PassengerId  Survived  Pclass  \\\n",
       "0            1         0       3   \n",
       "1            2         1       1   \n",
       "2            3         1       3   \n",
       "3            4         1       1   \n",
       "4            5         0       3   \n",
       "\n",
       "                                                Name     Sex   Age  SibSp  \\\n",
       "0                            Braund, Mr. Owen Harris    male  22.0      1   \n",
       "1  Cumings, Mrs. John Bradley (Florence Briggs Th...  female  38.0      1   \n",
       "2                             Heikkinen, Miss. Laina  female  26.0      0   \n",
       "3       Futrelle, Mrs. Jacques Heath (Lily May Peel)  female  35.0      1   \n",
       "4                           Allen, Mr. William Henry    male  35.0      0   \n",
       "\n",
       "   Parch            Ticket     Fare Cabin Embarked  \n",
       "0      0         A/5 21171   7.2500   NaN        S  \n",
       "1      0          PC 17599  71.2833   C85        C  \n",
       "2      0  STON/O2. 3101282   7.9250   NaN        S  \n",
       "3      0            113803  53.1000  C123        S  \n",
       "4      0            373450   8.0500   NaN        S  "
      ]
     },
     "execution_count": 5,
     "metadata": {},
     "output_type": "execute_result"
    }
   ],
   "source": [
    "import pandas as pd\n",
    "\n",
    "df = pd.read_csv('https://raw.githubusercontent.com/Cyntwikip/data-repository/main/titanic.csv')\n",
    "df.head()"
   ]
  },
  {
   "cell_type": "code",
   "execution_count": 6,
   "id": "bd8745d3-04d1-4a93-a3e4-2f6d58d050d4",
   "metadata": {
    "execution": {
     "iopub.execute_input": "2021-06-17T18:25:17.150936Z",
     "iopub.status.busy": "2021-06-17T18:25:17.149936Z",
     "iopub.status.idle": "2021-06-17T18:25:17.164975Z",
     "shell.execute_reply": "2021-06-17T18:25:17.164003Z",
     "shell.execute_reply.started": "2021-06-17T18:25:17.150936Z"
    }
   },
   "outputs": [],
   "source": [
    "# your code here"
   ]
  },
  {
   "cell_type": "markdown",
   "id": "48938826-6d6d-43f0-a985-65e5d6d0b3d3",
   "metadata": {},
   "source": [
    "### Problem 5: Matplotlib\n",
    "\n",
    "Using matplotlib, create a plot using the first 2 features (from variable `X`) and the target (from variable `y`) of the iris flower dataset that I have already loaded for you. **What do you think is the appropriate graph for this data?**\n",
    "\n",
    "`X` contains the features and `y` is the target/output. `y` has 3 possible values in this dataset: 0, 1, and 2, which correspond to the different types of iris flower.\n",
    "\n",
    "If you wish to know more details about the dataset, you may go to this <a href=\"https://scikit-learn.org/stable/datasets/toy_dataset.html#iris-dataset\">link</a>."
   ]
  },
  {
   "cell_type": "code",
   "execution_count": 7,
   "id": "566a49d2-b3af-4c4e-9624-73e5fea0bf97",
   "metadata": {
    "execution": {
     "iopub.execute_input": "2021-06-17T18:25:17.166975Z",
     "iopub.status.busy": "2021-06-17T18:25:17.166975Z",
     "iopub.status.idle": "2021-06-17T18:25:19.514220Z",
     "shell.execute_reply": "2021-06-17T18:25:19.513220Z",
     "shell.execute_reply.started": "2021-06-17T18:25:17.166975Z"
    },
    "tags": []
   },
   "outputs": [],
   "source": [
    "import matplotlib.pyplot as plt\n",
    "from sklearn import datasets\n",
    "\n",
    "X, y = datasets.load_iris(return_X_y=True)"
   ]
  },
  {
   "cell_type": "code",
   "execution_count": 8,
   "id": "216b2216-2146-4873-8222-33b519895023",
   "metadata": {
    "execution": {
     "iopub.execute_input": "2021-06-17T18:25:19.517220Z",
     "iopub.status.busy": "2021-06-17T18:25:19.517220Z",
     "iopub.status.idle": "2021-06-17T18:25:19.529223Z",
     "shell.execute_reply": "2021-06-17T18:25:19.528223Z",
     "shell.execute_reply.started": "2021-06-17T18:25:19.517220Z"
    }
   },
   "outputs": [],
   "source": [
    "# your code here"
   ]
  },
  {
   "cell_type": "markdown",
   "id": "bf9d7c7d-edb8-4eb8-81a5-e47c1bc8760f",
   "metadata": {},
   "source": [
    "## ASCII Art\n",
    "\n",
    "ASCII art is any art created by printing characters on the screen."
   ]
  },
  {
   "cell_type": "markdown",
   "id": "500caa6c-a89c-468e-9c69-5fa06f7d1935",
   "metadata": {},
   "source": [
    "### Problem 6: Hourglass / X-box\n",
    "\n",
    "Create a program that prints out an hourglass (X bounded by a box) using asteriks (*), where the dimension of the box is `n x n`. We assume that `n` is always an odd number for this problem.\n",
    "\n",
    "For example, if `n` = 5, print the following:\n",
    "\n",
    "```\n",
    "*****\n",
    "** **\n",
    "* * *\n",
    "** **\n",
    "*****\n",
    "```\n",
    "\n",
    "If `n` = 9, print the following:\n",
    "```\n",
    "*********\n",
    "**     **\n",
    "* *   * *\n",
    "*  * *  *\n",
    "*   *   *\n",
    "*  * *  *\n",
    "* *   * *\n",
    "**     **\n",
    "*********\n",
    "```\n",
    "\n",
    "Your code should not be hard-coded and must adapt to different `n` values."
   ]
  },
  {
   "cell_type": "code",
   "execution_count": 9,
   "id": "42b9a9f7-6851-408b-83fc-2147c235cc78",
   "metadata": {
    "execution": {
     "iopub.execute_input": "2021-06-17T18:25:19.533744Z",
     "iopub.status.busy": "2021-06-17T18:25:19.532224Z",
     "iopub.status.idle": "2021-06-17T18:25:19.566727Z",
     "shell.execute_reply": "2021-06-17T18:25:19.564726Z",
     "shell.execute_reply.started": "2021-06-17T18:25:19.533744Z"
    }
   },
   "outputs": [],
   "source": [
    "n = 9\n",
    "# your code here"
   ]
  },
  {
   "cell_type": "markdown",
   "id": "415e9f41-c3b0-4046-a264-c66268dc7ad6",
   "metadata": {},
   "source": [
    "## Math Problems\n",
    "\n",
    "The following problems are taken from <a href=\"https://projecteuler.net/\">Project Euler</a>.\n",
    "\n",
    "**What is Project Euler?**\n",
    "\n",
    "> \"Project Euler is a website dedicated to a series of computational problems intended to be solved with computer programs. The project attracts adults and students interested in mathematics and computer programming. Since its creation in 2001 by Colin Hughes, Project Euler has gained notability and popularity worldwide.\" - <a href=\"https://en.wikipedia.org/wiki/Project_Euler\">Wikipedia</a>\n",
    "\n",
    "On their website, we can see this footer message:\n",
    "> \"Project Euler exists to encourage, challenge, and develop the skills and enjoyment of anyone with an interest in the fascinating world of mathematics.\"\n",
    "\n",
    "For the following questions, you may not use any third-party library such as `numpy`, `pandas`, and `matplotlib`."
   ]
  },
  {
   "cell_type": "markdown",
   "id": "820d03bc-603e-498c-af88-c9ae991513c3",
   "metadata": {},
   "source": [
    "### Problem 7: Multiples of 3 and 5\n",
    "\n",
    "If we list all the natural numbers below 10 that are multiples of 3 or 5, we get 3, 5, 6 and 9. The sum of these multiples is 23.\n",
    "\n",
    "Find the sum of all the multiples of 3 or 5 below 1000."
   ]
  },
  {
   "cell_type": "code",
   "execution_count": 10,
   "id": "145b4870-d1dd-41ee-8d2c-fd6d9172ebdc",
   "metadata": {
    "execution": {
     "iopub.execute_input": "2021-06-17T18:25:38.377825Z",
     "iopub.status.busy": "2021-06-17T18:25:38.376824Z",
     "iopub.status.idle": "2021-06-17T18:25:38.383854Z",
     "shell.execute_reply": "2021-06-17T18:25:38.382892Z",
     "shell.execute_reply.started": "2021-06-17T18:25:38.376824Z"
    }
   },
   "outputs": [],
   "source": [
    "# your code here"
   ]
  },
  {
   "cell_type": "markdown",
   "id": "92f9caf0-1088-44c8-ab65-4aaf44b30ce6",
   "metadata": {},
   "source": [
    "### Problem 8: Even Fibonacci Numbers\n",
    "\n",
    "Each new term in the Fibonacci sequence is generated by adding the previous two terms. By starting with 1 and 2, the first 10 terms will be:\n",
    "\n",
    "```1, 2, 3, 5, 8, 13, 21, 34, 55, 89, ...```\n",
    "\n",
    "By considering the terms in the Fibonacci sequence whose values do not exceed four million, find the sum of the even-valued terms."
   ]
  },
  {
   "cell_type": "code",
   "execution_count": 11,
   "id": "0e83b9db-5df8-4e85-b309-8d2f13657b3d",
   "metadata": {
    "execution": {
     "iopub.execute_input": "2021-06-17T18:25:39.365627Z",
     "iopub.status.busy": "2021-06-17T18:25:39.365627Z",
     "iopub.status.idle": "2021-06-17T18:25:39.384550Z",
     "shell.execute_reply": "2021-06-17T18:25:39.383632Z",
     "shell.execute_reply.started": "2021-06-17T18:25:39.365627Z"
    }
   },
   "outputs": [],
   "source": [
    "# your code here"
   ]
  }
 ],
 "metadata": {
  "kernelspec": {
   "display_name": "Python 3",
   "language": "python",
   "name": "python3"
  },
  "language_info": {
   "codemirror_mode": {
    "name": "ipython",
    "version": 3
   },
   "file_extension": ".py",
   "mimetype": "text/x-python",
   "name": "python",
   "nbconvert_exporter": "python",
   "pygments_lexer": "ipython3",
   "version": "3.8.8"
  }
 },
 "nbformat": 4,
 "nbformat_minor": 5
}
