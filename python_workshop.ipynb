{
 "cells": [
  {
   "cell_type": "markdown",
   "id": "55b7fdc2-0057-4c9c-acfe-b966cea9a34a",
   "metadata": {},
   "source": [
    "## Python Workshop\n",
    "\n",
    "*Prepared by:*\n",
    "**Jude Michael Teves**  \n",
    "Faculty, Software Technology Department  \n",
    "College of Computer Studies - De La Salle University"
   ]
  },
  {
   "cell_type": "markdown",
   "id": "ca6ba952-5b43-4177-9d67-5a97338d857e",
   "metadata": {},
   "source": [
    "## Import libraries"
   ]
  },
  {
   "cell_type": "code",
   "execution_count": 1,
   "id": "cf96b231-f848-4310-aed2-910a4925c145",
   "metadata": {
    "execution": {
     "iopub.execute_input": "2022-01-29T03:20:35.142379Z",
     "iopub.status.busy": "2022-01-29T03:20:35.141378Z",
     "iopub.status.idle": "2022-01-29T03:20:38.040093Z",
     "shell.execute_reply": "2022-01-29T03:20:38.039094Z",
     "shell.execute_reply.started": "2022-01-29T03:20:35.142379Z"
    },
    "tags": []
   },
   "outputs": [],
   "source": [
    "import numpy as np\n",
    "import pandas as pd\n",
    "import matplotlib.pyplot as plt\n",
    "import seaborn as sns\n",
    "\n",
    "from sklearn import datasets\n",
    "from sklearn.model_selection import train_test_split\n",
    "from sklearn.neighbors import KNeighborsClassifier\n",
    "\n",
    "sns.set_style('darkgrid')"
   ]
  },
  {
   "cell_type": "markdown",
   "id": "661fdb4b-a45a-4f59-8519-582b6e494b1f",
   "metadata": {},
   "source": [
    "## Exploratory Data Analysis"
   ]
  },
  {
   "cell_type": "code",
   "execution_count": 2,
   "id": "19cbb834-eaaa-46f0-84d8-37c7278628f9",
   "metadata": {
    "execution": {
     "iopub.execute_input": "2022-01-29T03:20:38.042093Z",
     "iopub.status.busy": "2022-01-29T03:20:38.042093Z",
     "iopub.status.idle": "2022-01-29T03:20:38.986161Z",
     "shell.execute_reply": "2022-01-29T03:20:38.985163Z",
     "shell.execute_reply.started": "2022-01-29T03:20:38.042093Z"
    },
    "tags": []
   },
   "outputs": [
    {
     "data": {
      "text/html": [
       "<div>\n",
       "<style scoped>\n",
       "    .dataframe tbody tr th:only-of-type {\n",
       "        vertical-align: middle;\n",
       "    }\n",
       "\n",
       "    .dataframe tbody tr th {\n",
       "        vertical-align: top;\n",
       "    }\n",
       "\n",
       "    .dataframe thead th {\n",
       "        text-align: right;\n",
       "    }\n",
       "</style>\n",
       "<table border=\"1\" class=\"dataframe\">\n",
       "  <thead>\n",
       "    <tr style=\"text-align: right;\">\n",
       "      <th></th>\n",
       "      <th>PassengerId</th>\n",
       "      <th>Survived</th>\n",
       "      <th>Pclass</th>\n",
       "      <th>Name</th>\n",
       "      <th>Sex</th>\n",
       "      <th>Age</th>\n",
       "      <th>SibSp</th>\n",
       "      <th>Parch</th>\n",
       "      <th>Ticket</th>\n",
       "      <th>Fare</th>\n",
       "      <th>Cabin</th>\n",
       "      <th>Embarked</th>\n",
       "    </tr>\n",
       "  </thead>\n",
       "  <tbody>\n",
       "    <tr>\n",
       "      <th>0</th>\n",
       "      <td>1</td>\n",
       "      <td>0</td>\n",
       "      <td>3</td>\n",
       "      <td>Braund, Mr. Owen Harris</td>\n",
       "      <td>male</td>\n",
       "      <td>22.0</td>\n",
       "      <td>1</td>\n",
       "      <td>0</td>\n",
       "      <td>A/5 21171</td>\n",
       "      <td>7.2500</td>\n",
       "      <td>NaN</td>\n",
       "      <td>S</td>\n",
       "    </tr>\n",
       "    <tr>\n",
       "      <th>1</th>\n",
       "      <td>2</td>\n",
       "      <td>1</td>\n",
       "      <td>1</td>\n",
       "      <td>Cumings, Mrs. John Bradley (Florence Briggs Th...</td>\n",
       "      <td>female</td>\n",
       "      <td>38.0</td>\n",
       "      <td>1</td>\n",
       "      <td>0</td>\n",
       "      <td>PC 17599</td>\n",
       "      <td>71.2833</td>\n",
       "      <td>C85</td>\n",
       "      <td>C</td>\n",
       "    </tr>\n",
       "    <tr>\n",
       "      <th>2</th>\n",
       "      <td>3</td>\n",
       "      <td>1</td>\n",
       "      <td>3</td>\n",
       "      <td>Heikkinen, Miss. Laina</td>\n",
       "      <td>female</td>\n",
       "      <td>26.0</td>\n",
       "      <td>0</td>\n",
       "      <td>0</td>\n",
       "      <td>STON/O2. 3101282</td>\n",
       "      <td>7.9250</td>\n",
       "      <td>NaN</td>\n",
       "      <td>S</td>\n",
       "    </tr>\n",
       "    <tr>\n",
       "      <th>3</th>\n",
       "      <td>4</td>\n",
       "      <td>1</td>\n",
       "      <td>1</td>\n",
       "      <td>Futrelle, Mrs. Jacques Heath (Lily May Peel)</td>\n",
       "      <td>female</td>\n",
       "      <td>35.0</td>\n",
       "      <td>1</td>\n",
       "      <td>0</td>\n",
       "      <td>113803</td>\n",
       "      <td>53.1000</td>\n",
       "      <td>C123</td>\n",
       "      <td>S</td>\n",
       "    </tr>\n",
       "    <tr>\n",
       "      <th>4</th>\n",
       "      <td>5</td>\n",
       "      <td>0</td>\n",
       "      <td>3</td>\n",
       "      <td>Allen, Mr. William Henry</td>\n",
       "      <td>male</td>\n",
       "      <td>35.0</td>\n",
       "      <td>0</td>\n",
       "      <td>0</td>\n",
       "      <td>373450</td>\n",
       "      <td>8.0500</td>\n",
       "      <td>NaN</td>\n",
       "      <td>S</td>\n",
       "    </tr>\n",
       "  </tbody>\n",
       "</table>\n",
       "</div>"
      ],
      "text/plain": [
       "   PassengerId  Survived  Pclass  \\\n",
       "0            1         0       3   \n",
       "1            2         1       1   \n",
       "2            3         1       3   \n",
       "3            4         1       1   \n",
       "4            5         0       3   \n",
       "\n",
       "                                                Name     Sex   Age  SibSp  \\\n",
       "0                            Braund, Mr. Owen Harris    male  22.0      1   \n",
       "1  Cumings, Mrs. John Bradley (Florence Briggs Th...  female  38.0      1   \n",
       "2                             Heikkinen, Miss. Laina  female  26.0      0   \n",
       "3       Futrelle, Mrs. Jacques Heath (Lily May Peel)  female  35.0      1   \n",
       "4                           Allen, Mr. William Henry    male  35.0      0   \n",
       "\n",
       "   Parch            Ticket     Fare Cabin Embarked  \n",
       "0      0         A/5 21171   7.2500   NaN        S  \n",
       "1      0          PC 17599  71.2833   C85        C  \n",
       "2      0  STON/O2. 3101282   7.9250   NaN        S  \n",
       "3      0            113803  53.1000  C123        S  \n",
       "4      0            373450   8.0500   NaN        S  "
      ]
     },
     "execution_count": 2,
     "metadata": {},
     "output_type": "execute_result"
    }
   ],
   "source": [
    "df = pd.read_csv('https://raw.githubusercontent.com/Cyntwikip/data-repository/main/titanic.csv')\n",
    "df.head()"
   ]
  },
  {
   "cell_type": "code",
   "execution_count": 3,
   "id": "1297aaaf-90d7-49c4-aa4b-0c3ad4bdb679",
   "metadata": {
    "execution": {
     "iopub.execute_input": "2022-01-29T03:20:38.990164Z",
     "iopub.status.busy": "2022-01-29T03:20:38.990164Z",
     "iopub.status.idle": "2022-01-29T03:20:39.364162Z",
     "shell.execute_reply": "2022-01-29T03:20:39.363164Z",
     "shell.execute_reply.started": "2022-01-29T03:20:38.990164Z"
    },
    "tags": []
   },
   "outputs": [
    {
     "data": {
      "image/png": "[encoded data removed]",
      "text/plain": [
       "<Figure size 500x300 with 1 Axes>"
      ]
     },
     "metadata": {},
     "output_type": "display_data"
    }
   ],
   "source": [
    "fig, ax = plt.subplots(1,1, figsize=(5,3), dpi=100)\n",
    "df['Pclass'].value_counts().plot(kind='bar')\n",
    "plt.title('Class distribution')\n",
    "plt.xticks(rotation=0)\n",
    "plt.ylabel('Count')\n",
    "plt.show()"
   ]
  },
  {
   "cell_type": "code",
   "execution_count": 4,
   "id": "c25d38d8-2f2a-4ae0-ab44-dbd791b0d165",
   "metadata": {
    "execution": {
     "iopub.execute_input": "2022-01-29T03:20:39.366163Z",
     "iopub.status.busy": "2022-01-29T03:20:39.366163Z",
     "iopub.status.idle": "2022-01-29T03:20:39.569495Z",
     "shell.execute_reply": "2022-01-29T03:20:39.568495Z",
     "shell.execute_reply.started": "2022-01-29T03:20:39.366163Z"
    },
    "tags": []
   },
   "outputs": [
    {
     "data": {
      "image/png": "[encoded data removed]",
      "text/plain": [
       "<Figure size 500x300 with 1 Axes>"
      ]
     },
     "metadata": {},
     "output_type": "display_data"
    }
   ],
   "source": [
    "fig, ax = plt.subplots(1,1, figsize=(5,3), dpi=100)\n",
    "df['Sex'].value_counts().plot(kind='bar')\n",
    "plt.title('Sex distribution')\n",
    "plt.xticks(rotation=0)\n",
    "plt.ylabel('Count')\n",
    "plt.show()"
   ]
  },
  {
   "cell_type": "code",
   "execution_count": 5,
   "id": "76ea8367-35c7-4862-9401-075d4a4dc4cf",
   "metadata": {
    "execution": {
     "iopub.execute_input": "2022-01-29T03:20:39.572660Z",
     "iopub.status.busy": "2022-01-29T03:20:39.572660Z",
     "iopub.status.idle": "2022-01-29T03:20:39.836497Z",
     "shell.execute_reply": "2022-01-29T03:20:39.835497Z",
     "shell.execute_reply.started": "2022-01-29T03:20:39.572660Z"
    },
    "tags": []
   },
   "outputs": [
    {
     "name": "stdout",
     "output_type": "stream",
     "text": [
      "Max Fare: 512.3292 | Min Fare: 0.0\n"
     ]
    },
    {
     "data": {
      "image/png": "[encoded data removed]",
      "text/plain": [
       "<Figure size 500x300 with 1 Axes>"
      ]
     },
     "metadata": {},
     "output_type": "display_data"
    }
   ],
   "source": [
    "print(f\"Max Fare: {df.Fare.max()} | Min Fare: {df.Fare.min()}\")\n",
    "fig, ax = plt.subplots(1,1, figsize=(5,3), dpi=100)\n",
    "df['Fare'].hist()\n",
    "plt.title('Fare distribution')\n",
    "plt.xlabel('Fare')\n",
    "plt.ylabel('Count')\n",
    "plt.show()"
   ]
  },
  {
   "cell_type": "markdown",
   "id": "5434ef32-a279-4306-9be4-c0bc8d2a3a6b",
   "metadata": {},
   "source": [
    "## Data Preparation"
   ]
  },
  {
   "cell_type": "code",
   "execution_count": 6,
   "id": "c276e45c-882f-40f0-be26-88f4431c132d",
   "metadata": {
    "execution": {
     "iopub.execute_input": "2022-01-29T03:20:39.838498Z",
     "iopub.status.busy": "2022-01-29T03:20:39.838498Z",
     "iopub.status.idle": "2022-01-29T03:20:39.867495Z",
     "shell.execute_reply": "2022-01-29T03:20:39.866496Z",
     "shell.execute_reply.started": "2022-01-29T03:20:39.838498Z"
    },
    "tags": []
   },
   "outputs": [],
   "source": [
    "X = df[['Pclass', 'Sex', 'Fare']]\n",
    "X = pd.get_dummies(X)\n",
    "y = df['Survived']"
   ]
  },
  {
   "cell_type": "code",
   "execution_count": 7,
   "id": "153395d2-d0ca-4469-b93c-4c2aa9b6fbee",
   "metadata": {
    "execution": {
     "iopub.execute_input": "2022-01-29T03:20:39.869496Z",
     "iopub.status.busy": "2022-01-29T03:20:39.869496Z",
     "iopub.status.idle": "2022-01-29T03:20:39.899496Z",
     "shell.execute_reply": "2022-01-29T03:20:39.898499Z",
     "shell.execute_reply.started": "2022-01-29T03:20:39.869496Z"
    },
    "tags": []
   },
   "outputs": [
    {
     "data": {
      "text/html": [
       "<div>\n",
       "<style scoped>\n",
       "    .dataframe tbody tr th:only-of-type {\n",
       "        vertical-align: middle;\n",
       "    }\n",
       "\n",
       "    .dataframe tbody tr th {\n",
       "        vertical-align: top;\n",
       "    }\n",
       "\n",
       "    .dataframe thead th {\n",
       "        text-align: right;\n",
       "    }\n",
       "</style>\n",
       "<table border=\"1\" class=\"dataframe\">\n",
       "  <thead>\n",
       "    <tr style=\"text-align: right;\">\n",
       "      <th></th>\n",
       "      <th>Pclass</th>\n",
       "      <th>Fare</th>\n",
       "      <th>Sex_female</th>\n",
       "      <th>Sex_male</th>\n",
       "      <th>Survived</th>\n",
       "    </tr>\n",
       "  </thead>\n",
       "  <tbody>\n",
       "    <tr>\n",
       "      <th>0</th>\n",
       "      <td>3</td>\n",
       "      <td>7.2500</td>\n",
       "      <td>0</td>\n",
       "      <td>1</td>\n",
       "      <td>0</td>\n",
       "    </tr>\n",
       "    <tr>\n",
       "      <th>1</th>\n",
       "      <td>1</td>\n",
       "      <td>71.2833</td>\n",
       "      <td>1</td>\n",
       "      <td>0</td>\n",
       "      <td>1</td>\n",
       "    </tr>\n",
       "    <tr>\n",
       "      <th>2</th>\n",
       "      <td>3</td>\n",
       "      <td>7.9250</td>\n",
       "      <td>1</td>\n",
       "      <td>0</td>\n",
       "      <td>1</td>\n",
       "    </tr>\n",
       "    <tr>\n",
       "      <th>3</th>\n",
       "      <td>1</td>\n",
       "      <td>53.1000</td>\n",
       "      <td>1</td>\n",
       "      <td>0</td>\n",
       "      <td>1</td>\n",
       "    </tr>\n",
       "    <tr>\n",
       "      <th>4</th>\n",
       "      <td>3</td>\n",
       "      <td>8.0500</td>\n",
       "      <td>0</td>\n",
       "      <td>1</td>\n",
       "      <td>0</td>\n",
       "    </tr>\n",
       "    <tr>\n",
       "      <th>...</th>\n",
       "      <td>...</td>\n",
       "      <td>...</td>\n",
       "      <td>...</td>\n",
       "      <td>...</td>\n",
       "      <td>...</td>\n",
       "    </tr>\n",
       "    <tr>\n",
       "      <th>886</th>\n",
       "      <td>2</td>\n",
       "      <td>13.0000</td>\n",
       "      <td>0</td>\n",
       "      <td>1</td>\n",
       "      <td>0</td>\n",
       "    </tr>\n",
       "    <tr>\n",
       "      <th>887</th>\n",
       "      <td>1</td>\n",
       "      <td>30.0000</td>\n",
       "      <td>1</td>\n",
       "      <td>0</td>\n",
       "      <td>1</td>\n",
       "    </tr>\n",
       "    <tr>\n",
       "      <th>888</th>\n",
       "      <td>3</td>\n",
       "      <td>23.4500</td>\n",
       "      <td>1</td>\n",
       "      <td>0</td>\n",
       "      <td>0</td>\n",
       "    </tr>\n",
       "    <tr>\n",
       "      <th>889</th>\n",
       "      <td>1</td>\n",
       "      <td>30.0000</td>\n",
       "      <td>0</td>\n",
       "      <td>1</td>\n",
       "      <td>1</td>\n",
       "    </tr>\n",
       "    <tr>\n",
       "      <th>890</th>\n",
       "      <td>3</td>\n",
       "      <td>7.7500</td>\n",
       "      <td>0</td>\n",
       "      <td>1</td>\n",
       "      <td>0</td>\n",
       "    </tr>\n",
       "  </tbody>\n",
       "</table>\n",
       "<p>891 rows × 5 columns</p>\n",
       "</div>"
      ],
      "text/plain": [
       "     Pclass     Fare  Sex_female  Sex_male  Survived\n",
       "0         3   7.2500           0         1         0\n",
       "1         1  71.2833           1         0         1\n",
       "2         3   7.9250           1         0         1\n",
       "3         1  53.1000           1         0         1\n",
       "4         3   8.0500           0         1         0\n",
       "..      ...      ...         ...       ...       ...\n",
       "886       2  13.0000           0         1         0\n",
       "887       1  30.0000           1         0         1\n",
       "888       3  23.4500           1         0         0\n",
       "889       1  30.0000           0         1         1\n",
       "890       3   7.7500           0         1         0\n",
       "\n",
       "[891 rows x 5 columns]"
      ]
     },
     "execution_count": 7,
     "metadata": {},
     "output_type": "execute_result"
    }
   ],
   "source": [
    "pd.concat([X, y.to_frame()], axis=1)"
   ]
  },
  {
   "cell_type": "markdown",
   "id": "909def5a-7180-4c28-9d1a-e0ff96be2f25",
   "metadata": {},
   "source": [
    "## Modeling"
   ]
  },
  {
   "cell_type": "code",
   "execution_count": 8,
   "id": "949fdaf6-2c4f-40c3-bc23-addec880b880",
   "metadata": {
    "execution": {
     "iopub.execute_input": "2022-01-29T03:20:39.901499Z",
     "iopub.status.busy": "2022-01-29T03:20:39.901499Z",
     "iopub.status.idle": "2022-01-29T03:20:39.915496Z",
     "shell.execute_reply": "2022-01-29T03:20:39.914498Z",
     "shell.execute_reply.started": "2022-01-29T03:20:39.901499Z"
    },
    "tags": []
   },
   "outputs": [],
   "source": [
    "def train_model(X:pd.DataFrame, y:pd.DataFrame):\n",
    "    X_train, X_test, y_train, y_test = train_test_split(X, y, test_size=0.2, random_state=42)\n",
    "    \n",
    "    model = KNeighborsClassifier(n_neighbors=3, p=2, n_jobs=-1) # instantiate model\n",
    "    model.fit(X_train, y_train) # train the model\n",
    "    print(f\"Train Set Score: {model.score(X_train, y_train)}\")\n",
    "    print(f\"Test Set Score: {model.score(X_test, y_test)}\")\n",
    "    \n",
    "    return model"
   ]
  },
  {
   "cell_type": "code",
   "execution_count": 9,
   "id": "d60a336b-e38b-41b0-92c7-ab806243cafb",
   "metadata": {
    "execution": {
     "iopub.execute_input": "2022-01-29T03:20:40.428190Z",
     "iopub.status.busy": "2022-01-29T03:20:40.427189Z",
     "iopub.status.idle": "2022-01-29T03:20:40.446188Z",
     "shell.execute_reply": "2022-01-29T03:20:40.445188Z",
     "shell.execute_reply.started": "2022-01-29T03:20:40.428190Z"
    },
    "tags": []
   },
   "outputs": [],
   "source": [
    "def predict(model, pclass, fare, sex) -> str:\n",
    "    # if sex is male, sex_male = 1 and sex_female = 0\n",
    "    # if sex is female, sex_male = 0 and sex_female = 1\n",
    "    # if not male or female, display an error message\n",
    "    # your code here...\n",
    "    survived = model.predict([[pclass, fare, sex_male, sex_female]])[0]\n",
    "    \n",
    "    # return \"person will survive\" if survived is 1, else return \"person will not survive\"\n",
    "    # your code here..."
   ]
  },
  {
   "cell_type": "code",
   "execution_count": null,
   "id": "23bf3cc3-c18c-4a1a-addf-4801faf40ac4",
   "metadata": {},
   "outputs": [],
   "source": [
    "# your code here...\n",
    "# call train_model function and provide the necessary arguments and store the model in a variable named `model`\n",
    "\n",
    "iterations = int(input('Iterations'))\n",
    "# ask for the user's input `x` times where `x` is the number assigned in iterations variable\n",
    "# each time you ask ask for user's input, get the pclass, fare, and sex\n",
    "# you might have to type-cast some of the values\n",
    "# call the predict function pass the necessary arguments\n",
    "# print the value return by predict function"
   ]
  },
  {
   "cell_type": "markdown",
   "id": "599efa2a-dff9-417c-ac5f-42c68a149561",
   "metadata": {
    "id": "tp9vhl21y7gK"
   },
   "source": [
    "## End\n",
    "<sup>made by **Jude Michael Teves**</sup> <br>\n",
    "<sup>for comments, corrections, suggestions, please email:</sup><sup> judemichaelteves@gmail.com or jude.teves@dlsu.edu.ph</sup><br>\n"
   ]
  }
 ],
 "metadata": {
  "kernelspec": {
   "display_name": "Python 3",
   "language": "python",
   "name": "python3"
  },
  "language_info": {
   "codemirror_mode": {
    "name": "ipython",
    "version": 3
   },
   "file_extension": ".py",
   "mimetype": "text/x-python",
   "name": "python",
   "nbconvert_exporter": "python",
   "pygments_lexer": "ipython3",
   "version": "3.8.8"
  }
 },
 "nbformat": 4,
 "nbformat_minor": 5
}
