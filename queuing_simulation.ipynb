{
  "cells": [
    {
      "attachments": {},
      "cell_type": "markdown",
      "metadata": {
        "id": "RFfe_U5H-Yzb"
      },
      "source": [
        "## Queuing Simulation\n",
        "\n",
        "*Prepared by:*\n",
        "**Jude Michael Teves**  \n",
        "Faculty, Software Technology Department  \n",
        "College of Computer Studies - De La Salle University"
      ]
    },
    {
      "cell_type": "markdown",
      "metadata": {
        "id": "6-h3S3LFBHbe"
      },
      "source": [
        "## Problem\n",
        "\n",
        "<img src=\"data:image/png;base64,iVBORw0KGgoAAAANSUhEUgAAAhoAAAHaCAYAAABGueAPAAAAAXNSR0IArs4c6QAAAARnQU1BAACxjwv8YQUAAAAJcEhZcwAADsIAAA7CARUoSoAAAD/fSURBVHhe7d0JfFTlof7xZ5ZMVshCEsMmi2xWVkGlYFWsuFWttbZWr9Yu3raorXKtWpf2Yhete7lauXpbtS5/tbVa0QpeRbAVLlABF5CdIDsBkkD2ySz/eQ8nIWhQMHPCmTO/7+eTJu97ZhLTOXnn4V198QQBAAA4wG9/BgAASDqCBgAAcAxBAwAAOIagAQAAHEPQAAAAjiFoAAAAxxA0AACAYwgaAADAMQQNAADgGEd3Bm2OhLVg+Wz9Y9kMVdbsUHNzWBu2r7OvIlV079ZLOdl5ysvqopOGfkUnHH2KchNfA0hftO/e4XQb70jQqGus0ZNvPKDZ776irgW58mU3KxAKyOeTMnMy7EchVYQbIorF4opF4orW+1RT1aDjhnxJV5x5gwryutmPApAOaN+9x+k2PulB4633/q4/vnaPsgp9yikKWTcfvKe2slGNu6Svjb9cF5z4XbsWgJfRvqePZLbxSQ0aT7w+VW+velXZpZI/wB3odebOadgR09FHHKdrv/YbuxaAF9G+p59ktfFJCxp/mHGnFm2craxiuwJpo6kqpj5dhunGb95r1wDwEtr39NbRNj4pq05Md9rCdW9yE6apzEK/1lcv0zOzH7JrAHgF7Ts62sZ3OGhU1+7SH2berZwyutLSmWmEXlv0vMq3rbRrAKQ62ne06Egb3+Gg8eych5Vd5GdSEKwb8X9m3GmXAKQ62ne09Xnb+A4FDbPM6Z8fzLBmHwPZXUPaVvWRVm36wK4BkKpo3/Fxn7eN71DQWLB8jvWDSbto4cuJ6p1V/7RLAFIV7Tva83na+A4FjX8s/bsCOUndhgMpLqtLUG8vfc0uAUhVtO9oz+dp4zsUNKpqdimQQdzFPoEMv2rqq+0SgFRF+472fJ42vkNBY3ddlQLBDn0LeIy5H2obau0SgFRF+472fJ42vmNBo7ZKwVDALgEAvIL2HclCXAUAAI4haAAAAMcQNAAAgGMIGgAAwDEEDQAA4BiCBgAAcAxBAwAAOIagAQAAHEPQAAAAjiFoAAAAxxA0AACAYwgaAADAMQQNAADgGIIGAABwDEEDAAA4hqABAAAc44sn2F8fsq/952j1HVFilw6PMUd+WRMGfl098vvbNVJFzUa9ve4V/XPtS3bNPqVdelvXP4+2zw34g/rJyfcqN5Sv+968WvXNtVb94RAKZunnZ/xJs1Y9pzmrX7BrD5/17+3Qi7ctsksAUpEb2ncjXdv47l376tLjbmj9vWPxqFZVvKsnF95xWN9vjENt41O6R+PfxlxvfbS9AQ1zs1wwYpJ+OP43ds1eE4dcbN04hTmlds3B68hznWRCxuRTpiovM9+uAQBvSNc2vlfBAF07Yep+v7ffF9CQI0br+tOmue596LOkbNAwL8TwnidaKe+F96Zp8gtntn5Me/smbdvzkfWinDLwAvsZexNiZiDLLh2ajz83Govo/tnX6NevfeewpUuT9H/1ledU1rWPXQMA3pCubbzpSfnGqB8rFMjU35c91vo73/XGj7ShaqUKskt0xpB/sx+dGlI2aBzTfaz1Qry89I+f6D5bVbFET79zt8LRJg3rMd6u9Y69XXr3WUm/PrxHb6972b4CAN6Qrm28ad+Lcsq0btcyvbHyObtW2rpnvX7/zxtV27RbJV162bWpIWXnaAzrMU7fG/sLvfTBI585L6FlrO3IwsF2jawX8YG3rrO+PqHvGTp9yCWJF/cIq2wS9Pz1M/X3pY+pKdrY7nMfSrzgpv7j43cmFZ/1hW9rcCJpmz8SY/WOd/W/K/6f1ux43yq3Hfv785Kp+trwH1m9Eubnzl33ipXeP40ZLrn59D9q2db51n/jUSXDD/r/i87AHA0g9R3uORrp3MYfSMt8vIraTa2/2+GQNnM0Pty20OpG+uqwH+jKL/1WXzrqq8rJyLOvHrwzjr5U3zp2cusNaJixsHH9vqLzhv27XXNwWsbVzB9Iyw1oDCwZqR+O+/UnxtW65ZZp0ol3tA59mJ9rfg/z3/NpwpFGTXn13/SXJQ8c9klBAOCEdG7jD2Rw6bHWfLwdNZvsmtSQskHDjJ/9VyLRfbBlnvUim4lBvzn3ed1/wUzdNPF/rBezRctY25JNbykSDeuXM79tpUGTDk/sf65V9/t/3tA6FnZvIr2a7qkBJSOsMbv2ntueUwd9w7r5VmxfpFtevtD6Xj/92zl6Z8MsBQMhXXrcjfYj9zHJueWxM5c/ZdWlWrcYACQbbfz+TMgx339X3TZN/+B/7NrUkNKrTszN9ej8X1ov9JP/+q3e2/xPVdZvb52RfOsZj39qAjY9Az//+0W6/qXzrO/1xX5n6zsn3KLvjv35Ia/iMDe0+WMwN0Hb5Ufm+z67+H4rmR9ZMHC/xGtu6qf+dWfrY2evft66+fOzun2u5A4AXkIbv5cJGT8++V4F/UG9+P5/p1xPdkoHjRbmhV68cY4eX/Ab/Wrm5dZNOWf1X61uq++Pu81+VPvMC3jnV1+SmVz5zVE/0YieX9qvi+1gleb1sm7ENTve+8RNYP77Ptz2L/n9gf2WK+1urFRTc71d2vu4yvptdgkAYKRzG2+Gfq479UFr4r9ZbWPm5qWalAwa5sU2yzoPlGbNi/nKssfaTZhtme9j1mGbrrC1Oz/QvPK/65lF9+nBf1xvpU4AQOejjd87oXTyhKk6MxE0TC/K3W9Map1smmpSMmiY7jAzy7cwp0T9iofatYeuZWKNmdVsbjwzuXLhR/+rjdWr7UccPDML2Px3mTG/j/9hmBvmC2XHKRaLasvudXYtAKA96d7Gt11Fs2D9a4d1v6ZkSNmhEzNxx+8L6Htjf25tbtL2hTfLj1pepA2JG6qqvsK+kviFP9a1ZZh12C3PN8890E6b7T23RcsfhunKu+z4m1q/n7lhzAzj9v5bAADtS+c23uyRZL6fCUhm/keqS9mgYWYimxm85kY0y5RaZiObjxtO+2/rRapu2GFNxGmxvWaj9fgrvjjFmlizsmKx1X3Wv9sxrc83z21ZipSfVaTMjBzr648/tz1vrvqLtYGM2a2u5fvdc/4r1g6eZv20uQ4A+Gzp2sabOSVmszLDLO1t+Z3bftz91ekHHC5yo5SeDPpa4iY03WGmq8q8+C32NFZaY3FmTKttujQzfs22tYaZ9Rv0Ba1NWVrqDPNcs+2rlabbpNuPPzcn1MX6uq1N1Wv0u9nXWH8gLczNZ5ZC/W72tSk5iQcADpd0bONNgGi7R4cXpPzprXAfdgYFUh/tOw4krU5vBQAA7kbQAAAAjiFoAAAAxxA0AACAYwgaAADAMQQNAADgGIIGAABwDEEDAAA4hqABAAAcQ9AAAACOIWgAAADHEDQAAIBjCBoAAMAxBA0AAOAYggYAAHAMQQMAADiGoAEAABzToaCRl52naCRmlwAAXkH7jmTpUNDoklOgaDM3IvaJRePKDGXZJQCpivYd7fk8bXyHgkZBl27ciNiP+RdQl+yudglAqqJ9R3s+TxvfoaBxbP9xijb67BIgNdU1a/CRw+0SgFRF+472fJ42vkNB46QRZ6thd8QuAVK8IagvHXOWXQKQqmjf0Z7P08Z3KGiUFvTQkaVHqWFP2K5BOjNdas0NcR07cJxdAyBV0b7j4z5vG9+hoGH8+1k3qnGnXUBaq98e05Xn/lwZwZBdAyCV0b6jrc/bxnc4aPQrG6zjh0xQQyWThtJZU01MPfL764SjT7FrAKQ62ne06Egb3+GgYVx5zs9V6O+h5lpuxnQUbogoUJunn1/yoF0DwCto39HRNj4pQcO49ZIHlNVUoqYqbsZ0YlKuv7qrfvv9PzFkAngU7Xv6SkYb74sn2F8nxe9evEVLNy5QZjcplB20a+E1ZlJQQ0Vc3bv2s1IuIQPwPtr39JHMNj7pQcNYsnqe/mfGnQr76qTMZuUUZCoQTFrnCQ4TsyNcw54mxRsyFK6P6d/PukEnDjvDvgogHdC+e5dTbbwjQaPFguVz9K9VcxKfZ6u2odauRaoy284OP+o4nXTMWTrh6An0YgBpjPbde5xq4x0NGgAAIL3R3wUAABxD0AAAAI4haAAAAMcQNAAAgGMIGgAAwDEEDQAA4BiCBgAAcAxBAwAAOIagAQAAHEPQAAAAjiFoAAAAxxA0AACAYwgaAADAMQQNAADgGI6JPwQ1dU1auX6HyjdVald1vVU3Z9F663NbJwzrpexQUF1yMzW4X4n69ixUcUGufRUA4Ea08c4gaHyGLRV7NHfJev111odat3GXcvPyFPdlqjkasK5nZHWxPrfV3Fib+N+4Av6YAmpUU32DigqzdfGZwzVuVB/161m094EAgMOKNt55BI127Kyu03Mz3teMuatUtacxcaPlJ+62gnZvuIMVCdcr2liZuENrEkk4oJOP66vvfHW0epR2tR8BAOgMtPGdi6DRRlNzRA//eaFenLVc0UC+AombLxjKsa8mT6S5Qc0NexSMVOnskwZq0jdPsLrgAADOoY0/PAgatumzP9R9T8yVL1SkQE6JfP693WZOisdjitbvSKTgnbrigjG66KzhyswI2lcBAMlCG3/4pH3QeGfZJk2ZNkt14ZD8Od3lD2TYVzpPPBZN3IzbFIzVasqVp2r8qL72FQBAR9DGH35pHTSeeuVd/enlpYqEjnCk++xQRSNNUv1mnXtSf02+bLxdCwD4PGjj3SEtg4YZp5vy0Jt6Z0W14tnd5fO5azuReP129S316f4bzmbuBgAcItp4d0m7oGHWSU/69XRt3ROSP6vYrnWfWNNu5Yeq9eDPzmHWMgAcJNp490mroLGyfIeuufPvagyUdWgZU2cxy6X8jZv00M3nWJvCAAAOjDbendImaJh105ff/IIaMnoqEEydriozichfX66Hf3Eum8AAwAHQxrtXWpx1Ysbrrr3zVdX5SlLqBjTMEqxIVm9N+tV0q0sQALA/2nh3S4ugYSYFmfG6VOhKa4/5wzFdgWbc0fxBAQD2oY13N88HjUdfXKSFK3a7elLQwTB/QOYPyfxBAQD2oo13P08HDbNRyzMzl8uXXWbXpDbzh2T+oMwfFgCkO9r41ODpoGF2gzMbtbhtDXVHmD+ox/62yJr4BADpjDY+NXg2aDwxfbHqmrNdsRtcMpk/KH9WiaY9t8CuAYD0QxufOjwZNMxkGtP15M8utWu8JSO3WLPml2tLxR67BgDSB218avFk0Jj61Dz5MrsdlsNzOoNJvPGsMk2ZxsRQAOmHNj61eC5omHGtl+essI4B9rJQToFWfrTL2gkPANIFbXzq8VzQePylxfKFunlqctCBxEMl+v2zzNUAkD5o41OP516p1+euUSA73y55Wyi7QIs/3MQmXgDSBm186vFU0CjfXKmGcFTBjGy7xtvM1rWhrFy9s3STXQMA3kUbn5o8FTTe+L818memR9JtEfbl6bV5a+wSAHgXbXxq8lTQmPH2ainD2+f6f1xmTqFmL1hrlwDAu2jjU5Nnjok3M5HPu+pJ5ZYNs2uS57TRpfrGKT3Uv0euXSNtrGjQ1OfX6r21u+2a9mWFAnrqltF69s1Nev6tLXZtckWqV2vqjWdo+KDudg0AeIub2vh+3XP0s0sGtT4+Gotryerd+s2TK1XbkPz5FKnexnumR8OMYWXmJjfpBgM+PXDNCN14ycD9bkCjd2m27rlyqK67aIBd80kmZDxwzXDl5zm71jviz2GeBgBPc0sbP7BXnh74yYj9Hh/w+zRmcIEe+elIlRYm/5j6VG/jPRM0dlXXKxoP2KXkuOHiQRpyZJ52VDfppkeWaeJ1c62Ps26Yp3ufW6OmcEwTx5Rq7DFF9jP2MQn5+duOV98y57fHjSuobbtq7RIAeI8b2ngTTH7y9aOUGfLr0Vc/an38D+5ZohUbalVSkKnLTu9tPTaZUr2N90zQqKiqUzSWvJtw/NBumjCqWNsqGxM30bt6Z2W1fSWRLqNxzVy4XXc8vcpKshdN6Glf2Xsj/u7Hw62EvKe+WdPnbrWvOMcfSNyEOzlkDYB3uaGNDwb86l6UqaXle/TMrH09DOVb63X9tKXaXdusXiXJXxGT6m28Z4LGlooa+YPJG6I4eWSxNe72+7+VH3DMbcHySj39+kbro4W5EcsSN+Ir87ZZN+/iVZ8+hyMZ/IFQ4o+QHg0A3uWGNr4xHNWF/7lQkx/8wCp3llRv4z0TNDZu361AMDljY6ZXonu3LKs7bem6Ax9qY1Lv4zM37JeEzY34rdv+pal/XevIpKD2+IMhbd9ZY5cAwHvc0sYfyOhBBdZ8vE07Guya5En1Nt4zQaOqukG+QNAudUxL99jO3eFOCwsdYQ4WqqlttEsA4D1ubuPNBNGb/m2QNQzz8PT1dm3ypHob75mgUd8Ylt+fnJsw1Zg9/yPRqF0CAO9xaxtvQsb9Vw1TMOj71GGYjkj1Nt4zQSMY9Csej9mljolEY9pa2aTi/JDystMzvACAm7ixjTcrTB6aPMKa+H/jfy/T/GWV9hW05ZmgcURxF8UiYbvUMWZcbuuuRmup0tD+n75u++ZLB2vm3ePaXeLaWaKRJhXm778GHAC8xE1tfMv+G98+48jWVSuftXljR6R6G++ZoFFamKdYNDk3ofGXOZsVicR11fn9Dph4TZfZuMTN91kTipwWizarsKvz+3UAwOHiljbehIz7rx5u7b9hlsBe9ptFjs/lS/U23jNBo6w4N/FiJO/FXr2pVvOWVaqsKMva7e38E/dt/WputCu+0scalzMbt7z09tbDOmk0nvi9iwvp0QDgXW5p41s2+Xp4erm1qVdnSPU23jNnnTz6wr/02IxyZXXdt3lWR7VNrgdiEu2n3WxmU5gp3x1i3ZROnXXSUFOhU0d00S+vOs2uAQBvcUMb3zLx04SPAwlHYvrubxeroqrJrum4VG/jPdOjYdJe0JfcWblmHG/yg+9bN9mWnfsvLTIH7pgtazsr0X4ak3Z7FB/4DwUAUp0b2vjSgsxPDRlOSfU23jM9GuWbK3X5LS8os9vRdk36iO5Zp19d+SWNH9XXrgEAb6GNT9023jM9Gv16Fingj1uzc9OJWe5VV7dHY4b2smsAwHto41O3jfdM0DC+cvIQReqr7FJ6CCd+3xOG9VFmBvt9APA22vjU5KmgccqYfgoovQ4XC8TqdNrY/nYJALyLNj41eSpojDmmlyJNjdaa43RgutTC9bs14fij7BoA8C7a+NTkqaBhjB1xpMINzh/N7gaRpjr17lGgLrnJOdEQANyONj71eC5oXHHBGPmbd9olb/OFd+qHFx5nlwDA+2jjU4/ngsbgfiUa3KebwvXVdo03RcL1ys2MMmwCIK3QxqcezwUN4/ZrJipWvzlpJ/25UuMWTZn0ZbsAAOmDNj61eDJoFBfk6vRxA9Rc583uNZPkB/bKtyZGAUC6oY1PLZ4MGsa1l45XMFLlzdnJTdt03bfH2wUASD+08anDs0HDzNK94sLRUuN2u8YbIg27NOYLPaxxSgBIV7TxqcOzQcO4+KwRGjmgq/XCeUFzU62Kc+qs8UkASHe08anB00HDMC+YeeHMC5jKzP7+ubEKTbv1PLYbBwAbbbz7eT5omBfMvHDmBUzVw3jMzGpf/Ubdd/2Z1iQoAMBetPHu5/mgYZgX7o5rT5O/cVNKLoeK127Qz743nnkZANAO2nh3S4ugYQwf1F3XXnK8VFeueCxq17qb+YOJ1azXj74+QhO/OMCuBQB8HG28e/niCfbXaeH9VVs1+e6ZimX1UjCUY9e6j+kCNF1pJuUSMgDg4NDGu0/aBQ1jS8UeXf3bV7Q7XCB/Zr5d6x5mUpMZbzTjdQyXAMChoY13l7QMGkZNXZMm3/Wq1m6PK5h7hF17+JllWmYGtZncxMRPAPh8aOPdI22DRou7HvuHXpq9PHEj9lIop8Cu7XzNjTWKN2y2Nmoxy7VYwgoAHUcbf/ilfdAwTDfblGlvavWGasWzypSR1cW+4jxzQp+vcZtKCzN026QvM1QCAElGG394ETTaMJOIbv/DW6qoalYsVOLozWhuPjXtUG6oWTd9/2SNH9XXvgIAcAJt/OFB0GjH3CXr9cAz87Vu4y7ldilS1J+rUE6hfL6OrQY2J/L5ojUK11WrqDBbV39rrM48cbB9FQDQGWjjOxdB41OYyUSzF67VG/PXacEHHyknN1/hWKYCGZnyB0LWY9pLxNZWuIn/W81abpNqQ4Fm1dVUaeSQnpo4tr8mnHAUEz0B4DCjje8cBI2D1NQc0bwlH2ll+Q59uG6nKqr27qu/Yu0263Nb/XuXKBQKqGtulo4dUqa+PQutbjNz2iAAwH1o451D0AAAAI5Jmy3IAQBA5yNoAAAAxxA0AACAYwgaAADAMQQNAADgGIIGAABwDEEDAAA4hqABAAAcQ9AAAACOIWgAAADHEDQAAIBjCBoAAMAxBA0AAOAYggYAAHAMQQMAADiGoAEAABxD0AAAAI4haAAAAMcQNAAAgGMIGgAAwDEEDQAA4BiCBgAAcAxBAwAAOIagAQAAHEPQAAAAjiFoAAAAx/jiCfbXAPCZauqatHL9DpVvqtSu6nqrbs6i9dbntk4Y1kvZoaC65GZqcL8S9e1ZqOKCXPsqgHRB0ADwmbZU7NHcJev111kfat3GXcrNy1Pcl6nmaMC6npHVxfrcVnNjbeJ/4wr4YwqoUU31DSoqzNbFZw7XuFF91K9n0d4HAvA0ggaAdu2srtNzM97XjLmrVLWnMREm8hOJoqDdUHGwIuF6RRsrEymkRtmhgE4+rq++89XR6lHa1X4EAK8haADYT1NzRA//eaFenLVc0UC+AomAEQzl2FeTJ9LcoOaGPQpGqnT2SQM16ZsnWMMsALyFoAGg1fTZH+q+J+bKFypSIKdEPv/eoREnxeMxRet3KNq4U1dcMEYXnTVcmRlB+yqAVEfQAKB3lm3SlGmzVBcOyZ/TXf5Ahn2l88Rj0UTg2KZgrFZTrjxV40f1ta8ASGUEDSDNPfXKu/rTy0sVCR3hyBDJoYpGmqT6zTr3pP6afNl4uxZAqiJoAGnKzMWY8tCbemdFteLZ3eXzuWtbnXj9dvUt9en+G85m7gaQwggaQBoye2FM+vV0bd0Tkj+r2K51n1jTbuWHqvXgz85hZQqQoggaQJpZWb5D19z5dzUGyjq0VLWzmCWx/sZNeujmc6yNvwCkFoIGkEbM3hiX3/yCGjJ6KhBMneEIM1HUX1+uh39xLht9ASmGs06ANGHmZFx756uq85WkVMgwzDLbSFZvTfrVdGvYB0DqIGgAacJM/DRzMlJhuKQ9JhyZ4R4zt8SEJgCpgaABpIFHX1ykhSt2u3ri58EwIcmEJROaAKQGggbgcWYzrmdmLpcvu8yuSW0mLJnQZMITAPcjaAAeZ3b8NJtxuW2fjI4woemxvy2yJrcCcDeCBuBhT0xfrLrmbFfs+JlMJjT5s0o07bkFdg0AtyJoAB5lJkya4QV/dqld4y0ZucWaNb9cWyr22DUA3IigAXjU1KfmyZfZ7bAckNYZTK9GPKtMU6YxMRRwM4IG4EFm7sLLc1ZYR717WSinQCs/2mXtdgrAnQgagAc9/tJi+ULdPDUB9EDioRL9/lnmagBuRdAAPOj1uWsUyM63S94Wyi7Q4g83sYkX4FIEDcBjyjdXqiEcVTAj267xNrM9eSgrV+8s3WTXAHATggbgMW/83xr5M9OjN6NF2Jen1+atsUsA3ISgAXjMjLdXSxld7VJ6yMwp1OwFa+0SADfhmHjAQ8xqk/OuelK5ZcPsmuQ5bXSpvnFKD/XvkWvXSBsrGjT1+bV6b+1uu2afYMCnW789WOOHdrPK0VhcM+Zv1x9f/Ui1DcmfTxGpXq2pN56h4YO62zUA3IAeDcBDzDyFzNzk9maYwPDANSN04yUD9wsZRu/SbN1z5VBdd9EAu2avrFBA0/5jZGvIMAJ+n84ZV6Zfff9ouya5Iv4c5mkALkTQADxkV3W9ovGAXUqOGy4epCFH5mlHdZNuemSZJl431/o464Z5uve5NWoKxzRxTKnGHlNkP0NWz0ffssQb/8pqfe3WBdbjf3DPEq3fVq+j+3TZ77HJEldQ23bV2iUAbkHQADykoqpO0VjygobpkZgwqljbKhsTQeFdKzi0iETjmrlwu+54epXVW3HRhJ5WvekBOf7oIus5v3lyZeswSfnWev3jvZ3WY3sVZ1l1yeQPJILGTg5ZA9yGoAF4yJaKGvmDydty/OSRxdbcit//rfyA8yoWLK/U069vtD4ME0B+PPU9XfabRfs959hBBfrq+O4KR2L6x/u77Nrk8QdCiaBFjwbgNgQNwEM2bt+tQDDTLnWM6Zno3i3LGjJZuu7AB5eZYPH4zA379Xa0ddnpvfX6veN15w+Psfb3uPmRDxOBoMm+mjz+YEjbd9bYJQBuQdAAPKSqukG+QNAudUww4Ff3okzt3B3u0CqR3qU52rKz0fq6rChLP/3WAOVlJ+e/sS1zeFxN7d6fA8A9CBqAh9Q3huX3J/9NvCNuf2qlLr9jkTUh9InXNlhhw4mVJ+Zcl0g0apcAuAVBA/CQYNCveDxmlzomEo1pa2WTivNDSeuBeGbWJq3YUKtBvfNUWpicIR4A7kbQADzkiOIuikXCdqljzNyLrbsaVVKQqaH9P31vjpsvHayZd4/7zGWrLd/TCdFIkwrz99/nA8DhR9AAPKS0ME+xaHKChvGXOZsVicR11fn9DtirMbBXnsYlAkbLpFGzWdfztx2vJ28Z/YnnmGvHDnTmHJZYtFmFXXPsEgC3IGgAHlJWnJt4w03e9t6rN9Vq3rJKa17FIz8dqfNP3Le9t1mVcsVX+uj+q4YpM+TXS29vtSaNNoajWrx6t/WcWy4b3Bo2+nXP0d2Thio/L0NvLt6R9JUn8cTvXVxIjwbgNpx1AnjIoy/8S4/NKFdW172bZyWDCRT3Xz3c2h30QMzGXWaX0Bam5+KpW0ZboeLjzEZek+57r0MrWdrTUFOhU0d00S+vOs2uAeAG9GgAHmL+RR/0JXflhZlXMfnB960g0bJMtYU5VM1sS942ZBimV+Nbv/yX5i7dtzGX2fjrlXnbHAkZhunR6FF84DAE4PCgRwPwkPLNlbr8lheU2c2Zg8vcLLpnnX515Zc0flRfuwaAG9CjAXhIv55FCvjj1gqMdGKW9NbV7dGYob3sGgBuQdAAPOYrJw9RpL7KLqWHcOL3PWFYH2VmuGuzMgAEDcBzThnTTwGl1+FigVidThvb3y4BcBOCBuAxY47ppUhTo7WvRDowwybh+t2acPxRdg0ANyFoAB40dsSRCjfstkveFmmqU+8eBeqSy5bmgBsRNAAPuuKCMfI377RL3uYL79QPLzzOLgFwG4IG4EGD+5VocJ9uCtdX2zXeFAnXKzczyrAJ4GIEDcCjbr9momL1m5N2mqsrNW7RlElftgsA3IigAXhUcUGuTh83QM113hxCMb01A3vlW5NfAbgXQQPwsGsvHa9gpMqbK1Catum6b4+3CwDciqABeJhZiXHFhaOlxu12jTdEGnZpzBd6WHNRALgbQQPwuIvPGqGRA7pab85e0NxUq+KcOmsOCgD3I2gAacC8KZs3Z/MmncrMGS65sQpNu/U8thsHUgRBA0gD5k3ZvDmbN+lUPXDNrJ7x1W/UfdefaU10BZAaCBpAmjBvzndce5r8jZtScslrvHaDfva98czLAFIMQQNII8MHdde1lxwv1ZUrHovate5mQlGsZr1+9PURmvjFAXYtgFThiyfYXwNIE++v2qrJd89ULKuXgqEcu9Z9zDCPGS4xPRmEDCA1ETSANLWlYo+u/u0r2h0ukD8z3651DzNx1cwpMXMyGC4BUhdBA0hjNXVNmnzXq1q7Pa5g7hF27eFnluKaVTJmAisTP4HURtAAoLse+4demr08ETZ6KZRTYNd2vubGGsUbNlubcZkluSxhBVIfQQOAxQylTJn2plZvqFY8q0wZWV3sK84zp7D6GreptDBDt036MkMlgIcQNADsx0wUvf0Pb6miqlmxUImjgcMEDDXtUG6oWTd9/2SNH9XXvgLAKwgaANo1d8l6PfDMfK3buEu5XYoU9ecqlFMon69jq+LNqau+aI3CddUqKszW1d8aqzNPHGxfBeA1BA0An8pMGJ29cK3emL9OCz74SDm5+QrHMhXIyJQ/ELIe016vh7XdeaJ5Mft1mJ6LUKBZdTVVGjmkpyaO7a8JJxzFRE8gDRA0ABy0puaI5i35SCvLd+jDdTtVUbX37JQVa7dZn9vq37tEoVBAXXOzdOyQMvXtWWgNjZgTZQGkD4IGAABwDFuQAwAAxxA0AACAYwgaAADAMQQNAADgGIIGAABwDEEDAAA4hqABAAAcQ9AAAACOIWgAAADHEDQAAIBjCBoAAMAxBA0AAOAYDlUDcEjMsfEr1+9Q+aZK7aqut+rmLFpvfW7rhGG9lB0KWqe1Du5XYp3eyrHwQPohaAD4TFsq9mjukvX666wPtW7jLuXm5Snuy1RzNGBdz8jqYn1uq7nRHCEfV8AfU0CNaqpvUFFhti4+c7jGjeqjfj2L9j4QgKcRNAC0a2d1nZ6b8b5mzF2lqj2NiTCRn0gUBe2GioMVCdcr2liZSCE1yg4FdPJxffWdr45Wj9Ku9iMAeA1BA8B+mpojevjPC/XirOWKBvIVSASMYCjHvpo8keYGNTfsUTBSpbNPGqhJ3zzBGmYB4C0EDQCtps/+UPc9MVe+UJECOSXy+fcOjTgpHo8pWr9D0caduuKCMbrorOHKzAjaVwGkOoIGAL2zbJOmTJulunBI/pzu8gcy7CudJx6LJgLHNgVjtZpy5akaP6qvfQVAKiNoAGnuqVfe1Z9eXqpI6AhHhkgOVTTSJNVv1rkn9dfky8bbtQBSFUEDSFNmLsaUh97UOyuqFc/uLp/PXdvqxOu3q2+pT/ffcDZzN4AURtAA0pDZC2PSr6dr656Q/FnFdq37xJp2Kz9UrQd/dg4rU4AURdAA0szK8h265s6/qzFQ1qGlqp3FLIn1N27SQzefY238BSC1EDSANGL2xrj85hfUkNFTgWDqDEeYiaL++nI9/Itz2egLSDGcdQKkCTMn49o7X1WdrySlQoZhltlGsnpr0q+mW8M+AFIHQQNIE2bip5mTkQrDJe0x4cgM95i5JSY0AUgNBA0gDTz64iItXLHb1RM/D4YJSSYsmdAEIDUQNACPM5txPTNzuXzZZXZNajNhyYQmE54AuB9BA/A4s+On2YzLbftkdIQJTY/9bZE1uRWAuxE0AA97Yvpi1TVnu2LHz2QyocmfVaJpzy2wawC4FUED8CgzYdIML/izS+0ab8nILdas+eXaUrHHrgHgRgQNwKOmPjVPvsxuh+WAtM5gejXiWWWaMo2JoYCbETQADzJzF16es8I66t3LQjkFWvnRLmu3UwDuRNAAPOjxlxbLF+rmqQmgBxIPlej3zzJXA3ArggbgQa/PXaNAdr5d8rZQdoEWf7iJTbwAlyJoAB5TvrlSDeGoghnZdo23me3JQ1m5emfpJrsGgJsQNACPeeP/1sifmR69GS3Cvjy9Nm+NXQLgJpzeis9twZpdenzOOn2wsVo1DXu7rYMBn0b0KdSlJ/bVFwcVKzsUsOrReS649mlVRoqVkZln13hfLNqscOVK/fOJH9o1ANyCoIFDtq26Qbc8+77eWVdp17TPhI7HJ43VsCML7Bo4zaw2Oe+qJ5VbNsyuSZ7TRpfqG6f0UP8euXaNtLGiQVOfX6v31u62aw5s/NBumvLdIXp4ermef2uLXZs8kerVmnrjGRo+qLtdA8ANGDrBIdlUWa8L73/7M0OGEYnG9Z1p8zXj3eS/qaB9Zp5CZm5Xu5QcJjA+cM0I3XjJwP1ChtG7NFv3XDlU1100wK5p38Beebrp3wbZJWdE/DnM0wBciKCBgxaJxnTXS8tbh0mMIT276q//caLeu+ss6+O1m0/RxeP62Ff3ho3b/rJUlbVNdg2ctKu6XtF4coerbrh4kIYcmacd1U266ZFlmnjdXOvjrBvm6d7n1qgpHNPEMaUae0yR/Yz9maDyk68fpcyQs81NXEFt21VrlwC4BUEDB+39DdV6a3mFXZImHFOq564ZrwFlXewaqawgWz87/wu67Et97RqpoTmq5+ZtsEt7e0VO/M/XNeKGGRp7y/9+IoQ0JR5/xu2zrevmo70ekfKKWk36w79aHzP6ppm65dn3tGZbjf2IfTr75x1OFVV1isaSFzTMcMeEUcXaVtmoH9zzrt5ZWW1f2RsiZy7crjueXqWA36eLJvS0r+zv4i/30sBeuZo+d6td4wx/IBE0dnLIGuA2BA0ctDeXbre/krIzAvrF14fapU/68ZmDEqEjyy5JcxIBxSy5TIYXF27U+ff8U/NW7bRr9r7pvbJ4iy6aOjfpQzWd/fM6YktFjfzB5G05fvLI4kRwiev3fytXbZuerLYWLK/U069vtD4+zgSVb59xpP7wynotXvXZ8zg6wh8IJYIWPRqA2xA0cFDMsMmGnfV2SRo7qJuK8jLt0idlJoLIxGFldkn6qKIuETQ6vqHS4vJKTXl+qV36JBMAbn3ufX2wYd+/vDuis39eR23cvluB4IFfl0Nhhjy6d8uyhkyWrjvwwWXm/4PHZ27Yr7fDyAoFNPkbR2lp+R5HJn9+nD8Y0vad7uphAkDQwEEy/6pduXXfm83g7p894fCoI5K7vNKEncfnlNulvfND5v/69Na5IWP6750jYN74/jh7rfV1R3T2z0uGquoG+QJBu9QxwYBf3YsytXN3+IC9GZ/mP745QNlZAWtopTOYw+NqahvtEgC3IGggZWzb3ajF6/eudjH/2r71a8e07tNh5oZcdcZA62tja3Vjh4dqOvvnJUN9Y1h+f3KCRkdcdnpva27HY69+pIqqzpkIbM51iUQP/2sAYH8EDaSMisQbf8uKF9OLcOmD/9c6OdN8fHfavoO1kjFU09k/LxmCQb/i8Zhd6hjTo7O1sknF+SHlZR98eDFLWS+a0MuaKNoZQyYA3I2ggYNiVhW0HS5pO4xyIGu375uY16c0V9mhT75ZNcdi2lzZYJeS50Dft7N/Xmc7oriLYpGwXeoYE6627mpUSUGmhvb/9KGymy8drJl3j7OWuI79QqG1lPXM44/Q6/eOb/0wm3UZPzyvX+tjkykaaVJh/v77fAA4/AgaOChmvP7I4hy7JM1ftWu/ZaJmiei5d72lR2evtYYQTPn1D7bZV6VTji496O3Id9Q0qa7p03sHzKqX2b84tXX/jo9/LLrjzIPekbSzf56TSgvzFIsmJ2gYf5mzWZFIXFed3++AvRqmB2NcIjR81qRRp5ltyAu77rtHAbgDQQMH7dShR9hf7d0b45d/3bca49UlW6xVKVNnrNKlD87TlX98R9uq907MM2/SF4070vr6YLQdsmirND9LXew3O/PzzVkrydDZP89JZcW5iTfc5A3hrN5Uq3nLKlVWlKVHfjpS55+4b3tvM2/liq/00f1XDbN6MF56e6s1afTJ/93YuqlX248pj62wnme2ID/z+nman/i+yRRP/N7FhfRoAG5D0MBBG574F/vJR5faJWn2sgprHwmzadW5o3vq1xcNt96Y12yrbd2i3LwZ/c8Pjz/gUljTPf/IrDWtEynNm/lPHl9kff1xZYk3/mP77utuNzuOtmyYZeYT/OSxRa3zJ679U/vfo7N/Xmcr65Ynn5IXNIy7nlmlFRtqrSGUq77Wv3UoZMZd43TRqb2skOGG+RjRaDgRtNLnIDkgVXCoGg6J2WXzW4lw0V4PwIGYsHHV6QN18fi+1vCJGVY57+5/tPZ4fJbfXjJCZ43sYX1t9rVoOwmzPebntT3MrbN/3uE0ffaHuv+Z9xTscvA9SAfD/I7mUDWzy2eP4n0bsZlD1R7627pP7KHRHqcPVauv3mKtdvnRRWPtGgBuQI8GDkmvohw9P/nE1j0kDobpRTBDKuZIecNs5nXHxSOsr9vTtyRXR/dsf/Lhsf2KNOXCA+9Ialwx4aj93vQ7++cdTsMGlSkaTv423OY1NL0Wl9+xaL/hkO/dufigQoYxd+ku6zlO9Xxk+hut3x+AuxA0cMjMHhJ//NEJeuQHx2vcoOLWeQyG+Zfv6EQIuefSkfsdrvbxeRrmDdw8v21gMW/415w1SE//+Isq7brvX80f97Xje7f+7LbMzzUHvE06fd/+Fi06++cdLv16Fingj1srMNKJWdJbV7dHY4b2smsAuAVDJ3CUmQPxyBtrrDDyu8tH27Vw0j1/+qemv12hzK7p86/7prpdGtnHr/+66Ry7BoBbEDQAj3ln2SZd/7tZCnYdYNd4X6RmgyZfPELnTfiCXQPALRg6ATxmzDG9FGlqtPaVSAdm2CRcv1sTjj/KrgHgJgQNwIPGjjhS4QZnj2V3i0hTnXr3KFCX3OScWgsguQgagAddccEY+Zt32iVv84V36ocXHmeXALgNQQPwoMH9SjS4TzeF6w9u6WmqioTrlZsZZdgEcDGCBuBRt18zUbH6zUk7zdWVGrdoyqQv2wUAbkTQADyquCBXp48boOY6bw6hmN6agb3yrcmvANyLoAF42LWXjlcwUuXNFShN23Tdt8fbBQBuRdAAPMysxLjiwtFS43a7xhsiDbs05gs9rLkoANyNoAF43MVnjdDIAV2tN2cvaG6qVXFOnTUHBYD7ETSANGDelM2bs3mTTmXmDJfcWIWm3XqeMjP2nbEDwL0IGkAaMG/K5s3ZvEmn6oFrZvWMr36j7rv+TGuiK4DUQNAA0oR5c77j2tPkb9yUkkte47Ub9LPvjWdeBpBiCBpAGhk+qLuuveR4qa5c8VjUrnU3E4piNev1o6+P0MQvps9BcYBXcHorkIbeX7VVk++eqVhWLwVDOXat+5hhHjNcYnoyCBlAaiJoAGlqS8UeXf3bV7Q7XCB/Zr5d6x5m4qqZU2LmZDBcAqQuggaQxmrqmjT5rle1dntcwdwj7NrDzyzFNatkzARWJn4CqY2gAUB3PfYPvTR7eSJs9FIop8Cu7XzNjTWKN2y2NuMyS3JZwgqkPoIGAIsZSpky7U2t3lCteFaZMrK62FecZ05h9TVuU2lhhm6b9GWGSgAPIWgA2I+ZKHr7H95SRVWzYqESRwOHCRhq2qHcULNu+v7JGj+qr30FgFcQNAC0a+6S9Xrgmflat3GXcrsUKerPVSinUD5fx1bFm1NXfdEaheuqVVSYrau/NVZnnjjYvgrAawgaAD6VmTA6e+FavTF/nRZ88JFycvMVjmUqkJEpfyBkPaa9Xg9ru/NE82L26zA9F6FAs+pqqjRySE9NHNtfE044iomeQBogaAA4aE3NEc1b8pFWlu/Qh+t2qqJq79kpK9Zusz631b93iUKhgLrmZunYIWXq27PQGhoxJ8oCSB8EDQAA4Bi2IAcAAI4haAAAAMcQNAAAgGMIGgAAwDEEDQAA4BiCBgAAcAxBAwAAOIagAQAAHEPQAAAAjiFoAAAAxxA0AACAYwgaAADAMQQNAADgGE5vBXBIauqatHL9DpVvqtSu6nqrbs6i9dbntk4Y1kvZoaB1LPzgfiXWMfHFBbn2VQDpgqAB4DNtqdijuUvW66+zPtS6jbuUm5enuC9TzdGAdT0jq4v1ua3mxtrE/8YV8McUUKOa6htUVJiti88crnGj+qhfz6K9DwTgaQQNAO3aWV2n52a8rxlzV6lqT2MiTOQnEkVBu6HiYEXC9Yo2ViZSSI2yQwGdfFxffeero9WjtKv9CABeQ9AAsJ+m5oge/vNCvThruaKBfAUSASMYyrGvJk+kuUHNDXsUjFTp7JMGatI3T7CGWQB4C0EDQKvpsz/UfU/MlS9UpEBOiXz+vUMjTorHY4rW71C0caeuuGCMLjpruDIzgvZVAKmOoAFA7yzbpCnTZqkuHJI/p7v8gQz7SueJx6KJwLFNwVitplx5qsaP6mtfAZDKCBpAmnvqlXf1p5eXKhI6wpEhkkMVjTRJ9Zt17kn9Nfmy8XYtgFRF0ADSlJmLMeWhN/XOimrFs7vL53PXtjrx+u3qW+rT/TeczdwNIIURNIA0ZPbCmPTr6dq6JyR/VrFd6z6xpt3KD1XrwZ+dw8oUIEURNIA0s7J8h6658+9qDJR1aKlqZzFLYv2Nm/TQzedYG38BSC0EDSCNmL0xLr/5BTVk9FQgmDrDEWaiqL++XA//4lw2+gJSDGedAGnCzMm49s5XVecrSamQYZhltpGs3pr0q+nWsA+A1EHQANKEmfhp5mSkwnBJe0w4MsM9Zm6JCU0AUgNBA0gDj764SAtX7Hb1xM+DYUKSCUsmNAFIDQQNwOPMZlzPzFwuX3aZXZPaTFgyocmEJwDuR9AAPM7s+Gk243LbPhkdYULTY39bZE1uBeBuBA3Aw56Yvlh1zdmu2PEzmUxo8meVaNpzC+waAG5F0AA8ykyYNMML/uxSu8ZbMnKLNWt+ubZU7LFrALgRQQPwqKlPzZMvs9thOSCtM5hejXhWmaZMY2Io4GYEDcCDzNyFl+essI5697JQToFWfrTL2u0UgDsRNAAPevylxfKFunlqAuiBxEMl+v2zzNUA3IqgAXjQ63PXKJCdb5e8LZRdoMUfbmITL8ClCBqAx5RvrlRDOKpgRrZd421me/JQVq7eWbrJrgHgJgQNwGPe+L818memR29Gi7AvT6/NW2OXALgJQQPwmBlvr5Yyutql9JCZU6jZC9baJQBuwjHxgIeY1SbnXfWkcsuG2TXJc9roUn3jlB7q3yPXrpE2VjRo6vNr9d7a3XbNPped3lvfPuNIu7S/h6eX6/m3ttil5IhUr9bUG8/Q8EHd7RoAbkCPBuAhZp5CZm5yezOCAZ8euGaEbrxk4H4hw+hdmq17rhyq6y4aYNfs07u0c3cjjfhzmKcBuBA9GoCHPP3KEj380ipldu1l13TczZcO1oRRxdpR3aT7/rxG76ystupNADG9HFd/rb+CQZ+mPL5C85dVtl67/+rhKsgLatJ976m2wfkVIQ17tuvs4wt1879PsGsAuAE9GoCHVFTVKRoL2KWOGz+0mxUytlU26gf3vNsaMoxINK6ZC7frjqdXKeD36aIJPe0rJmj41b0oUzt3hzslZBj+QFDbdnLIGuA2BA3AQ7ZU1MgfTN6W4yePLE4El7h+/7fyAwaGBcsr9fTrG62PFmZIJSsU0KYdDXaN8/yBUCJo1dolAG5B0AA8ZOP23QoEM+1Sx5jhj+7dsqwhk6XrDnxwmenZeHzmhv16O0oLMpUZ8isSievh60bq9XvHWx93TxqqEUc5s/TWHwxp+84auwTALQgagIdUVTfIFwjapY7pyPBH/x57J4KeM65svwmkIwfk684fHaOxxxTZNcljDo+rqW20SwDcgqABeEh9Y1h+f3KCRke0rDh5Y1GFvnbrAk28bq7OumGeVf74fI5kMee6RKJRuwTALQgagIcEg37F4zG71DGRaExbK5tUnB9SXvahhZfbn1pphYs7/9/q1t4QM8Ry73NrtGJDrQb1zlNpYXKGeAC4G0ED8JAjirsoFgnbpY4xwWDrrkaVFGRqaP9P35vDLIGdefe4zxwSafmeTohGmlSYv/8+HwAOP4IG4CGlhXmKRZMTNIy/zNlsTei86vx+B+zVGNgrT+MSAaNl0qhZbfL8bcfryVtGf+I5LRNMK/eEVd+Y3GGOWLRZhV07d5MwAJ+NoAF4SFlxbuINN3n7VqzeVKt5yypVVpSlR346UuefuG97bxMarvhKH91/1TBrhclLb2+1hkkaw1EtXr3bes4tlw1uDRv9uudYm3gNOTJP767ZnfT9NeKJ37u4kB4NwG3YGRTwkEdf+Jcem1GurK7Jm2zZssunCQgHYjbuMvMvWphejaduGa38vE/u6WE2/3Jit9CGmgqdOqKLfnnVaXYNADegRwPwEPMv+qAvuUMSZl7F5Afft4LElp37z68wh6rd9Miy/UKGYXo1rv/vpZq7dJddI2vjL7PXhlNbkpsejR7FBw5DAA4PejQADynfXKnLb3lBmd2OtmvSR3TPOv3qyi9p/Ki+dg0AN6BHA/CQfj2LFPDHrRUY6cQs6a2r26MxQ5N3mByA5CBoAB7zlZOHKFJfZZfSQzjx+54wrI8yMw7/ZmUA9kfQADzmlDH9FFB6HS4WiNXptLH97RIANyFoAB4z5pheijQ1WvtKpAMzbBKu360Jxx9l1wBwE4IG4EFjRxypcMNuu+RtkaY69e5RoC65bGkOuBFBA/CgKy4YI3/zTrvkbb7wTv3wwuPsEgC3IWgAHjS4X4kG9+mmcH21XeNNkXC9cjOjDJsALkbQADzq9msmKla/OWmnubpS4xZNmfRluwDAjQgagEcVF+Tq9HED1FznzSEU01szsFe+NfkVgHsRNAAPu/bS8QpGqry5AqVpm6779ni7AMCtCBqAh5mVGFdcOFpq3G7XeEOkYZfGfKGHNRcFgLsRNACPu/isERo5oKv15uwFzU21Ks6ps+agAHA/ggaQBsybsnlzNm/Sqcyc4ZIbq9C0W89ju3EgRRA0gDRg3pTNm7N5k07VA9fM6hlf/Ubdd/2Z1kRXAKmBoAGkCfPmfMe1p8nfuCkll7zGazfoZ98bz7wMIMUQNIA0MnxQd117yfFSXbnisahd624mFMVq1utHXx+hiV8cYNcCSBW+eIL9NYA08f6qrZp890zFsnopGMqxa93HDPOY4RLTk0HIAFITQQNIU1sq9ujq376i3eEC+TPz7Vr3MBNXzZwSMyeD4RIgdRE0gDRWU9ekyXe9qrXb4wrmHmHXHn5mKa5ZJWMmsDLxE0htBA0Auuuxf+il2csTYaOXQjkFdm3na26sUbxhs7UZl1mSyxJWIPURNABYzFDKlGlvavWGasWzypSR1cW+4jxzCquvcZtKCzN026QvM1QCeAhBA8B+zETR2//wliqqmhULlTgaOEzAUNMO5YaaddP3T9b4UX3tKwC8gqABoF1zl6zXA8/M17qNu5TbpUhRf65COYXy+Tq2Kt6cuuqL1ihcV62iwmxd/a2xOvPEwfZVAF5D0ADwqcyE0dkL1+qN+eu04IOPlJObr3AsU4GMTPkDIesx7fV6WNudJ5oXs1+H6bkIBZpVV1OlkUN6auLY/ppwwlFM9ATSAEEDwEFrao5o3pKPtLJ8hz5ct1MVVXvPTlmxdpv1ua3+vUsUCgXUNTdLxw4pU9+ehdbQiDlRFkD6IGgAAADHsAU5AABwDEEDAAA4hqABAAAcQ9AAAACOIWgAAADHEDQAAIBjCBoAAMAxBA0AAOAYggYAAHAMQQMAADiGoAEAABxD0AAAAI4haAAAAMcQNAAAgGMIGgAAwDEEDQAA4BiCBgAAcAxBAwAAOIagAQAAHEPQAAAAjiFoAAAAxxA0AACAYwgaAADAMQQNAADgGIIGAABwDEEDAAA4hqABAAAcQ9AAAACOIWgAAADHEDQAAIBjCBoAAMAxBA0AAOAYggYAAHAMQQMAADiGoAEAABxD0AAAAI4haAAAAMcQNAAAgGMIGgAAwDEEDQAA4BiCBgAAcAxBAwAAOIagAQAAHEPQAAAAjiFoADgkGzduVJ8+fZSXl6dly5ZZdZFIRNddd518Pp+effZZq8549NFHrbrvf//7dg2AdEPQAHBITKioqalRc3Oz6urqWuuef/556+sVK1ZYn42WIPLuu++qvr7e+hpAeiFoADgkwWBQXbp0UUZGhvr169dad+GFF1pfDxkyxPpsHHPMMdbnkSNHKicnx/oaQHrxxRPsrwEAAJKKHg0AAOAYggYAAHAMQQMAADiGoAEAABxD0AAAAI4haAAAAMcQNAAAgGMIGgAAwDEEDQAA4BiCBgAAcAxBAwAAOET6//lm7EqILphIAAAAAElFTkSuQmCC\" alt=\"\" />"
      ]
    },
    {
      "cell_type": "markdown",
      "metadata": {
        "id": "S_-4SoVU-Yzf"
      },
      "source": [
        "## Import libraries"
      ]
    },
    {
      "cell_type": "code",
      "execution_count": 1,
      "metadata": {
        "colab": {
          "base_uri": "https://localhost:8080/"
        },
        "id": "RmnycY4HEQSJ",
        "outputId": "43a11862-2be3-45be-81db-7aedd9148ecc"
      },
      "outputs": [
        {
          "data": {
            "text/plain": [
              "15"
            ]
          },
          "execution_count": 1,
          "metadata": {},
          "output_type": "execute_result"
        }
      ],
      "source": [
        "import random\n",
        "\n",
        "random.randint(10,20)"
      ]
    },
    {
      "cell_type": "markdown",
      "metadata": {
        "id": "yb3alGVT-xZd"
      },
      "source": [
        "## Base code"
      ]
    },
    {
      "cell_type": "code",
      "execution_count": 4,
      "metadata": {
        "colab": {
          "base_uri": "https://localhost:8080/"
        },
        "id": "eDOL5L5-i9dh",
        "outputId": "07fadba5-197e-4b74-ce5c-3df48d386683"
      },
      "outputs": [
        {
          "name": "stdout",
          "output_type": "stream",
          "text": [
            "Time 0: C0 went to station 1.\n",
            "Time 31: C0 has left station 1.\n",
            "Time 32: C1 went to station 1.\n",
            "Time 54: C1 has left station 1.\n",
            "Time 55: C2 went to station 1.\n",
            "Time 86: C2 has left station 1.\n",
            "Time 87: C3 went to station 1.\n",
            "Time 96: C3 has left station 1.\n",
            "Time 97: C4 went to station 1.\n",
            "Time 136: C4 has left station 1.\n",
            "Time 137: C5 went to station 1.\n",
            "Time 148: C5 has left station 1.\n",
            "Time 149: C6 went to station 1.\n",
            "Time 199: C6 has left station 1.\n",
            "Time 200: C7 went to station 1.\n",
            "Time 211: C7 has left station 1.\n",
            "Time 212: C8 went to station 1.\n",
            "Time 251: C8 has left station 1.\n",
            "Time 252: C9 went to station 1.\n",
            "Time 259: C9 has left station 1.\n",
            "Time 260: C10 went to station 1.\n",
            "Time 307: C10 has left station 1.\n",
            "Time 308: C11 went to station 1.\n",
            "Time 315: C11 has left station 1.\n",
            "Time 316: C12 went to station 1.\n",
            "Time 330: C12 has left station 1.\n",
            "Time 331: C13 went to station 1.\n",
            "Time 354: C13 has left station 1.\n",
            "Time 355: C14 went to station 1.\n",
            "Time 389: C14 has left station 1.\n",
            "Time 390: C15 went to station 1.\n",
            "Time 434: C15 has left station 1.\n",
            "Time 435: C16 went to station 1.\n",
            "Time 481: C16 has left station 1.\n",
            "Time 482: C17 went to station 1.\n",
            "Time 499: C17 has left station 1.\n",
            "Time 500: C18 went to station 1.\n",
            "Time 524: C18 has left station 1.\n",
            "Time 525: C19 went to station 1.\n",
            "Time 538: C19 has left station 1.\n"
          ]
        }
      ],
      "source": [
        "n = 20\n",
        "customers = [f'C{i}' for i in range(n)]\n",
        "queue_done = []\n",
        "\n",
        "station1_occupied = None\n",
        "\n",
        "time = 0\n",
        "station1_time, station1_time_passed = 10, 0\n",
        "\n",
        "\n",
        "while customers or station1_occupied:\n",
        "  if station1_occupied == None:\n",
        "    if customers:\n",
        "      person = customers.pop(0)\n",
        "      station1_occupied = person\n",
        "      station1_time = random.randint(5,50)\n",
        "      print(f\"Time {time}: {person} went to station 1.\")\n",
        "  else:\n",
        "    if station1_time_passed < station1_time:\n",
        "      station1_time_passed += 1\n",
        "    else:\n",
        "      person = station1_occupied\n",
        "      station1_occupied = None\n",
        "      queue_done.append(person)\n",
        "      station1_time_passed = 0\n",
        "      print(f\"Time {time}: {person} has left station 1.\")\n",
        "\n",
        "  time += 1"
      ]
    },
    {
      "attachments": {},
      "cell_type": "markdown",
      "metadata": {
        "id": "LYfWF6dZ-38C"
      },
      "source": [
        "## Exercise: Add more stations"
      ]
    },
    {
      "cell_type": "code",
      "execution_count": 69,
      "metadata": {
        "colab": {
          "base_uri": "https://localhost:8080/"
        },
        "id": "LlO9bS6BHb__",
        "outputId": "3cd6f3c0-8c81-434b-b081-6b146f90d81e"
      },
      "outputs": [
        {
          "name": "stdout",
          "output_type": "stream",
          "text": [
            "Time 0: C0 went to station 1.\n",
            "Time 0: C1 went to station 2.\n",
            "Time 20: C1 has left station 2.\n",
            "Time 21: C2 went to station 2.\n",
            "Time 48: C0 has left station 1.\n",
            "Time 48: C2 has left station 2.\n",
            "Time 49: C3 went to station 1.\n",
            "Time 49: C4 went to station 2.\n",
            "Time 56: C4 has left station 2.\n",
            "Time 57: C5 went to station 2.\n",
            "Time 65: C5 has left station 2.\n",
            "Time 66: C6 went to station 2.\n",
            "Time 90: C6 has left station 2.\n",
            "Time 91: C7 went to station 2.\n",
            "Time 96: C3 has left station 1.\n",
            "Time 97: C8 went to station 1.\n",
            "Time 112: C8 has left station 1.\n",
            "Time 113: C9 went to station 1.\n",
            "Time 119: C7 has left station 2.\n",
            "Time 120: C10 went to station 2.\n",
            "Time 121: C9 has left station 1.\n",
            "Time 122: C11 went to station 1.\n",
            "Time 150: C10 has left station 2.\n",
            "Time 151: C12 went to station 2.\n",
            "Time 156: C11 has left station 1.\n",
            "Time 157: C13 went to station 1.\n",
            "Time 196: C12 has left station 2.\n",
            "Time 197: C14 went to station 2.\n",
            "Time 208: C13 has left station 1.\n",
            "Time 209: C15 went to station 1.\n",
            "Time 230: C14 has left station 2.\n",
            "Time 231: C16 went to station 2.\n",
            "Time 246: C15 has left station 1.\n",
            "Time 247: C17 went to station 1.\n",
            "Time 263: C16 has left station 2.\n",
            "Time 264: C18 went to station 2.\n",
            "Time 276: C18 has left station 2.\n",
            "Time 277: C19 went to station 2.\n",
            "Time 291: C17 has left station 1.\n",
            "Time 320: C19 has left station 2.\n"
          ]
        }
      ],
      "source": [
        "# modify the code above..."
      ]
    },
    {
      "cell_type": "code",
      "execution_count": 70,
      "metadata": {
        "colab": {
          "base_uri": "https://localhost:8080/"
        },
        "id": "XORbdrEYJ530",
        "outputId": "9ee7b6b2-9e30-417a-b776-88d5f81a2b26"
      },
      "outputs": [
        {
          "data": {
            "text/plain": [
              "[{'name': 1, 'station_occupied': None, 'time': 43, 'time_passed': 0},\n",
              " {'name': 2, 'station_occupied': None, 'time': 42, 'time_passed': 0}]"
            ]
          },
          "execution_count": 70,
          "metadata": {},
          "output_type": "execute_result"
        }
      ],
      "source": [
        "stations"
      ]
    },
    {
      "cell_type": "markdown",
      "metadata": {
        "id": "VQduyDwp-_kg"
      },
      "source": [
        "## Check queue"
      ]
    },
    {
      "cell_type": "code",
      "execution_count": 71,
      "metadata": {
        "colab": {
          "base_uri": "https://localhost:8080/"
        },
        "id": "sRy-FyZwl3pN",
        "outputId": "43bc0483-552e-4419-f83f-be6f748f586b"
      },
      "outputs": [
        {
          "data": {
            "text/plain": [
              "[]"
            ]
          },
          "execution_count": 71,
          "metadata": {},
          "output_type": "execute_result"
        }
      ],
      "source": [
        "customers"
      ]
    },
    {
      "cell_type": "code",
      "execution_count": 72,
      "metadata": {
        "colab": {
          "base_uri": "https://localhost:8080/"
        },
        "id": "Wxd8W91Dpu5_",
        "outputId": "d1a5c296-f184-403d-d850-7d3a647619ed"
      },
      "outputs": [
        {
          "data": {
            "text/plain": [
              "['C1',\n",
              " 'C0',\n",
              " 'C2',\n",
              " 'C4',\n",
              " 'C5',\n",
              " 'C6',\n",
              " 'C3',\n",
              " 'C8',\n",
              " 'C7',\n",
              " 'C9',\n",
              " 'C10',\n",
              " 'C11',\n",
              " 'C12',\n",
              " 'C13',\n",
              " 'C14',\n",
              " 'C15',\n",
              " 'C16',\n",
              " 'C18',\n",
              " 'C17',\n",
              " 'C19']"
            ]
          },
          "execution_count": 72,
          "metadata": {},
          "output_type": "execute_result"
        }
      ],
      "source": [
        "queue_done"
      ]
    },
    {
      "cell_type": "markdown",
      "metadata": {
        "id": "tp9vhl21y7gK"
      },
      "source": [
        "## End\n",
        "<sup>made by **Jude Michael Teves**</sup> <br>\n",
        "<sup>for comments, corrections, suggestions, please email:</sup> <sup>judemichaelteves@gmail.com or jude.teves@dlsu.edu.ph</sup><br>\n"
      ]
    }
  ],
  "metadata": {
    "colab": {
      "provenance": [],
      "toc_visible": true
    },
    "kernelspec": {
      "display_name": "base",
      "language": "python",
      "name": "python3"
    },
    "language_info": {
      "codemirror_mode": {
        "name": "ipython",
        "version": 3
      },
      "file_extension": ".py",
      "mimetype": "text/x-python",
      "name": "python",
      "nbconvert_exporter": "python",
      "pygments_lexer": "ipython3",
      "version": "3.7.3"
    },
    "vscode": {
      "interpreter": {
        "hash": "6f5583cf1d9466b5c27e75c89cc6b383bed5736d6b16c51c8074d8690011a952"
      }
    }
  },
  "nbformat": 4,
  "nbformat_minor": 0
}
